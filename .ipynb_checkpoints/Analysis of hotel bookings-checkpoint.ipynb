{
 "cells": [
  {
   "cell_type": "markdown",
   "metadata": {},
   "source": [
    "## Questions of interest "
   ]
  },
  {
   "cell_type": "markdown",
   "metadata": {},
   "source": [
    "Hotel industry is a complicated field for data analysis. Hotel performance depends on a lot of variables: location, room types distribution, meals, tour operators, time of the year flights capacity, etc.\n",
    "\n",
    "Booking data is the one of the most granular data in the hotel industry from the perspective of the revenue: one can disclose time paterns or try to predict outcomes like wheter a booking will end up in a cancellation.\n",
    "\n",
    "We'll try to use an open dataset with information of two real hotels to answer questions of interest regarding the industry, and those hotels in particular.\n",
    "\n",
    "This analysis takes data from a [Kaggle dataset](https://www.kaggle.com/jessemostipak/hotel-booking-demand) that in turns takes it from [siencedirect.com](https://www.sciencedirect.com/science/article/pii/S2352340918315191). It's real booking data from two hotels in Portugal: one resort hotel and one city hotel, with arrivals from july 2015 to august 2017, including a total of 21 variables. For more detail information about the dataset you can go visit the [dataset from Kaggle](https://www.kaggle.com/jessemostipak/hotel-booking-demand)\n",
    "\n",
    "There are three question that this analyisis will try to solve and that there are important from a business perspective.\n",
    "\n",
    "**1. How strong is the seasonality in the hotels?**\n",
    "\n",
    "Hotels, spetially resort hotels are known to have strong seasonality. If you are managing one of this hotels or if you want to introduce yourself in a market, a very basic point is to understand the seasonality patterns. ¿how strong is the seasonality? ¿When does the 'summer season' beggins in this location (April, May, ...)?\n",
    "\n",
    "**2. Up to what point adr, length of stay and lead time for groups reservation difers from individual / transient ones?**\n",
    "\n",
    "This question is important from the revenue point of view: if groups usually make reservations with a lot of antelation, they could by at a cheaper price, since ussually there are erly booking offers, and prices tend to be higher when there is little antelation. In this situation, an hotelier can have an hotel nearly at the top of its capacity for a series of consecutive nights, that have been sold at a very low price, because a group made the reservation well on advance. Moreover, if a group comes to an event that takes place for only two days, say tuesday and wenedsday (in the middle of the week), and this group makes for 80 or 90 % of the hotel rooms, in some hotels it will me more difficultto fill up the hotel for that particular week. It will be more difficult to sell a room when you are forced to sell it \"from thursday to sunday\". For this reason sometimes the price for a group should be higher than the average rate.\n",
    "\n",
    "**3. Can we predict a cancellation, just with the information available at the moment this reservation has been made?**\n",
    "\n",
    "If we can predict wether or not a booking will be cancelled we can target this client (if posible) for specific marketing campaigns for clients that will likely cancel a reservation if no action is taken."
   ]
  },
  {
   "cell_type": "markdown",
   "metadata": {},
   "source": [
    "## Libraries "
   ]
  },
  {
   "cell_type": "code",
   "execution_count": 1,
   "metadata": {},
   "outputs": [],
   "source": [
    "import pandas as pd\n",
    "import numpy as np\n",
    "import matplotlib.pyplot as plt\n",
    "import seaborn as sns\n",
    "from datetime import datetime as dt, timedelta\n",
    "import statsmodels.api as sm\n",
    "import calendar\n",
    "from scipy.stats import mannwhitneyu, ttest_ind\n",
    "from sklearn.model_selection import train_test_split\n",
    "from sklearn.ensemble import RandomForestClassifier\n",
    "from sklearn.metrics import accuracy_score, roc_auc_score\n",
    "from sklearn.metrics import confusion_matrix, classification_report\n",
    "from sklearn.model_selection import GridSearchCV, cross_val_score"
   ]
  },
  {
   "cell_type": "markdown",
   "metadata": {},
   "source": [
    "## Helper functions\n",
    "\n",
    "Below, there are several functions created specifically for this analysis."
   ]
  },
  {
   "cell_type": "code",
   "execution_count": 2,
   "metadata": {},
   "outputs": [],
   "source": [
    "def compute_main_kpis(dat, grouping_variables):\n",
    "    \n",
    "    ''' \n",
    "    Computes common KPIs (revenue, roomnights, adr) for any given level of aggregation from a DataFrame\n",
    "    ASSUME:  the DataFrame includes the colum lenght_of_stay, revenue and roomnights\n",
    "    \n",
    "    INPUTS\n",
    "        - dat: DataFrame with booking data\n",
    "        - grouping_variables: list of variables whose grouping is the basis of the computation\n",
    "        \n",
    "    OUTPUT:\n",
    "        - Data frame with columns 'revenue', 'roomnights' and 'ADR' grouped by grouping_variables\n",
    "    ''' \n",
    "    \n",
    "    # computes revenue\n",
    "    dat = dat.groupby(grouping_variables).agg({\"length_of_stay\": \"sum\",  \"revenue\": \"sum\"})\n",
    "    \n",
    "    # computes roomnights\n",
    "    dat = dat.rename(columns = {'length_of_stay': 'roomnights'})\n",
    "    \n",
    "    # computes ADR\n",
    "    dat[\"adr\"] = dat[\"revenue\"] / dat[\"roomnights\"]\n",
    "    \n",
    "    return dat\n",
    "\n",
    "\n",
    "def resample_time_kpis(dat, order):\n",
    "    \n",
    "    '''\n",
    "    Computes coomon kPIs  from any given booking DataFrame with a DateTime index, resampling the DataFrame by \n",
    "    the order specified in 'order'.\n",
    "    \n",
    "    The difference between this function and compute_main_kpis is that when we group by Date we have an DateTime index from which we \n",
    "    can perform time series operations like compute the seasonal index.\n",
    "    \n",
    "    INPUTS\n",
    "        - dat: DataFrame with a datetime index\n",
    "        - order: resample order\n",
    "        \n",
    "    OUTPUT\n",
    "        DateTime indexed DataFrame with columns 'roomnights', 'revenue' and 'adr'\n",
    "    \n",
    "    ''' \n",
    "    \n",
    "    # computes roomnights and revenue\n",
    "    dat = dat.resample(order).agg({'roomnights': 'sum', 'revenue': 'sum'})\n",
    "    \n",
    "    # computes adr\n",
    "    dat['adr'] = dat['revenue'] / dat['roomnights']\n",
    "    \n",
    "    return dat\n",
    "\n",
    "def relativize_kpi(dat, kpi):\n",
    "    \n",
    "    '''\n",
    "    Divides numeric series into its maximum value\n",
    "    \n",
    "    INPUTS\n",
    "        - dat: DataFrame\n",
    "        - kpi: column we want to relativize\n",
    "        \n",
    "    ''' \n",
    "    \n",
    "    return dat[kpi] / max(dat[kpi])\n",
    "\n",
    "\n",
    "def compute_mavg(df, variable, k = 7): \n",
    "    \n",
    "    '''Computes moving average from a numerical column from a given DataFrame\n",
    "    \n",
    "    INPUTS\n",
    "        - df: DataFrame\n",
    "        - variable: str. Name of the column in the DataFrame\n",
    "        - k: int. Rolling average order\n",
    "        \n",
    "    OUTPUTS\n",
    "        Serires with the computed rolling average\n",
    "    '''\n",
    "    \n",
    "    \n",
    "    return df[variable].rolling(window = k).mean()\n",
    "\n",
    "def compute_seasonality_strength(decomp_series):\n",
    "    \n",
    "    '''\n",
    "    Computes Seasonality strengh from a decomposed time series according to the method available in the\n",
    "    following link: https://otexts.com/fpp2/seasonal-strength.html\n",
    "    \n",
    "    INPUT\n",
    "        -decomp_series: an statsmodels.tsa.seasonal object with seasonal data\n",
    "        \n",
    "    OUTPUT\n",
    "        - numeric score\n",
    "    '''\n",
    "    \n",
    "    return 1 - np.var(decomp_series.resid) / (np.var(decomp_series.resid) + np.var(decomp_series.seasonal))\n",
    "\n",
    "\n",
    "def filter_confirmed(dat):\n",
    "    \n",
    "    '''Filters confirmed reservations from a DataFrame dat\n",
    "    ASSUME: dat has a binary 'is_canceled' columns with values 0 for non canceled and 1 for canceled bookings\n",
    "    \n",
    "    IMPUT\n",
    "        - dat: DataFrame to be filtered\n",
    "        \n",
    "    OUTPUT\n",
    "        - A filtered version of the imput DataFrame with canceled bookings removed\n",
    "    '''\n",
    "    return dat[dat['is_canceled'] == 0]\n",
    "\n",
    "\n",
    "\n",
    "def arrival_to_stay(ser, group_vars = None):\n",
    "    \n",
    "    '''\n",
    "    Takes a series with an arrival date and a length of state and creates a data frame expanding the arrival date to stay dates.\n",
    "    i.e: if the lenght of stay is 3, the data frame will have three rows. Creates additional rows replicating other values from the series\n",
    "    \n",
    "    The function is meant to be used taken an individual row from the bookigns data sets in this analysis\n",
    "    \n",
    "    IMPUTS\n",
    "        - ser: Pandas series. It's mean to be a row from a booking DataFrame loaded or created in this analysis\n",
    "        - group_vars: additional columns to include in the data frame besides stay_date\n",
    "        \n",
    "    OUTPUTS\n",
    "        - Pandas DataFrame\n",
    "    '''\n",
    "        \n",
    "    # lenght of stay extraction\n",
    "    los = ser['length_of_stay']\n",
    "    \n",
    "    # gets intiial stay date\n",
    "    arrival_date = ser['arrival_date']\n",
    "    \n",
    "    # creates a range of consecutive dates taking arrival_date as first date \n",
    "    # and arrival_date + los as the last date. As we count nights not days, last day is substracted\n",
    "    # exect when length of stay is 0\n",
    "    days = pd.date_range(arrival_date, arrival_date + timedelta(days = int(los - 1 * (los > 0))))\n",
    "    \n",
    "    # helper function to create arrays with repeated values\n",
    "    def expand_point(point):\n",
    "        return np.repeat(ser[point], los + (los == 0) * 1)\n",
    "    \n",
    "\n",
    "    \n",
    "    # creating a data frame with stay_dates and repeated vallues from important kpis or dimensions\n",
    "    dat = pd.DataFrame(data = {'stay_date': days,\n",
    "                               'roomnights': np.repeat((los > 0) * 1, los + (los == 0) * 1),\n",
    "                               'revenue': expand_point(\"adr\")\n",
    "                                  }\n",
    "                      )\n",
    "    \n",
    "    \n",
    "    # include additional columns in the DataFrame\n",
    "    df_add_cols = pd.DataFrame()\n",
    "    \n",
    "    if group_vars is not None:\n",
    "        for name in group_vars:\n",
    "            df_add_cols[name] = expand_point(name)\n",
    "    \n",
    "    dat = pd.concat([dat, df_add_cols], axis = 1) \n",
    " \n",
    "    return dat\n",
    "    \n",
    "    \n",
    "def get_daily_data(booking_data, group_vars = None):\n",
    "    \n",
    "    \n",
    "    '''\n",
    "    Aggregates a bookings dataset to a daily dataset where the dates are stay dates, not arrival dates.\n",
    "    Employs \"arrival_to_stay\" function to expand each booking into a DataFrame with the number of rows equal to the \n",
    "    number of nights. Three daily kpis are obtained as a result of this aggregation: roomnights, revenue and adr\n",
    "    \n",
    "    IMPUT\n",
    "        - booking_data: DataFrame with bookings\n",
    "    \n",
    "    OUTPUT\n",
    "        - DataFrame with daily aggregated data\n",
    "        - group_vars: optional additional variables used for grouping when computing the daily data\n",
    "    \n",
    "    '''\n",
    "    \n",
    "    # creates a list of DataFrames, each one being a booking row from the input data, which has been expanded\n",
    "    # with the function arrival_to_stay\n",
    "    expanded_data_list = [arrival_to_stay(booking_data.loc[row, :], group_vars) for row in range(booking_data.shape[0])]\n",
    "    \n",
    "    # concatenates the previous list into one DataFrame\n",
    "    stay_data = pd.concat(expanded_data_list, axis = 0)\n",
    "    \n",
    "    group_list =['stay_date']\n",
    "    \n",
    "    if group_vars is not None:\n",
    "        group_list.extend(group_vars)\n",
    "\n",
    "    \n",
    "    # groups data by date, obtaining roomnights and revenue\n",
    "    daily_data = stay_data.groupby(group_list).agg({'roomnights':'sum',\n",
    "                                                     'revenue': 'sum'}).reset_index()\n",
    "    \n",
    "    # computes adr from roomnights and reveue\n",
    "    daily_data['adr'] = daily_data['revenue'] / daily_data['roomnights']\n",
    "    \n",
    "    # creates month and week columns\n",
    "    daily_data['stay_month'] = daily_data['stay_date'].dt.month\n",
    "    daily_data['stay_week'] = daily_data['stay_date'].dt.week\n",
    "    \n",
    "    # creates DateTime Index with stay_date\n",
    "    daily_data = daily_data.set_index('stay_date')\n",
    "    \n",
    "    return daily_data\n",
    "\n",
    "\n",
    "def plot_cancel_prop(df, var, grouping_var = \"hotel\", aspect = 1, rot = 0):\n",
    "    \n",
    "    '''Automatizes category chart creation to summarize proportion of cancelations grouped by a variable introduced \n",
    "    by the user. It is also posible to create an additional grouping with subplots.\n",
    "    \n",
    "    It also returns the proportion for each one of the grouping variable categories\n",
    "    \n",
    "    ASSUME: the data to create the plot is a bookings DataFrame which includes the variables 'is_canceled' and 'hotel'\n",
    "    \n",
    "    IMPUTS\n",
    "        - df: DataFrame from which the data to create the plot is taken\n",
    "        - var: variable to group the results\n",
    "        - grouping_var: varible to create subplots\n",
    "        - aspect: plot width\n",
    "        - rot: rotation of x axis\n",
    "    '''\n",
    "    \n",
    "    # computes variable categories proportion\n",
    "    prop_categories = df[var].value_counts() / sum(df[var].value_counts())\n",
    "    \n",
    "    # creates plot               \n",
    "    g = sns.catplot(x = var, y = 'is_canceled',\n",
    "                                        data = df, kind = \"bar\", col = grouping_var,\n",
    "                                        col_wrap = 2, aspect = aspect)\n",
    "    \n",
    "    # rotates x axis labels\n",
    "    g.set_xticklabels(rotation= rot)\n",
    "    \n",
    "    return prop_categories, g\n",
    "\n",
    "\n",
    "def plot_rolling_average_series(data1, kpi, label1, title, data2 = None, label2 = None,\n",
    "                                style = 'seaborn', width = 16, height = 7, alpha = 0.4,\n",
    "                                roll_window = 7):\n",
    "    \n",
    "    '''Plots a time series data and a rooling average for a numeric column from a DataFrame with a DateIndex. \n",
    "    Optionally plots a second time series from a second data frame\n",
    "    \n",
    "    IMPUTS\n",
    "        - data1: DataFrame with a DateIndex\n",
    "        - kpi: numeric column in data1\n",
    "        - label1: string with legend label for data1\n",
    "        - title: string with plot title\n",
    "        - data2 DataFrame with a DateIndex\n",
    "        - label2: string with legend label for data2\n",
    "        - style: string with matplotlib plot style\n",
    "        - width: float. Plot width\n",
    "        - height: float. Plot height,\n",
    "        - alpha: float. Rolling average series transparency\n",
    "        - roll_window: int. Window for rolling average\n",
    "        \n",
    "    OUTPUTS\n",
    "        - matplotlib.pyplot\n",
    "    \n",
    "    '''\n",
    "    \n",
    "    # set style, figure and axes\n",
    "    plt.style.use(style)\n",
    "    fig, ax = plt.subplots(figsize = (width, height))\n",
    "    \n",
    "    # plots originar series and rolling average\n",
    "    ax.plot(data1.index, data1[kpi], alpha = 0.4)\n",
    "    ax.plot(data1.index, data1[kpi].rolling(window = roll_window).mean(), label = label1)\n",
    "    \n",
    "    # plots a second series if it exists\n",
    "    if data2 is not None:\n",
    "        ax.plot(data2.index, data2[kpi], alpha = 0.4)\n",
    "        ax.plot(data2.index, data2[kpi].rolling(window = roll_window).mean(), label = label2)\n",
    "    \n",
    "    # title and legend\n",
    "    plt.title(title, loc = 'center')\n",
    "    plt.legend(loc = 'upper left')\n",
    "    \n",
    "    plt.show()\n",
    "    \n",
    "def plot_normalized_seasonality(dec_series, ax):\n",
    "    \n",
    "    '''Plots a normalized sasonality component from a decomposed time series\n",
    "    \n",
    "    INPUTS\n",
    "        - dec_series: decomposed time series\n",
    "        - ax: plot ax object\n",
    "        \n",
    "    OUTPUTS\n",
    "        - Prints a plot\n",
    "        \n",
    "        \n",
    "    '''\n",
    "    \n",
    "    (dec_series.seasonal / dec_series.seasonal.std()).plot(ax = ax)\n",
    "\n",
    "    \n",
    "    \n",
    "def sort_categories_distrib(df, var):\n",
    "    \n",
    "    '''Assigns relative frequency and cumulative relative frequency for each category of an object column in a data frame\n",
    "    and sorts it from higher to lower frequency\n",
    "    \n",
    "    INPUTS\n",
    "    \n",
    "        - df: DataFrame with the column to sort\n",
    "        - var: column to sort\n",
    "    \n",
    "    OUTPUT\n",
    "    \n",
    "    DataFrame with sorted relative frequencies\n",
    "    '''\n",
    "    \n",
    "    # series of sorted values with frequencies\n",
    "    sorted_categories = df[var].value_counts().sort_values(ascending = False)\n",
    "    \n",
    "    # computes relative frequency\n",
    "    sorted_categories = pd.DataFrame(data = sorted_categories / sum(sorted_categories)).rename(columns = {var:\"f\"})\n",
    "   \n",
    "    # computes cumulative relative frequency\n",
    "    sorted_categories['F'] = sorted_categories.f.cumsum()\n",
    "    \n",
    "    return sorted_categories\n",
    "\n",
    "\n",
    "def group_main_categories(df, var, n_categories):\n",
    "    \n",
    "    ''' Groups less frequent categories in an object column from a DataFrame assigning them the value \"other\"\n",
    "    making use of the sort_categories_distrib function. \n",
    "        \n",
    "    \n",
    "    IMPUTS\n",
    "        - df: DataFrame with column to group\n",
    "        - var: column to group\n",
    "        - n_categories: Threshold. Number of most frequent categories that won't be grouped.\n",
    "    '''\n",
    "    \n",
    "    # gets most frequent categories\n",
    "    main_categories = sort_categories_distrib(df, var).head(n_categories).index\n",
    "    \n",
    "    # groups categories if they are not among the most frequent ones\n",
    "    return [categorie if categorie in main_categories else \"other\" for categorie in df[var]]\n",
    "    \n",
    "    \n",
    "def get_seasonal_dataframe(dec_series, columns = None):\n",
    "    \n",
    "    '''Takes a decomposed time series, takes the seasonal component, computes an standarized version of it\n",
    "    and creates a DataFrame with these computations and additional constant columns added by the user\n",
    "    \n",
    "    IMPUTS\n",
    "        - seasonal.DecomposeResult: the decomposed time series\n",
    "        - colums: dictionary with the names of the new constant columns and its constant value\n",
    "    \n",
    "    '''\n",
    "    \n",
    "    # get seasonal component\n",
    "    seas_df = pd.DataFrame(dec_series.seasonal)\n",
    "    \n",
    "    # standarize seasonal component\n",
    "    seas_df['seas_standarized'] = seas_df['seasonal'] / (seas_df['seasonal']).std()\n",
    "    \n",
    "    # adding constant columns when provided\n",
    "    if columns is not None:\n",
    "        \n",
    "        for key in columns.keys():\n",
    "            \n",
    "            seas_df[key] = columns[key]\n",
    "    \n",
    "    # reset index\n",
    "    seas_df.reset_index(inplace = True)\n",
    "    \n",
    "    return seas_df"
   ]
  },
  {
   "cell_type": "markdown",
   "metadata": {},
   "source": [
    "## Data load"
   ]
  },
  {
   "cell_type": "code",
   "execution_count": 3,
   "metadata": {},
   "outputs": [],
   "source": [
    "# getting data\n",
    "bookings = pd.read_csv('hotel_bookings.csv', parse_dates = True)"
   ]
  },
  {
   "cell_type": "markdown",
   "metadata": {},
   "source": [
    "## Pre-exploration"
   ]
  },
  {
   "cell_type": "code",
   "execution_count": 4,
   "metadata": {
    "scrolled": false
   },
   "outputs": [
    {
     "name": "stdout",
     "output_type": "stream",
     "text": [
      "<class 'pandas.core.frame.DataFrame'>\n",
      "RangeIndex: 119390 entries, 0 to 119389\n",
      "Data columns (total 32 columns):\n",
      " #   Column                          Non-Null Count   Dtype  \n",
      "---  ------                          --------------   -----  \n",
      " 0   hotel                           119390 non-null  object \n",
      " 1   is_canceled                     119390 non-null  int64  \n",
      " 2   lead_time                       119390 non-null  int64  \n",
      " 3   arrival_date_year               119390 non-null  int64  \n",
      " 4   arrival_date_month              119390 non-null  object \n",
      " 5   arrival_date_week_number        119390 non-null  int64  \n",
      " 6   arrival_date_day_of_month       119390 non-null  int64  \n",
      " 7   stays_in_weekend_nights         119390 non-null  int64  \n",
      " 8   stays_in_week_nights            119390 non-null  int64  \n",
      " 9   adults                          119390 non-null  int64  \n",
      " 10  children                        119386 non-null  float64\n",
      " 11  babies                          119390 non-null  int64  \n",
      " 12  meal                            119390 non-null  object \n",
      " 13  country                         118902 non-null  object \n",
      " 14  market_segment                  119390 non-null  object \n",
      " 15  distribution_channel            119390 non-null  object \n",
      " 16  is_repeated_guest               119390 non-null  int64  \n",
      " 17  previous_cancellations          119390 non-null  int64  \n",
      " 18  previous_bookings_not_canceled  119390 non-null  int64  \n",
      " 19  reserved_room_type              119390 non-null  object \n",
      " 20  assigned_room_type              119390 non-null  object \n",
      " 21  booking_changes                 119390 non-null  int64  \n",
      " 22  deposit_type                    119390 non-null  object \n",
      " 23  agent                           103050 non-null  float64\n",
      " 24  company                         6797 non-null    float64\n",
      " 25  days_in_waiting_list            119390 non-null  int64  \n",
      " 26  customer_type                   119390 non-null  object \n",
      " 27  adr                             119390 non-null  float64\n",
      " 28  required_car_parking_spaces     119390 non-null  int64  \n",
      " 29  total_of_special_requests       119390 non-null  int64  \n",
      " 30  reservation_status              119390 non-null  object \n",
      " 31  reservation_status_date         119390 non-null  object \n",
      "dtypes: float64(4), int64(16), object(12)\n",
      "memory usage: 29.1+ MB\n"
     ]
    }
   ],
   "source": [
    "bookings.info()"
   ]
  },
  {
   "cell_type": "markdown",
   "metadata": {},
   "source": [
    "There are some columns with missing values. \"agent\" seems to be almost unsusable. It only has 6797 non-null cases. There are no missing values in variables of spetial interest: variables related with arrival_date, customer_type (the variable which includes groups, for the second question in the analysis) and is_canceled: the variable to determine wether a booking has been canceled."
   ]
  },
  {
   "cell_type": "markdown",
   "metadata": {},
   "source": [
    "**Inspecting the data**"
   ]
  },
  {
   "cell_type": "code",
   "execution_count": 5,
   "metadata": {
    "scrolled": false
   },
   "outputs": [
    {
     "data": {
      "text/html": [
       "<div>\n",
       "<style scoped>\n",
       "    .dataframe tbody tr th:only-of-type {\n",
       "        vertical-align: middle;\n",
       "    }\n",
       "\n",
       "    .dataframe tbody tr th {\n",
       "        vertical-align: top;\n",
       "    }\n",
       "\n",
       "    .dataframe thead th {\n",
       "        text-align: right;\n",
       "    }\n",
       "</style>\n",
       "<table border=\"1\" class=\"dataframe\">\n",
       "  <thead>\n",
       "    <tr style=\"text-align: right;\">\n",
       "      <th></th>\n",
       "      <th>hotel</th>\n",
       "      <th>is_canceled</th>\n",
       "      <th>lead_time</th>\n",
       "      <th>arrival_date_year</th>\n",
       "      <th>arrival_date_month</th>\n",
       "      <th>arrival_date_week_number</th>\n",
       "      <th>arrival_date_day_of_month</th>\n",
       "      <th>stays_in_weekend_nights</th>\n",
       "      <th>stays_in_week_nights</th>\n",
       "      <th>adults</th>\n",
       "      <th>...</th>\n",
       "      <th>deposit_type</th>\n",
       "      <th>agent</th>\n",
       "      <th>company</th>\n",
       "      <th>days_in_waiting_list</th>\n",
       "      <th>customer_type</th>\n",
       "      <th>adr</th>\n",
       "      <th>required_car_parking_spaces</th>\n",
       "      <th>total_of_special_requests</th>\n",
       "      <th>reservation_status</th>\n",
       "      <th>reservation_status_date</th>\n",
       "    </tr>\n",
       "  </thead>\n",
       "  <tbody>\n",
       "    <tr>\n",
       "      <th>0</th>\n",
       "      <td>Resort Hotel</td>\n",
       "      <td>0</td>\n",
       "      <td>342</td>\n",
       "      <td>2015</td>\n",
       "      <td>July</td>\n",
       "      <td>27</td>\n",
       "      <td>1</td>\n",
       "      <td>0</td>\n",
       "      <td>0</td>\n",
       "      <td>2</td>\n",
       "      <td>...</td>\n",
       "      <td>No Deposit</td>\n",
       "      <td>NaN</td>\n",
       "      <td>NaN</td>\n",
       "      <td>0</td>\n",
       "      <td>Transient</td>\n",
       "      <td>0.0</td>\n",
       "      <td>0</td>\n",
       "      <td>0</td>\n",
       "      <td>Check-Out</td>\n",
       "      <td>2015-07-01</td>\n",
       "    </tr>\n",
       "    <tr>\n",
       "      <th>1</th>\n",
       "      <td>Resort Hotel</td>\n",
       "      <td>0</td>\n",
       "      <td>737</td>\n",
       "      <td>2015</td>\n",
       "      <td>July</td>\n",
       "      <td>27</td>\n",
       "      <td>1</td>\n",
       "      <td>0</td>\n",
       "      <td>0</td>\n",
       "      <td>2</td>\n",
       "      <td>...</td>\n",
       "      <td>No Deposit</td>\n",
       "      <td>NaN</td>\n",
       "      <td>NaN</td>\n",
       "      <td>0</td>\n",
       "      <td>Transient</td>\n",
       "      <td>0.0</td>\n",
       "      <td>0</td>\n",
       "      <td>0</td>\n",
       "      <td>Check-Out</td>\n",
       "      <td>2015-07-01</td>\n",
       "    </tr>\n",
       "    <tr>\n",
       "      <th>2</th>\n",
       "      <td>Resort Hotel</td>\n",
       "      <td>0</td>\n",
       "      <td>7</td>\n",
       "      <td>2015</td>\n",
       "      <td>July</td>\n",
       "      <td>27</td>\n",
       "      <td>1</td>\n",
       "      <td>0</td>\n",
       "      <td>1</td>\n",
       "      <td>1</td>\n",
       "      <td>...</td>\n",
       "      <td>No Deposit</td>\n",
       "      <td>NaN</td>\n",
       "      <td>NaN</td>\n",
       "      <td>0</td>\n",
       "      <td>Transient</td>\n",
       "      <td>75.0</td>\n",
       "      <td>0</td>\n",
       "      <td>0</td>\n",
       "      <td>Check-Out</td>\n",
       "      <td>2015-07-02</td>\n",
       "    </tr>\n",
       "    <tr>\n",
       "      <th>3</th>\n",
       "      <td>Resort Hotel</td>\n",
       "      <td>0</td>\n",
       "      <td>13</td>\n",
       "      <td>2015</td>\n",
       "      <td>July</td>\n",
       "      <td>27</td>\n",
       "      <td>1</td>\n",
       "      <td>0</td>\n",
       "      <td>1</td>\n",
       "      <td>1</td>\n",
       "      <td>...</td>\n",
       "      <td>No Deposit</td>\n",
       "      <td>304.0</td>\n",
       "      <td>NaN</td>\n",
       "      <td>0</td>\n",
       "      <td>Transient</td>\n",
       "      <td>75.0</td>\n",
       "      <td>0</td>\n",
       "      <td>0</td>\n",
       "      <td>Check-Out</td>\n",
       "      <td>2015-07-02</td>\n",
       "    </tr>\n",
       "    <tr>\n",
       "      <th>4</th>\n",
       "      <td>Resort Hotel</td>\n",
       "      <td>0</td>\n",
       "      <td>14</td>\n",
       "      <td>2015</td>\n",
       "      <td>July</td>\n",
       "      <td>27</td>\n",
       "      <td>1</td>\n",
       "      <td>0</td>\n",
       "      <td>2</td>\n",
       "      <td>2</td>\n",
       "      <td>...</td>\n",
       "      <td>No Deposit</td>\n",
       "      <td>240.0</td>\n",
       "      <td>NaN</td>\n",
       "      <td>0</td>\n",
       "      <td>Transient</td>\n",
       "      <td>98.0</td>\n",
       "      <td>0</td>\n",
       "      <td>1</td>\n",
       "      <td>Check-Out</td>\n",
       "      <td>2015-07-03</td>\n",
       "    </tr>\n",
       "  </tbody>\n",
       "</table>\n",
       "<p>5 rows × 32 columns</p>\n",
       "</div>"
      ],
      "text/plain": [
       "          hotel  is_canceled  lead_time  arrival_date_year arrival_date_month  \\\n",
       "0  Resort Hotel            0        342               2015               July   \n",
       "1  Resort Hotel            0        737               2015               July   \n",
       "2  Resort Hotel            0          7               2015               July   \n",
       "3  Resort Hotel            0         13               2015               July   \n",
       "4  Resort Hotel            0         14               2015               July   \n",
       "\n",
       "   arrival_date_week_number  arrival_date_day_of_month  \\\n",
       "0                        27                          1   \n",
       "1                        27                          1   \n",
       "2                        27                          1   \n",
       "3                        27                          1   \n",
       "4                        27                          1   \n",
       "\n",
       "   stays_in_weekend_nights  stays_in_week_nights  adults  ...  deposit_type  \\\n",
       "0                        0                     0       2  ...    No Deposit   \n",
       "1                        0                     0       2  ...    No Deposit   \n",
       "2                        0                     1       1  ...    No Deposit   \n",
       "3                        0                     1       1  ...    No Deposit   \n",
       "4                        0                     2       2  ...    No Deposit   \n",
       "\n",
       "   agent company days_in_waiting_list customer_type   adr  \\\n",
       "0    NaN     NaN                    0     Transient   0.0   \n",
       "1    NaN     NaN                    0     Transient   0.0   \n",
       "2    NaN     NaN                    0     Transient  75.0   \n",
       "3  304.0     NaN                    0     Transient  75.0   \n",
       "4  240.0     NaN                    0     Transient  98.0   \n",
       "\n",
       "   required_car_parking_spaces  total_of_special_requests  reservation_status  \\\n",
       "0                            0                          0           Check-Out   \n",
       "1                            0                          0           Check-Out   \n",
       "2                            0                          0           Check-Out   \n",
       "3                            0                          0           Check-Out   \n",
       "4                            0                          1           Check-Out   \n",
       "\n",
       "  reservation_status_date  \n",
       "0              2015-07-01  \n",
       "1              2015-07-01  \n",
       "2              2015-07-02  \n",
       "3              2015-07-02  \n",
       "4              2015-07-03  \n",
       "\n",
       "[5 rows x 32 columns]"
      ]
     },
     "execution_count": 5,
     "metadata": {},
     "output_type": "execute_result"
    }
   ],
   "source": [
    "bookings.head()"
   ]
  },
  {
   "cell_type": "markdown",
   "metadata": {},
   "source": [
    "## Constants "
   ]
  },
  {
   "cell_type": "markdown",
   "metadata": {},
   "source": [
    "We'll now set some constanst that will be used through the analysis, mainly in visualizations, for ordering axis or facets"
   ]
  },
  {
   "cell_type": "code",
   "execution_count": 6,
   "metadata": {},
   "outputs": [],
   "source": [
    "ordered_months = [\"January\", \"February\", \"March\", \"April\", \"May\", \"June\", \"July\", \"August\", \"September\", \n",
    "                 \"October\", \"November\", \"December\"]\n",
    "\n",
    "ordered_rooms = np.sort(bookings.assigned_room_type.unique())\n",
    "\n",
    "# month mapping (from numbers to names)\n",
    "month_mapping = {v: k for k,v in enumerate(calendar.month_name)}"
   ]
  },
  {
   "cell_type": "markdown",
   "metadata": {},
   "source": [
    "## Wrangling /cleaning"
   ]
  },
  {
   "cell_type": "markdown",
   "metadata": {},
   "source": [
    "### Basic feature creation\n",
    "\n",
    "Below new features are created, mostly related with dates, but also variables related with revenue and length of stay"
   ]
  },
  {
   "cell_type": "code",
   "execution_count": null,
   "metadata": {},
   "outputs": [],
   "source": [
    "# arrival_date\n",
    "bookings[\"arrival_date\"] = bookings[\"arrival_date_year\"].astype(str) + bookings[\"arrival_date_month\"] + bookings[\"arrival_date_day_of_month\"].astype(str)\n",
    "bookings[\"arrival_date\"] = bookings[\"arrival_date\"].apply(lambda x: dt.strptime(x, \"%Y%B%d\"))\n",
    "\n",
    "# length_of_stay as the sum of stays in weekdays and stays in weekends\n",
    "bookings['length_of_stay'] = bookings['stays_in_weekend_nights'] + bookings['stays_in_week_nights']\n",
    "\n",
    "# intervals for lenght_of_stay\n",
    "bookings['los_int'] = pd.cut(bookings.length_of_stay, bins = range(1,30, 2))\n",
    "\n",
    "# departure date\n",
    "bookings['departure_date'] = bookings.apply(lambda x: x.arrival_date + timedelta(days = x.length_of_stay), axis = 1)\n",
    "\n",
    "# booking date\n",
    "bookings['booking_date'] = bookings.apply(lambda x: x.arrival_date - timedelta(days = x.lead_time), axis = 1)\n",
    "bookings['booking_month'] = bookings['booking_date'].apply(lambda x: x.strftime('%b'))\n",
    "\n",
    "# revenue = adr * length of stay\n",
    "bookings['revenue'] = [los * adr if los > 0 else adr for los, adr in zip(bookings['length_of_stay'], bookings['adr'])]\n",
    "\n",
    "# lead_time_weeks\n",
    "bookings['lead_time_weeks'] = bookings['lead_time'].apply(lambda x: x // 7)\n",
    "\n",
    "# weekday check in and check out\n",
    "bookings['weekday_checkin'] = bookings['arrival_date'].dt.weekday\n",
    "bookings['weekday_checkout'] = bookings['departure_date'].dt.weekday\n",
    "\n",
    "# creation of variable group\n",
    "bookings['group'] = bookings.customer_type == \"Group\"\n",
    "\n"
   ]
  },
  {
   "cell_type": "markdown",
   "metadata": {},
   "source": [
    "### Data split: city hotels and resort hotels "
   ]
  },
  {
   "cell_type": "markdown",
   "metadata": {},
   "source": [
    "For the first and second cuestion,  sometimes it will make sense to have additional 'city' and 'resort' datasets, since I think it's possible for this hotels to have a different behavior regarding those cuestions."
   ]
  },
  {
   "cell_type": "code",
   "execution_count": null,
   "metadata": {},
   "outputs": [],
   "source": [
    "city = bookings[bookings[\"hotel\"] == \"City Hotel\"]\n",
    "resort = bookings[bookings[\"hotel\"] == \"Resort Hotel\"]"
   ]
  },
  {
   "cell_type": "markdown",
   "metadata": {},
   "source": [
    "### Filtering out cancelled bookings "
   ]
  },
  {
   "cell_type": "markdown",
   "metadata": {},
   "source": [
    "For the first two questions, we'll work with bookings that actually materialized in stays in the hotel, that is confirmed bookings"
   ]
  },
  {
   "cell_type": "code",
   "execution_count": null,
   "metadata": {},
   "outputs": [],
   "source": [
    "bookings_confirmed = filter_confirmed(bookings)\n",
    "city_confirmed = filter_confirmed(city).reset_index()\n",
    "resort_confirmed = filter_confirmed(resort).reset_index()"
   ]
  },
  {
   "cell_type": "markdown",
   "metadata": {},
   "source": [
    "## **1. How strong is the seasonality in the hotels?**"
   ]
  },
  {
   "cell_type": "markdown",
   "metadata": {},
   "source": [
    "We'll proceed now to restructure the data and compute roomnights, revenue and adr per **stay day**, that is how many roomnight and how much revenue there is in an specific date."
   ]
  },
  {
   "cell_type": "code",
   "execution_count": null,
   "metadata": {},
   "outputs": [],
   "source": [
    "# getting daily data\n",
    "bookings_daily = get_daily_data(bookings_confirmed.reset_index(), [\"hotel\"])\n",
    "resort_daily = bookings_daily[bookings_daily.hotel == \"Resort Hotel\"]\n",
    "city_daily = bookings_daily[bookings_daily.hotel == \"City Hotel\"]"
   ]
  },
  {
   "cell_type": "code",
   "execution_count": null,
   "metadata": {
    "scrolled": true
   },
   "outputs": [],
   "source": [
    "bookings_daily.head()"
   ]
  },
  {
   "cell_type": "markdown",
   "metadata": {},
   "source": [
    "### Yearly Seasonality "
   ]
  },
  {
   "cell_type": "markdown",
   "metadata": {},
   "source": [
    "As daily data would probably be noisy, we'll compute the **weekly rolling average** for roomnights, revenue and adr"
   ]
  },
  {
   "cell_type": "code",
   "execution_count": null,
   "metadata": {},
   "outputs": [],
   "source": [
    "bookings_daily[\"roomnights_m7\"] = compute_mavg(bookings_daily, \"roomnights\")\n",
    "bookings_daily[\"revenue_m7\"] = compute_mavg(bookings_daily, \"revenue\")\n",
    "bookings_daily[\"adr_m7\"] = compute_mavg(bookings_daily, \"adr\")"
   ]
  },
  {
   "cell_type": "markdown",
   "metadata": {},
   "source": [
    "Below a three plots are displayed: daily adr, daily roomnights and daily revenue"
   ]
  },
  {
   "cell_type": "code",
   "execution_count": null,
   "metadata": {
    "scrolled": true
   },
   "outputs": [],
   "source": [
    "plot_rolling_average_series(resort_daily, \"adr\", \"Resort hotel\", title = \"Daily ADR and 7-day rolling mean\", data2 = city_daily,\n",
    "                           label2 = \"City hotel\")"
   ]
  },
  {
   "cell_type": "code",
   "execution_count": null,
   "metadata": {},
   "outputs": [],
   "source": [
    "plot_rolling_average_series(resort_daily, \"roomnights\", \"Resort hotel\", title = \"Daily roomnights and 7-day rolling mean\", data2 = city_daily,\n",
    "                           label2 = \"City hotel\")"
   ]
  },
  {
   "cell_type": "code",
   "execution_count": null,
   "metadata": {},
   "outputs": [],
   "source": [
    "plot_rolling_average_series(resort_daily, \"revenue\", \"Resort hotel\", title = \"Daily revenue and 7-day rolling mean\", data2 = city_daily,\n",
    "                           label2 = \"City hotel\")"
   ]
  },
  {
   "cell_type": "markdown",
   "metadata": {},
   "source": [
    "While there seems to be strong seasonality patters in ADR for resort hotels, in city hotels that pattern, it is apparently not as stronger as it is in resort hotels.\n",
    "\n",
    "Revenue follows a similar pattern\n",
    "\n",
    "Regrarding roomnights, there is also seasonality (and the same patter change in July at the beginning of the series for the city hotel, though the decrease in roomnights for winter season is more abrupt."
   ]
  },
  {
   "cell_type": "markdown",
   "metadata": {},
   "source": [
    "### Monthly seasonality"
   ]
  },
  {
   "cell_type": "markdown",
   "metadata": {},
   "source": [
    "If we group the data by month the pottentials seasoanal behaviours can be spotted more clearly. In the case of the roomnights, if we take relative values instead of the raw number (that is, if we divide the roomnights by the maximum value, there is a simlilar (though not as pronounced) peak for roomnights in the central summer months, which couldn't be appreciated by looking to the daily data."
   ]
  },
  {
   "cell_type": "markdown",
   "metadata": {},
   "source": [
    "#### Monthly ADR chart"
   ]
  },
  {
   "cell_type": "code",
   "execution_count": null,
   "metadata": {},
   "outputs": [],
   "source": [
    "# get number month\n",
    "bookings_kpi_month = compute_main_kpis(bookings_confirmed,  [\"arrival_date_month\", \"hotel\"]).reset_index()\n",
    "\n",
    "bookings_month_long = pd.melt(bookings_kpi_month, \n",
    "                              id_vars = ['arrival_date_month', 'hotel'], \n",
    "                              value_vars = ['roomnights', 'revenue', 'adr'],\n",
    "                              var_name = 'kpi')\n",
    "\n",
    "bookings_month_long['month_number'] = bookings_month_long['arrival_date_month'].apply(lambda x: month_mapping[x])"
   ]
  },
  {
   "cell_type": "code",
   "execution_count": null,
   "metadata": {},
   "outputs": [],
   "source": [
    "sns.catplot(data=bookings_month_long,\n",
    "                   x='arrival_date_month',\n",
    "                   y='value',\n",
    "                   hue = 'hotel',\n",
    "                   row='kpi',\n",
    "                   row_order = ['roomnights', 'adr', 'revenue'],\n",
    "                   sharey=False, \n",
    "                   aspect = 2.5,\n",
    "                   kind = \"point\",\n",
    "                   order = ordered_months,\n",
    "                   s = 80,\n",
    "                   alpha = 0.6)"
   ]
  },
  {
   "cell_type": "markdown",
   "metadata": {},
   "source": [
    "#### Time series yearly seasonality "
   ]
  },
  {
   "cell_type": "markdown",
   "metadata": {},
   "source": [
    "We'll adopt a more formal approach decomposing a monthly time series into its components, then w we'll visualize the seasonality component and compute its strength"
   ]
  },
  {
   "cell_type": "markdown",
   "metadata": {},
   "source": [
    "##### Seasonality visualization"
   ]
  },
  {
   "cell_type": "markdown",
   "metadata": {},
   "source": [
    "First, we obtain the monthly time series for all kpis of interest"
   ]
  },
  {
   "cell_type": "code",
   "execution_count": null,
   "metadata": {
    "scrolled": true
   },
   "outputs": [],
   "source": [
    "# getting monthly time series for main kpis\n",
    "resort_kpi_time_month = resample_time_kpis(resort_daily, 'MS')\n",
    "city_kpi_time_month = resample_time_kpis(city_daily, 'MS')"
   ]
  },
  {
   "cell_type": "markdown",
   "metadata": {},
   "source": [
    "Then, we obtain the time series decomposition for each hotel and kpi"
   ]
  },
  {
   "cell_type": "code",
   "execution_count": null,
   "metadata": {},
   "outputs": [],
   "source": [
    "dec_resort_adr = sm.tsa.seasonal_decompose(resort_kpi_time_month[['adr']])\n",
    "dec_city_adr = sm.tsa.seasonal_decompose(city_kpi_time_month[['adr']])\n",
    "\n",
    "dec_resort_rn = sm.tsa.seasonal_decompose(resort_kpi_time_month[['roomnights']])\n",
    "dec_city_rn = sm.tsa.seasonal_decompose(city_kpi_time_month[['roomnights']])\n",
    "\n",
    "dec_resort_rev = sm.tsa.seasonal_decompose(resort_kpi_time_month[['revenue']])\n",
    "dec_city_rev = sm.tsa.seasonal_decompose(city_kpi_time_month[['revenue']])\n"
   ]
  },
  {
   "cell_type": "markdown",
   "metadata": {},
   "source": [
    "Finally, we plot the data combining the decomposed series in a DataFrame and adding new information"
   ]
  },
  {
   "cell_type": "code",
   "execution_count": null,
   "metadata": {},
   "outputs": [],
   "source": [
    "seas_df = pd.concat([\n",
    "    get_seasonal_dataframe(dec_resort_adr, {'hotel': 'Resort hotel', 'kpi': 'adr'}),\n",
    "    get_seasonal_dataframe(dec_city_adr, {'hotel': 'City hotel', 'kpi': 'adr'}),\n",
    "    get_seasonal_dataframe(dec_resort_rn, {'hotel': 'Resort hotel', 'kpi': 'roomnights'}),\n",
    "    get_seasonal_dataframe(dec_city_rn, {'hotel': 'City hotel', 'kpi': 'roomnights'}),\n",
    "    get_seasonal_dataframe(dec_resort_rev, {'hotel': 'Resort hotel', 'kpi': 'revenue'}),\n",
    "    get_seasonal_dataframe(dec_city_rev, {'hotel': 'City hotel', 'kpi': 'revenue'})\n",
    "],\n",
    "           axis = 0)"
   ]
  },
  {
   "cell_type": "code",
   "execution_count": null,
   "metadata": {
    "scrolled": true
   },
   "outputs": [],
   "source": [
    "sns.set_context(\"notebook\", font_scale = 1.2, rc={\"lines.linewidth\": 2.5})\n",
    "sns.set_style(\"whitegrid\")\n",
    "\n",
    "g = sns.relplot(x = \"stay_date\", \n",
    "                y = \"seas_standarized\", \n",
    "                data = seas_df, \n",
    "                hue = \"hotel\", \n",
    "                col = \"kpi\",\n",
    "                col_wrap = 1,\n",
    "                kind = \"line\", \n",
    "                aspect = 2.5).set_titles(\"{col_name}\").set_axis_labels(\"\", \"Standarized seasonality\")\n",
    "\n",
    "g.fig.suptitle(\"Standarize seasonality of ADR, Roomnights and Revenue\", y = 1.03)\n",
    "\n",
    "\n",
    "# titles = [\"ADR\", \"Roomnights\", \"Revenue\"]\n",
    "for ax in range(len(g.axes)):\n",
    "    g.axes[ax].axhline(0, color = \"black\", linestyle = \"--\", linewidth = 0.7)\n"
   ]
  },
  {
   "cell_type": "markdown",
   "metadata": {},
   "source": [
    "##### Seasonality strength"
   ]
  },
  {
   "cell_type": "markdown",
   "metadata": {},
   "source": [
    ". We'll compute the seasonality strenght as defined in[Forecasting: principles and practice](https://otexts.com/fpp2/seasonal-strength.htm) by Rob J Hyndman and George Athanasopoulos\n",
    "\n",
    "$$F_S = max \\left( 0, 1 - {{Var(R_t)} \\over {Var(S_t + R_t)}}\\right)$$\n",
    "\n",
    "\n",
    "\n",
    "$F_s$ takes values from 0 to 1. The closer to 1 the strongest the seasonality component. $S_s$ is the seasonal component and $R_s$ is the residual component.\n",
    "\n",
    "We see that there is a strong seasonality component in every kpi and hotel."
   ]
  },
  {
   "cell_type": "code",
   "execution_count": null,
   "metadata": {
    "scrolled": true
   },
   "outputs": [],
   "source": [
    "# print adr seasonality strength for both hotels\n",
    "print(\"ADR resort seasonality: \" + str(round(compute_seasonality_strength(dec_resort_adr), 3)))\n",
    "print(\"ADR city seasonality: \" + str(round(compute_seasonality_strength(dec_city_adr), 3)))"
   ]
  },
  {
   "cell_type": "code",
   "execution_count": null,
   "metadata": {
    "scrolled": true
   },
   "outputs": [],
   "source": [
    "# print roomnights seasonality strength for both hotels\n",
    "print(\"Roomnights resort seasonality: \" + str(round(compute_seasonality_strength(dec_resort_rn), 3)))\n",
    "print(\"Roomnights city seasonality: \" + str(round(compute_seasonality_strength(dec_city_rn), 3)))"
   ]
  },
  {
   "cell_type": "code",
   "execution_count": null,
   "metadata": {},
   "outputs": [],
   "source": [
    "# print revenue seasonality strength for both hotels\n",
    "print(\"Revenue resort seasonality: \" + str(round(compute_seasonality_strength(dec_resort_rev), 3)))\n",
    "print(\"Revenue city seasonality: \" + str(round(compute_seasonality_strength(dec_city_rev), 3)))"
   ]
  },
  {
   "cell_type": "markdown",
   "metadata": {},
   "source": [
    "As we can see, weekly seasonality plays a huge role in defining the adr and the roomnights"
   ]
  },
  {
   "cell_type": "markdown",
   "metadata": {},
   "source": [
    "### Weekly seasonality"
   ]
  },
  {
   "cell_type": "markdown",
   "metadata": {},
   "source": [
    "One can think that there is a second order in seasonality at the level of the weeks. For example, maybe more roomnights are booked for weekends"
   ]
  },
  {
   "cell_type": "markdown",
   "metadata": {},
   "source": [
    "#### Weekdays vs weekends "
   ]
  },
  {
   "cell_type": "code",
   "execution_count": null,
   "metadata": {},
   "outputs": [],
   "source": [
    "# bookings_daily['stay_date'] = pd.to_datetime(bookings_daily['stay_date'])\n",
    "bookings_daily = bookings_daily.reset_index()\n",
    "bookings_daily['is_weekend'] = bookings_daily['stay_date'].apply(lambda x: x.weekday() in [5, 6])"
   ]
  },
  {
   "cell_type": "code",
   "execution_count": null,
   "metadata": {},
   "outputs": [],
   "source": [
    "bookings_daily"
   ]
  },
  {
   "cell_type": "code",
   "execution_count": null,
   "metadata": {},
   "outputs": [],
   "source": [
    "bookings_daily_long = pd.melt(bookings_daily, \n",
    "                              id_vars = ['stay_date', 'hotel', 'is_weekend'], \n",
    "                              value_vars = ['adr', 'roomnights', 'revenue'], \n",
    "                              var_name = 'kpi'\n",
    "                             )"
   ]
  },
  {
   "cell_type": "code",
   "execution_count": null,
   "metadata": {},
   "outputs": [],
   "source": [
    "g = sns.catplot(x = \"hotel\", \n",
    "            y = \"value\", \n",
    "            data = bookings_daily_long, \n",
    "            hue = \"is_weekend\", \n",
    "            col = \"kpi\", \n",
    "            kind = \"box\", \n",
    "            sharey = False).set_titles(\"{col_name}\")\n",
    "\n",
    "g.fig.suptitle(\"Main KPIs distribution for weekdays and weekends\", y = 1.03)\n"
   ]
  },
  {
   "cell_type": "markdown",
   "metadata": {},
   "source": [
    "There seem to be no releveant differences in adr, roomnights or revenue"
   ]
  },
  {
   "cell_type": "markdown",
   "metadata": {},
   "source": [
    "## 2. Does the behaviour of clients who come in groups differ from the behaviour of other clients in terms of stay days an lead time?"
   ]
  },
  {
   "cell_type": "code",
   "execution_count": null,
   "metadata": {
    "scrolled": false
   },
   "outputs": [],
   "source": [
    "bookings_confirmed.customer_type.value_counts()"
   ]
  },
  {
   "cell_type": "markdown",
   "metadata": {},
   "source": [
    "There are only 518 reservations assigned to groups. So groups don't represent a highly relevant business segment, right from the start. \n",
    "\n",
    "Lets first create the binary variable \"group\" and then a stay day data frame to examine difference in roomnights for groups and non-groups"
   ]
  },
  {
   "cell_type": "code",
   "execution_count": null,
   "metadata": {},
   "outputs": [],
   "source": [
    "revenue_group = bookings_confirmed.groupby('group').agg({'revenue': 'sum'}) / bookings_confirmed.revenue.sum()"
   ]
  },
  {
   "cell_type": "code",
   "execution_count": null,
   "metadata": {},
   "outputs": [],
   "source": [
    "revenue_group"
   ]
  },
  {
   "cell_type": "markdown",
   "metadata": {},
   "source": [
    "Groups represent only the 5 % of the total revenue. Anyways, is good to perform an analysis of this segment in case its relative importance increases in the future."
   ]
  },
  {
   "cell_type": "markdown",
   "metadata": {},
   "source": [
    "##### Average length of stay"
   ]
  },
  {
   "cell_type": "code",
   "execution_count": null,
   "metadata": {
    "scrolled": true
   },
   "outputs": [],
   "source": [
    "bookings_confirmed.groupby(['hotel', 'group']).agg({'length_of_stay':['mean', 'median', 'std']})"
   ]
  },
  {
   "cell_type": "markdown",
   "metadata": {},
   "source": [
    "Median length of stay is lower for groups in Resort hotels, lets check out the distribution for the grouped version of the length of stay variable: los_int"
   ]
  },
  {
   "cell_type": "code",
   "execution_count": null,
   "metadata": {
    "scrolled": true
   },
   "outputs": [],
   "source": [
    "# counts occurcences grouped by group hotel and los_int\n",
    "los_int_group_hotel = bookings_confirmed.groupby(['los_int', 'group', 'hotel']).agg({'is_canceled': 'count'})\\\n",
    ".rename(columns = {'is_canceled': 'n'})\n",
    "\n",
    "# computes relative frequencies\n",
    "los_int_group_hotel['f'] = los_int_group_hotel.groupby(['group', 'hotel'])['n'].apply(lambda x: x / sum(x))\n",
    "los_int_group_hotel.reset_index(inplace = True)\n",
    "los_int_group_hotel.sort_values(['hotel', 'group'], inplace = True)"
   ]
  },
  {
   "cell_type": "code",
   "execution_count": null,
   "metadata": {
    "scrolled": false
   },
   "outputs": [],
   "source": [
    "sns.set(style = \"whitegrid\")\n",
    "g = sns.catplot(x = 'los_int', \n",
    "                y ='f', \n",
    "                data = los_int_group_hotel, \n",
    "                kind = \"bar\", \n",
    "                hue = 'group',\n",
    "                col = 'hotel', \n",
    "                legend = False, \n",
    "                aspect = 1.4).set_titles(\"{col_name}\")\n",
    "\n",
    "plt.legend(loc=1)\n",
    "\n",
    "g.fig.suptitle(\"Length of stay distribution for transient and group reservations\", y = 1.03)\n",
    "g.set_xticklabels(rotation=45)\n",
    "\n",
    "g.axes[0,0].set_xlabel('Length of stay (days)')\n",
    "g.axes[0,1].set_xlabel('Length of stay (days)')\n",
    "\n",
    "plt.show()"
   ]
  },
  {
   "cell_type": "markdown",
   "metadata": {},
   "source": [
    "The descriptive statistics shows a difference only in one day in the median length of stay for resot hotels. The bar chart reveals a higher frequency of short stays of 1 - 3 days for groups and a lower frequency in longer stays (3 - 5 days), in resort hotels. "
   ]
  },
  {
   "cell_type": "markdown",
   "metadata": {},
   "source": [
    "###### Testing differences in aveage length "
   ]
  },
  {
   "cell_type": "markdown",
   "metadata": {},
   "source": [
    "We'll now test if there is any difference in l.o.s ussing the Mann-Whitney non-parametric U test, since the distribution is extremely assymetric."
   ]
  },
  {
   "cell_type": "code",
   "execution_count": null,
   "metadata": {
    "scrolled": true
   },
   "outputs": [],
   "source": [
    "sns.kdeplot(resort_confirmed['length_of_stay'], label = \"Resort\")\n",
    "sns.kdeplot(city_confirmed['length_of_stay'], label = \"City\")\n",
    "plt.show()"
   ]
  },
  {
   "cell_type": "markdown",
   "metadata": {},
   "source": [
    "###### Resort hotel"
   ]
  },
  {
   "cell_type": "code",
   "execution_count": null,
   "metadata": {
    "scrolled": true
   },
   "outputs": [],
   "source": [
    "los_resort_transient = resort_confirmed[~resort_confirmed.group][\"length_of_stay\"] \n",
    "los_resort_group = resort_confirmed[resort_confirmed.group][\"length_of_stay\"] "
   ]
  },
  {
   "cell_type": "code",
   "execution_count": null,
   "metadata": {
    "scrolled": false
   },
   "outputs": [],
   "source": [
    "mannwhitneyu(los_resort_transient, los_resort_group)"
   ]
  },
  {
   "cell_type": "markdown",
   "metadata": {},
   "source": [
    "###### City hotel"
   ]
  },
  {
   "cell_type": "code",
   "execution_count": null,
   "metadata": {
    "scrolled": true
   },
   "outputs": [],
   "source": [
    "los_city_transient = resort_confirmed[~city_confirmed.group][\"length_of_stay\"] \n",
    "los_city_group = resort_confirmed[city_confirmed.group][\"length_of_stay\"] "
   ]
  },
  {
   "cell_type": "code",
   "execution_count": null,
   "metadata": {
    "scrolled": true
   },
   "outputs": [],
   "source": [
    "mannwhitneyu(los_city_transient, los_city_group)"
   ]
  },
  {
   "cell_type": "markdown",
   "metadata": {},
   "source": [
    "Though results show statistically significant differnces in both cases, the effect size is almost non existent for the city hotel. And is not very large for the resort hotel (at most, one day in average), so has only probably limited relevance from the bussiness standpoint.\n",
    "\n",
    "The business difference can be important if there are differences in for of five days. For instance, transient bookings with a length of stay of 7 days vs groups with a lentgh of stay of 2 or 3 days."
   ]
  },
  {
   "cell_type": "markdown",
   "metadata": {},
   "source": [
    "##### Lead time"
   ]
  },
  {
   "cell_type": "code",
   "execution_count": null,
   "metadata": {},
   "outputs": [],
   "source": [
    "bookings_confirmed.groupby(['hotel', 'group']).agg({'lead_time': 'mean'})"
   ]
  },
  {
   "cell_type": "code",
   "execution_count": null,
   "metadata": {},
   "outputs": [],
   "source": [
    "sns.set(style = \"whitegrid\")\n",
    "g = sns.catplot(x = \"group\", \n",
    "            y = \"lead_time\", \n",
    "            data = bookings_confirmed, \n",
    "            kind = \"box\", \n",
    "            col = \"hotel\", \n",
    "            aspect = 1.3)\n",
    "\n",
    "# plt.legend(loc=1)\n",
    "\n",
    "g.fig.suptitle(\"Lead time distribution for transient and group reservations\", y = 1.03)\n",
    "\n",
    "\n",
    "g.axes[0,0].set_xlabel('Is group')\n",
    "g.axes[0,1].set_xlabel('Is group')\n"
   ]
  },
  {
   "cell_type": "markdown",
   "metadata": {},
   "source": [
    "Groups seem bo book with less antelation that transient, specially in the resort hotel. Let's test that\n"
   ]
  },
  {
   "cell_type": "markdown",
   "metadata": {},
   "source": [
    "##### Testing differences in lead time"
   ]
  },
  {
   "cell_type": "markdown",
   "metadata": {},
   "source": [
    "We have again a very assymetric distribution. Well proceed with the Mann-Whitney U test"
   ]
  },
  {
   "cell_type": "code",
   "execution_count": null,
   "metadata": {},
   "outputs": [],
   "source": [
    "sns.kdeplot(resort_confirmed['lead_time'], label = \"Resort\")\n",
    "sns.kdeplot(city_confirmed['lead_time'], label = \"City\")"
   ]
  },
  {
   "cell_type": "markdown",
   "metadata": {},
   "source": [
    "###### Resort"
   ]
  },
  {
   "cell_type": "code",
   "execution_count": null,
   "metadata": {},
   "outputs": [],
   "source": [
    "lead_resort_transient = resort_confirmed[~resort_confirmed.group][\"lead_time\"] \n",
    "lead_resort_group = resort_confirmed[resort_confirmed.group][\"lead_time\"] "
   ]
  },
  {
   "cell_type": "code",
   "execution_count": null,
   "metadata": {},
   "outputs": [],
   "source": [
    "mannwhitneyu(lead_resort_transient, lead_resort_group)"
   ]
  },
  {
   "cell_type": "markdown",
   "metadata": {},
   "source": [
    "###### City"
   ]
  },
  {
   "cell_type": "code",
   "execution_count": null,
   "metadata": {},
   "outputs": [],
   "source": [
    "lead_city_transient = city_confirmed[~city_confirmed.group][\"lead_time\"] \n",
    "lead_city_group = city_confirmed[city_confirmed.group][\"lead_time\"] "
   ]
  },
  {
   "cell_type": "code",
   "execution_count": null,
   "metadata": {},
   "outputs": [],
   "source": [
    "mannwhitneyu(lead_city_transient, lead_city_group)"
   ]
  },
  {
   "cell_type": "markdown",
   "metadata": {},
   "source": [
    "In both cases there is a significant effect, and the size of the effect is considerable."
   ]
  },
  {
   "cell_type": "markdown",
   "metadata": {},
   "source": [
    "##### adr"
   ]
  },
  {
   "cell_type": "code",
   "execution_count": null,
   "metadata": {},
   "outputs": [],
   "source": [
    "bookings_confirmed.groupby(['hotel', 'group']).agg({'adr': 'mean'})"
   ]
  },
  {
   "cell_type": "code",
   "execution_count": null,
   "metadata": {
    "scrolled": false
   },
   "outputs": [],
   "source": [
    "g = sns.catplot(x = \"group\", \n",
    "                y = \"adr\", \n",
    "                data = bookings_confirmed, \n",
    "                kind = \"box\", \n",
    "                col = \"hotel\", \n",
    "                aspect = 1.3)\n",
    "\n",
    "g.fig.suptitle(\"ADR distribution for transient and group reservations\", y = 1.03)\n",
    "\n",
    "\n",
    "g.axes[0,0].set_xlabel('Is group')\n",
    "g.axes[0,1].set_xlabel('Is group')"
   ]
  },
  {
   "cell_type": "markdown",
   "metadata": {},
   "source": [
    "There seems to bedifferences in adr. Specially for the city hotel"
   ]
  },
  {
   "cell_type": "markdown",
   "metadata": {},
   "source": [
    "###### Testing differences in adr"
   ]
  },
  {
   "cell_type": "markdown",
   "metadata": {},
   "source": [
    "Since in this case, the dsitribution is not extremely symmetrical, we'll proceed with the t-test for the comparisons"
   ]
  },
  {
   "cell_type": "code",
   "execution_count": null,
   "metadata": {},
   "outputs": [],
   "source": [
    "fig, ax = plt.subplots()\n",
    "\n",
    "sns.kdeplot(resort_confirmed['adr'], ax = ax, label = \"Resort\")\n",
    "sns.kdeplot(city_confirmed['adr'], ax = ax, label = \"City\")\n",
    "\n",
    "fig.set_figwidth(10)"
   ]
  },
  {
   "cell_type": "code",
   "execution_count": null,
   "metadata": {},
   "outputs": [],
   "source": [
    "# test for resort hotels\n",
    "ttest_ind(resort_confirmed.loc[resort_confirmed.group == False, \"adr\"], \n",
    "          resort_confirmed.loc[resort_confirmed.group == True, \"adr\"])"
   ]
  },
  {
   "cell_type": "code",
   "execution_count": null,
   "metadata": {},
   "outputs": [],
   "source": [
    "# test for resort hotels\n",
    "ttest_ind(city_confirmed.loc[city_confirmed.group == False, \"adr\"], \n",
    "          city_confirmed.loc[city_confirmed.group == True, \"adr\"])"
   ]
  },
  {
   "cell_type": "markdown",
   "metadata": {},
   "source": [
    "# CALCULAR ADR EN FUNCIÓN DE LEAD TIME!"
   ]
  },
  {
   "cell_type": "markdown",
   "metadata": {},
   "source": [
    "Significant results with a considerable effect size for both city and resort hotel"
   ]
  },
  {
   "cell_type": "markdown",
   "metadata": {},
   "source": [
    "Given this results, though right now grouped bookings doesn't seem to be an important segment. After analyzing adr and lead time, one thing that could be happening is that hoteliers are having difficulties in filling up the hotel (unfortunatelly hotel capacity is not among the variables in the dataset).  \n",
    "\n",
    "If that is not the case, it would be advisable to reconsider rate policies regarding groups and build an strategy for gorup pricing."
   ]
  },
  {
   "cell_type": "markdown",
   "metadata": {},
   "source": [
    "## 3. Can we predict if a client will cancel the reservation, just with the information available at the moment this reservation has been made?"
   ]
  },
  {
   "cell_type": "markdown",
   "metadata": {},
   "source": [
    "In this section, we'll try to predict if a booking reservation is going to be cancelled in the future, using variables available only when the reservation is made. That means that we can't make use of the variable 'booking_changes' for instance.\n",
    "\n",
    "Our target variable is 'is_canceled' and we'll train an algorith splitting the bookings DataFrame.\n",
    "\n",
    "First, we'll perform an **exploratory analysis**. Most of it will consisnt in facing is_cancelled against the other variables. A big share of these variables are categorical. It is important not only stablish the relationship of these categories with the target variable, but also checking if there are enough observations from potential categories of interest. For that reason we've create the function **plot_cancel_prop** to automatize this process. The function besides of displaying a plot showing the relationship between the target variable and the respective covariate, shows a table counting the percentage of observations for each category.\n",
    "\n",
    "New features we'll be created in the EDA process itself whenever it's considered convenient according to the findings during the process.\n",
    "\n",
    "We'll split most of the visualization into Resort hotel and City hotel, as the different business nature of the two, can lead to a potential different behaviour in the number of cancelations"
   ]
  },
  {
   "cell_type": "code",
   "execution_count": null,
   "metadata": {},
   "outputs": [],
   "source": [
    "bookings.columns"
   ]
  },
  {
   "cell_type": "markdown",
   "metadata": {},
   "source": [
    "### Exploratory analysis"
   ]
  },
  {
   "cell_type": "markdown",
   "metadata": {},
   "source": [
    "Proportion of bookings cancelled. Overall and for hotel type"
   ]
  },
  {
   "cell_type": "code",
   "execution_count": null,
   "metadata": {},
   "outputs": [],
   "source": [
    "bookings.is_canceled.mean()"
   ]
  },
  {
   "cell_type": "code",
   "execution_count": null,
   "metadata": {},
   "outputs": [],
   "source": [
    "bookings.groupby(\"hotel\")['is_canceled'].mean()"
   ]
  },
  {
   "cell_type": "markdown",
   "metadata": {},
   "source": [
    "Now we'll confront each potential covariate of the model with the target variable"
   ]
  },
  {
   "cell_type": "markdown",
   "metadata": {},
   "source": [
    "#### Is repeated guest "
   ]
  },
  {
   "cell_type": "code",
   "execution_count": null,
   "metadata": {},
   "outputs": [],
   "source": [
    "plot_cancel_prop(bookings, \"is_repeated_guest\")"
   ]
  },
  {
   "cell_type": "markdown",
   "metadata": {},
   "source": [
    "People who cancel are overrepresented in new guests.\n",
    "\n",
    "It isn't a variable of much value since almost every guest is a new guest"
   ]
  },
  {
   "cell_type": "markdown",
   "metadata": {},
   "source": [
    "#### Previous cancelations"
   ]
  },
  {
   "cell_type": "code",
   "execution_count": null,
   "metadata": {
    "scrolled": true
   },
   "outputs": [],
   "source": [
    "bookings.previous_cancellations.value_counts()"
   ]
  },
  {
   "cell_type": "code",
   "execution_count": null,
   "metadata": {},
   "outputs": [],
   "source": [
    "np.mean(bookings.previous_cancellations > 0)"
   ]
  },
  {
   "cell_type": "code",
   "execution_count": null,
   "metadata": {
    "scrolled": false
   },
   "outputs": [],
   "source": [
    "sns.catplot(x = \"is_canceled\", y = \"previous_cancellations\", data = bookings, kind = \"box\", col = \"hotel\")"
   ]
  },
  {
   "cell_type": "markdown",
   "metadata": {},
   "source": [
    "It seems it can be a relationship but the variable is too assymetrical. We'll create the variable 'has_previous_cancelations' and analyse the relationship for this variable."
   ]
  },
  {
   "cell_type": "code",
   "execution_count": null,
   "metadata": {},
   "outputs": [],
   "source": [
    "bookings['has_previous_cancellations'] = bookings.previous_cancellations > 0"
   ]
  },
  {
   "cell_type": "code",
   "execution_count": null,
   "metadata": {
    "scrolled": false
   },
   "outputs": [],
   "source": [
    "plot_cancel_prop(bookings, \"has_previous_cancellations\")"
   ]
  },
  {
   "cell_type": "markdown",
   "metadata": {},
   "source": [
    "It looks like people who have cancel previously tend to cancel a lot more. But these people amount for only a 5 % of the total number of bookings"
   ]
  },
  {
   "cell_type": "markdown",
   "metadata": {},
   "source": [
    "#### Reserved room type "
   ]
  },
  {
   "cell_type": "code",
   "execution_count": null,
   "metadata": {
    "scrolled": false
   },
   "outputs": [],
   "source": [
    "plot_cancel_prop(bookings, \"reserved_room_type\")"
   ]
  },
  {
   "cell_type": "code",
   "execution_count": null,
   "metadata": {},
   "outputs": [],
   "source": [
    "bookings[bookings.reserved_room_type == \"P\"]"
   ]
  },
  {
   "cell_type": "markdown",
   "metadata": {},
   "source": [
    "We must remove these values. The P rooms are likely tests or something like that. Revenue for everyone of these is 0. Lead time is also 0"
   ]
  },
  {
   "cell_type": "code",
   "execution_count": null,
   "metadata": {},
   "outputs": [],
   "source": [
    "bookings = bookings[bookings.reserved_room_type != \"P\"]"
   ]
  },
  {
   "cell_type": "markdown",
   "metadata": {},
   "source": [
    "From the rooms that are booked the most, the one with more cancelations in City Hotels is room A. There doesn't seem to be a lot of difference though."
   ]
  },
  {
   "cell_type": "markdown",
   "metadata": {},
   "source": [
    "#### Lead time"
   ]
  },
  {
   "cell_type": "markdown",
   "metadata": {},
   "source": [
    "Lets compute proportion of cancelations by lead_time_weeks and plot the weeks to go against the proportion of booking cancellations."
   ]
  },
  {
   "cell_type": "code",
   "execution_count": null,
   "metadata": {},
   "outputs": [],
   "source": [
    "cancel_lead_time = bookings.groupby(['hotel', 'lead_time_weeks']).agg({'is_canceled': 'mean'}).reset_index()"
   ]
  },
  {
   "cell_type": "code",
   "execution_count": null,
   "metadata": {
    "scrolled": true
   },
   "outputs": [],
   "source": [
    "cancel_lead_time.head()"
   ]
  },
  {
   "cell_type": "code",
   "execution_count": null,
   "metadata": {
    "scrolled": true
   },
   "outputs": [],
   "source": [
    "sns.relplot(x = \"lead_time_weeks\", y = \"is_canceled\", \n",
    "            data = cancel_lead_time[cancel_lead_time.lead_time_weeks < 52] , col = \"hotel\", col_wrap = 2, kind = \"line\");"
   ]
  },
  {
   "cell_type": "markdown",
   "metadata": {},
   "source": [
    "Positive relationship between cancelations and lead time in city hotels, not as clear in resort hotels. Nevertherles, in both cases there are few cancelations in reservations with little antelation."
   ]
  },
  {
   "cell_type": "markdown",
   "metadata": {},
   "source": [
    "#### Deposit type"
   ]
  },
  {
   "cell_type": "code",
   "execution_count": null,
   "metadata": {
    "scrolled": true
   },
   "outputs": [],
   "source": [
    "plot_cancel_prop(bookings, \"deposit_type\")"
   ]
  },
  {
   "cell_type": "markdown",
   "metadata": {},
   "source": [
    "Non refundable rate reservations cancel a lot more. Maybe they are related with some offer like an early booking. Let's check average adr for these categories"
   ]
  },
  {
   "cell_type": "code",
   "execution_count": null,
   "metadata": {
    "scrolled": false
   },
   "outputs": [],
   "source": [
    "bookings.groupby(['hotel', 'deposit_type'])['adr'].mean()"
   ]
  },
  {
   "cell_type": "markdown",
   "metadata": {},
   "source": [
    "Yes, it looks like Non Refundable tarifs have lower adr"
   ]
  },
  {
   "cell_type": "markdown",
   "metadata": {},
   "source": [
    "#### Agent"
   ]
  },
  {
   "cell_type": "markdown",
   "metadata": {},
   "source": [
    "Let's look at the distribution first"
   ]
  },
  {
   "cell_type": "code",
   "execution_count": null,
   "metadata": {
    "scrolled": true
   },
   "outputs": [],
   "source": [
    "agent_distrib = (bookings.agent.value_counts().sort_values(ascending = False) / sum(bookings.agent.value_counts()))\n",
    "agent_distrib.head(10)"
   ]
  },
  {
   "cell_type": "markdown",
   "metadata": {},
   "source": [
    "To many agents. Lets group them into the more important ones. The seventh' agent only has approx 3 % of the market. We'll group agents into the top 6."
   ]
  },
  {
   "cell_type": "code",
   "execution_count": null,
   "metadata": {
    "scrolled": true
   },
   "outputs": [],
   "source": [
    "bookings['agent_grouped'] = group_main_categories(bookings, \"agent\", 6)"
   ]
  },
  {
   "cell_type": "code",
   "execution_count": null,
   "metadata": {
    "scrolled": false
   },
   "outputs": [],
   "source": [
    "plot_cancel_prop(bookings, 'agent_grouped')"
   ]
  },
  {
   "cell_type": "markdown",
   "metadata": {},
   "source": [
    "Agent one gets a lot of cancelattions"
   ]
  },
  {
   "cell_type": "markdown",
   "metadata": {},
   "source": [
    "#### Company"
   ]
  },
  {
   "cell_type": "markdown",
   "metadata": {},
   "source": [
    "Again, a lot of categories, let's group them. 40 and 223 domain the market for these hotels"
   ]
  },
  {
   "cell_type": "code",
   "execution_count": null,
   "metadata": {
    "scrolled": false
   },
   "outputs": [],
   "source": [
    "sort_categories_distrib(bookings, \"company\").head(10)"
   ]
  },
  {
   "cell_type": "code",
   "execution_count": null,
   "metadata": {},
   "outputs": [],
   "source": [
    "bookings['company_grouped'] = group_main_categories(bookings, 'company', 6)"
   ]
  },
  {
   "cell_type": "code",
   "execution_count": null,
   "metadata": {
    "scrolled": false
   },
   "outputs": [],
   "source": [
    "plot_cancel_prop(bookings, \"company_grouped\")"
   ]
  },
  {
   "cell_type": "markdown",
   "metadata": {},
   "source": [
    "It turns out that 223 operates in resort hotels and 40 in city hotels. Both of them have a number of cancellations below the average for these hotels.\n",
    "\n",
    "City hotels has a lot of cancelations for the company 67."
   ]
  },
  {
   "cell_type": "markdown",
   "metadata": {},
   "source": [
    "#### Children "
   ]
  },
  {
   "cell_type": "markdown",
   "metadata": {},
   "source": [
    "Lot of guests travel without children"
   ]
  },
  {
   "cell_type": "code",
   "execution_count": null,
   "metadata": {
    "scrolled": false
   },
   "outputs": [],
   "source": [
    "bookings.children.value_counts()"
   ]
  },
  {
   "cell_type": "markdown",
   "metadata": {},
   "source": [
    "This happens both in city and resort hotels"
   ]
  },
  {
   "cell_type": "code",
   "execution_count": null,
   "metadata": {
    "scrolled": true
   },
   "outputs": [],
   "source": [
    "bookings.groupby([\"hotel\", \"children\"])['hotel'].count()"
   ]
  },
  {
   "cell_type": "code",
   "execution_count": null,
   "metadata": {},
   "outputs": [],
   "source": [
    "plot_cancel_prop(bookings, \"children\")"
   ]
  },
  {
   "cell_type": "markdown",
   "metadata": {},
   "source": [
    "It looks like having more than one children involves having a greater cancelation rate than the average. Again, people with children seem to be a minority here."
   ]
  },
  {
   "cell_type": "markdown",
   "metadata": {
    "scrolled": false
   },
   "source": [
    "#### Adults"
   ]
  },
  {
   "cell_type": "code",
   "execution_count": null,
   "metadata": {
    "scrolled": false
   },
   "outputs": [],
   "source": [
    "bookings.adults.value_counts()"
   ]
  },
  {
   "cell_type": "markdown",
   "metadata": {},
   "source": [
    "The more normal travel mode is 'couple'. There are a few reservations with no adults."
   ]
  },
  {
   "cell_type": "code",
   "execution_count": null,
   "metadata": {
    "scrolled": true
   },
   "outputs": [],
   "source": [
    "plot_cancel_prop(bookings[bookings.adults < 4], \"adults\")"
   ]
  },
  {
   "cell_type": "markdown",
   "metadata": {},
   "source": [
    "It looks like people who travel alone tend to cancel less. In resort hotels, rate of cancellation for couples is above the mean. We'll create a new feature to reflect that."
   ]
  },
  {
   "cell_type": "code",
   "execution_count": null,
   "metadata": {},
   "outputs": [],
   "source": [
    "bookings['travels_alone'] = bookings['adults'] <= 1"
   ]
  },
  {
   "cell_type": "markdown",
   "metadata": {},
   "source": [
    "#### Meal"
   ]
  },
  {
   "cell_type": "code",
   "execution_count": null,
   "metadata": {
    "scrolled": false
   },
   "outputs": [],
   "source": [
    "plot_cancel_prop(bookings, \"meal\")"
   ]
  },
  {
   "cell_type": "markdown",
   "metadata": {},
   "source": [
    "Cancellations for Full Board are well above the average, but then again, the number of customer who chose this type of meal is very minimal (0.7 %)."
   ]
  },
  {
   "cell_type": "markdown",
   "metadata": {},
   "source": [
    "#### country "
   ]
  },
  {
   "cell_type": "code",
   "execution_count": null,
   "metadata": {
    "scrolled": true
   },
   "outputs": [],
   "source": [
    "len(bookings.country.unique())"
   ]
  },
  {
   "cell_type": "markdown",
   "metadata": {},
   "source": [
    "Two many categories for countries. Let's see what are the country of origin with more reservations"
   ]
  },
  {
   "cell_type": "code",
   "execution_count": null,
   "metadata": {
    "scrolled": false
   },
   "outputs": [],
   "source": [
    "sort_categories_distrib(bookings, \"country\").head(10)"
   ]
  },
  {
   "cell_type": "markdown",
   "metadata": {},
   "source": [
    "With the first 7 countries we reach a 70 % of the reservations"
   ]
  },
  {
   "cell_type": "code",
   "execution_count": null,
   "metadata": {},
   "outputs": [],
   "source": [
    "bookings['country_grouped'] = group_main_categories(bookings, \"country\", 7)"
   ]
  },
  {
   "cell_type": "code",
   "execution_count": null,
   "metadata": {
    "scrolled": true
   },
   "outputs": [],
   "source": [
    "plot_cancel_prop(bookings, 'country_grouped')"
   ]
  },
  {
   "cell_type": "markdown",
   "metadata": {},
   "source": [
    "Portuguese tend to cancel well above the average. Plus, they are an important market.\n",
    "\n",
    "We built variable market origin local to represent the fact that locals are the ones we have to put our eyes on"
   ]
  },
  {
   "cell_type": "code",
   "execution_count": null,
   "metadata": {},
   "outputs": [],
   "source": [
    "bookings['market_origin_local'] = bookings['country'] == \"PRT\""
   ]
  },
  {
   "cell_type": "markdown",
   "metadata": {},
   "source": [
    "#### Market segment "
   ]
  },
  {
   "cell_type": "code",
   "execution_count": null,
   "metadata": {
    "scrolled": false
   },
   "outputs": [],
   "source": [
    "plot_cancel_prop(bookings, \"market_segment\", aspect = 1.5)"
   ]
  },
  {
   "cell_type": "markdown",
   "metadata": {},
   "source": [
    "Groups and onlne TA tend to cancel above the average in resort hotels. In hotels, also groups, but unidentified segment too, tend to canel more"
   ]
  },
  {
   "cell_type": "markdown",
   "metadata": {},
   "source": [
    "#### distribution channel"
   ]
  },
  {
   "cell_type": "code",
   "execution_count": null,
   "metadata": {
    "scrolled": false
   },
   "outputs": [],
   "source": [
    "plot_cancel_prop(bookings, \"distribution_channel\")"
   ]
  },
  {
   "cell_type": "markdown",
   "metadata": {},
   "source": [
    "TA and undefined (for city hotels) tend to cancel Above the mean"
   ]
  },
  {
   "cell_type": "markdown",
   "metadata": {},
   "source": [
    "#### days in waiting list "
   ]
  },
  {
   "cell_type": "code",
   "execution_count": null,
   "metadata": {
    "scrolled": false
   },
   "outputs": [],
   "source": [
    "bookings.days_in_waiting_list.value_counts()\n"
   ]
  },
  {
   "cell_type": "markdown",
   "metadata": {},
   "source": [
    "Too many values and outliers for days_in_waiting_list. Let's check which are the most common."
   ]
  },
  {
   "cell_type": "code",
   "execution_count": null,
   "metadata": {
    "scrolled": false
   },
   "outputs": [],
   "source": [
    "sort_categories_distrib(bookings, \"days_in_waiting_list\").head(10)"
   ]
  },
  {
   "cell_type": "markdown",
   "metadata": {},
   "source": [
    "Most people don't wait: we'll create the variable 'in_waiting_list' to analyze the relationship of being waiting list with the target variable."
   ]
  },
  {
   "cell_type": "code",
   "execution_count": null,
   "metadata": {},
   "outputs": [],
   "source": [
    "bookings['in_waiting_list'] = bookings['days_in_waiting_list'].apply(lambda x: x > 0)"
   ]
  },
  {
   "cell_type": "code",
   "execution_count": null,
   "metadata": {
    "scrolled": true
   },
   "outputs": [],
   "source": [
    "plot_cancel_prop(bookings, \"in_waiting_list\")"
   ]
  },
  {
   "cell_type": "markdown",
   "metadata": {},
   "source": [
    "Inverse relationship for resort hotels and city hotels: in city hotels people who are in waiting list tend to cancel way above the mean, whereas in resort hotels, the opposite is true."
   ]
  },
  {
   "cell_type": "markdown",
   "metadata": {},
   "source": [
    "#### Customer type"
   ]
  },
  {
   "cell_type": "code",
   "execution_count": null,
   "metadata": {
    "scrolled": false
   },
   "outputs": [],
   "source": [
    "plot_cancel_prop(bookings, \"customer_type\")"
   ]
  },
  {
   "cell_type": "markdown",
   "metadata": {},
   "source": [
    "Transient cancel a little above the mean for resort hotels"
   ]
  },
  {
   "cell_type": "markdown",
   "metadata": {},
   "source": [
    "#### Required car parking spaces"
   ]
  },
  {
   "cell_type": "code",
   "execution_count": null,
   "metadata": {
    "scrolled": false
   },
   "outputs": [],
   "source": [
    "plot_cancel_prop(bookings, \"required_car_parking_spaces\")"
   ]
  },
  {
   "cell_type": "markdown",
   "metadata": {},
   "source": [
    "Variable with almos no variability. Useless in predictions"
   ]
  },
  {
   "cell_type": "markdown",
   "metadata": {},
   "source": [
    "#### Total of special requests"
   ]
  },
  {
   "cell_type": "code",
   "execution_count": null,
   "metadata": {
    "scrolled": false
   },
   "outputs": [],
   "source": [
    "plot_cancel_prop(bookings, \"total_of_special_requests\")"
   ]
  },
  {
   "cell_type": "markdown",
   "metadata": {},
   "source": [
    "People who have spetial requests tend to cancel below the average, and it looks like the more spetial guests, the less liklehood for a cancellation."
   ]
  },
  {
   "cell_type": "markdown",
   "metadata": {},
   "source": [
    "#### ADR "
   ]
  },
  {
   "cell_type": "code",
   "execution_count": null,
   "metadata": {
    "scrolled": false
   },
   "outputs": [],
   "source": [
    "# fig, ax = plt.subplots()\n",
    "g = sns.catplot(x = \"is_canceled\", y = \"adr\", data = bookings, kind = \"box\", hue = \"is_canceled\", col = \"hotel\")\n",
    "g.set(yscale=\"log\", ylim = (0, 1000))\n"
   ]
  },
  {
   "cell_type": "markdown",
   "metadata": {},
   "source": [
    "For people in resorts bookings canceled tend to have higher ADR. Maybe there is a difference in resort"
   ]
  },
  {
   "cell_type": "markdown",
   "metadata": {},
   "source": [
    "#### Summary of findings\n",
    "\n",
    "Cancelation percentage over bookings is 37 %. 27 % for the resort hotel and 41 % for the city hotel\n",
    "\n",
    "Variables with more predictive potential based on the exploratory analysis\n",
    "\n",
    "- **hotel**: In the resort hotel 27 % of reservation are canceled while the city hotel is 41 %.\n",
    "\n",
    "- **is_repeated_guest**: Very few cancelations for repeated guests though only 3 % of guests repeat.\n",
    "\n",
    "- **has_previous_cancellations**: reservations with previous cancelations tend to cancel more but they represent only a 5 % of total bookinggs.\n",
    "\n",
    "- **deposit_type**: High levels con cancellations for non-refundable bookings. Which amount for 12 % of bookings.\n",
    "\n",
    "- **lead_time_weeks**: there is a clear positive relationship between proportion of bookings canceled and lead time.\n",
    "\n",
    "- **agent_grouped**: there are some agents whose reservations are clearly above average.\n",
    "\n",
    "- **company_grouped**: Bookings for the two main companies are canceled below the average.\n",
    "\n",
    "- **children**: people with children tend to cancel more than the average (though they only represent a 3 % of the bookings).\n",
    "\n",
    "- **adults**: people who travel alone tend to cancel less (19 % of the bookings fall into this group).\n",
    "\n",
    "- **country_grouped**: Portuguese (local market) tend to cancel a lot more, and they are the most abundant (40 % of the reservations).\n",
    "\n",
    "- **market_segment**: online TA in resort and groups en city tend to cancel more.\n",
    "\n",
    "- **customer_type**: among the important categories, Groups and transient-party tend to cancel less than the average.\n",
    "\n",
    "- **total_spetial_requests**: people who have spetial requests tend to cancel below the average, specially in the city hotel.\n",
    "\n",
    "- **adr**: it looks like it could have an influence in resort hotels."
   ]
  },
  {
   "cell_type": "markdown",
   "metadata": {},
   "source": [
    "For interpretability reasons, since there could be multicolinearity between adr and other variables like deposit type, we'll not use it in our model."
   ]
  },
  {
   "cell_type": "markdown",
   "metadata": {},
   "source": [
    "**Pick variables for modeling**"
   ]
  },
  {
   "cell_type": "code",
   "execution_count": null,
   "metadata": {
    "scrolled": true
   },
   "outputs": [],
   "source": [
    "df_model = bookings[['is_canceled', 'hotel', 'market_origin_local', 'total_of_special_requests', \n",
    "                     'lead_time_weeks', 'deposit_type', 'travels_alone', 'agent_grouped', 'is_repeated_guest', \n",
    "                     'has_previous_cancellations', 'children', 'market_segment', \n",
    "                     'customer_type', 'company_grouped', 'arrival_date_month', 'arrival_date_month', 'booking_month']]"
   ]
  },
  {
   "cell_type": "markdown",
   "metadata": {},
   "source": [
    "**Filling na values**"
   ]
  },
  {
   "cell_type": "markdown",
   "metadata": {},
   "source": [
    "Agent is the only variable with missing values. We'll proceed to flag this values with the name 'missing'"
   ]
  },
  {
   "cell_type": "code",
   "execution_count": null,
   "metadata": {
    "scrolled": true
   },
   "outputs": [],
   "source": [
    "# df_model['agent'] = df_model['agent'].fillna('missing')\n",
    "df_model['children'] = df_model['children'].fillna('missing')"
   ]
  },
  {
   "cell_type": "markdown",
   "metadata": {},
   "source": [
    "**Model matrices and creation of dummy variables**"
   ]
  },
  {
   "cell_type": "code",
   "execution_count": null,
   "metadata": {},
   "outputs": [],
   "source": [
    "# extracting the response variable and assigning it to the y array\n",
    "df_response = df_model.drop('is_canceled', axis = 1)\n",
    "y = df_model['is_canceled']\n",
    "\n",
    "# getting dummies and assign the data to the X array\n",
    "X = pd.get_dummies(df_response)"
   ]
  },
  {
   "cell_type": "markdown",
   "metadata": {},
   "source": [
    "#### Data split"
   ]
  },
  {
   "cell_type": "code",
   "execution_count": null,
   "metadata": {
    "scrolled": true
   },
   "outputs": [],
   "source": [
    "X_train, X_test, y_train, y_test = train_test_split(X, y, test_size = .3, random_state = 123)"
   ]
  },
  {
   "cell_type": "markdown",
   "metadata": {},
   "source": [
    "#### Model selection"
   ]
  },
  {
   "cell_type": "markdown",
   "metadata": {},
   "source": [
    "We confronted logistic regression with a random forest classifier, giving the latter systemmatically better results than the former.\n",
    "\n",
    "We include here the model selection for the random forest classifier"
   ]
  },
  {
   "cell_type": "code",
   "execution_count": null,
   "metadata": {},
   "outputs": [],
   "source": [
    "# creation of Random Forest classifier\n",
    "rf = RandomForestClassifier(random_state = 123, oob_score = True)\n",
    "\n",
    "# hyperparameters\n",
    "params_rf = {'n_estimators': [100, 250, 500], \n",
    "             'max_features': ['log2', 'auto', 'sqrt']}\n",
    "\n",
    "# Cross validation with grid search\n",
    "grid_rf = GridSearchCV(estimator = rf, param_grid = params_rf, verbose = 1, n_jobs = 2)"
   ]
  },
  {
   "cell_type": "code",
   "execution_count": null,
   "metadata": {},
   "outputs": [],
   "source": [
    "# model fitting\n",
    "grid_rf.fit(X_train, y_train)"
   ]
  },
  {
   "cell_type": "code",
   "execution_count": null,
   "metadata": {},
   "outputs": [],
   "source": [
    "# getting best model and OOB cv score\n",
    "best_model = grid_rf.best_estimator_\n",
    "best_model.oob_score_"
   ]
  },
  {
   "cell_type": "code",
   "execution_count": null,
   "metadata": {},
   "outputs": [],
   "source": [
    "best_model"
   ]
  },
  {
   "cell_type": "markdown",
   "metadata": {},
   "source": [
    "#### Best model fitting on entire training set"
   ]
  },
  {
   "cell_type": "code",
   "execution_count": null,
   "metadata": {
    "scrolled": true
   },
   "outputs": [],
   "source": [
    "best_model.fit(X_train, y_train)"
   ]
  },
  {
   "cell_type": "markdown",
   "metadata": {},
   "source": [
    "#### Model prediction"
   ]
  },
  {
   "cell_type": "code",
   "execution_count": null,
   "metadata": {},
   "outputs": [],
   "source": [
    "y_pred_rf = best_model.predict(X_test)\n",
    "y_pred_proba = best_model.predict_proba(X_test)[:,1]"
   ]
  },
  {
   "cell_type": "markdown",
   "metadata": {},
   "source": [
    "#### Model evaluation"
   ]
  },
  {
   "cell_type": "code",
   "execution_count": null,
   "metadata": {
    "scrolled": true
   },
   "outputs": [],
   "source": [
    "roc_auc_score(y_test, y_pred_proba)"
   ]
  },
  {
   "cell_type": "code",
   "execution_count": null,
   "metadata": {
    "scrolled": true
   },
   "outputs": [],
   "source": [
    "print(confusion_matrix(y_test, y_pred_rf))\n",
    "print(classification_report(y_test, y_pred_rf))"
   ]
  },
  {
   "cell_type": "markdown",
   "metadata": {},
   "source": [
    "The model has an accuracy of 0.85, a recall of 0.77, and an f1 score of 0.79"
   ]
  },
  {
   "cell_type": "markdown",
   "metadata": {},
   "source": [
    "##### Feature importance "
   ]
  },
  {
   "cell_type": "code",
   "execution_count": null,
   "metadata": {
    "scrolled": false
   },
   "outputs": [],
   "source": [
    "fig=plt.figure(figsize=(7, 18), dpi= 80, facecolor='w', edgecolor='k')\n",
    "importances = pd.Series(data=best_model.feature_importances_,\n",
    "                        index= X_train.columns)\n",
    "\n",
    "importances_sorted = importances.sort_values()\n",
    "importances_sorted.plot(kind = \"barh\", color = \"lightgreen\")\n",
    "plt.show()"
   ]
  },
  {
   "cell_type": "markdown",
   "metadata": {},
   "source": [
    "Lead time, market of ogirin, the deposit type and the number of spetial requests are the most important features when predicting for future cancelations."
   ]
  }
 ],
 "metadata": {
  "kernelspec": {
   "display_name": "Python 3",
   "language": "python",
   "name": "python3"
  },
  "language_info": {
   "codemirror_mode": {
    "name": "ipython",
    "version": 3
   },
   "file_extension": ".py",
   "mimetype": "text/x-python",
   "name": "python",
   "nbconvert_exporter": "python",
   "pygments_lexer": "ipython3",
   "version": "3.7.6"
  }
 },
 "nbformat": 4,
 "nbformat_minor": 4
}
