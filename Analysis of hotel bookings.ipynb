{
 "cells": [
  {
   "cell_type": "markdown",
   "metadata": {},
   "source": [
    "## Questions of interest "
   ]
  },
  {
   "cell_type": "markdown",
   "metadata": {},
   "source": [
    "Hotel industry is a complicated field for data analysis. Hotel performance depends on a lot of variables: location, room types distribution, meals, tour operators, time of the year flights capacity, etc.\n",
    "\n",
    "Booking data is the one of the most granular data in the hotel industry from the perspective of the revenue: one can disclose time paterns or try to predict outcomes like wheter a booking will end up in a cancellation.\n",
    "\n",
    "We'll try to use an open dataset with information of two real hotels to answer questions of interest regarding the industry, and those hotels in particular.\n",
    "\n",
    "This analysis takes data from a [Kaggle dataset](https://www.kaggle.com/jessemostipak/hotel-booking-demand) that in turns takes it from [siencedirect.com](https://www.sciencedirect.com/science/article/pii/S2352340918315191). It's real booking data from two hotels in Portugal: one resort hotel and one city hotel, with arrivals from july 2015 to august 2017, including a total of 21 variables. For more detail information about the dataset you can go visit the [dataset from Kaggle](https://www.kaggle.com/jessemostipak/hotel-booking-demand)\n",
    "\n",
    "There are three question that this analyisis will try to solve and that there are important from a business perspective.\n",
    "\n",
    "**1. How strong is the seasonality in the hotels?**\n",
    "\n",
    "Hotels, spetially resort hotels are known to have strong seasonality. If you are managing one of this hotels or if you want to introduce yourself in a market, a very basic point is to understand the seasonality patterns. ¿how strong is the seasonality? ¿When does the 'summer season' beggins in this location (April, May, ...)?\n",
    "\n",
    "**2. Up to what point adr, length of stay and lead time for groups reservation difers from individual / transient ones?**\n",
    "\n",
    "This question is important from the revenue point of view: if groups usually make reservations with a lot of antelation, they could by at a cheaper price, since ussually there are erly booking offers, and prices tend to be higher when there is little antelation. In this situation, an hotelier can have an hotel nearly at the top of its capacity for a series of consecutive nights, that have been sold at a very low price, because a group made the reservation well on advance. Moreover, if a group comes to an event that takes place for only two days, say tuesday and wenedsday (in the middle of the week), and this group makes for 80 or 90 % of the hotel rooms, in some hotels it will me more difficultto fill up the hotel for that particular week. It will be more difficult to sell a room when you are forced to sell it \"from thursday to sunday\". For this reason sometimes the price for a group should be higher than the average rate. We'll also try to check if this difficulty to sell rooms in the adjancent days of a group stay is true in the case of these two hotels.\n",
    "\n",
    "**3. Can we predict a cancellation, just with the information available at the moment this reservation has been made?**\n",
    "\n",
    "If we can predict wether or not a booking will be cancelled we can target this client (if posible) for specific marketing campaigns for clients that will likely cancel a reservation if no action is taken."
   ]
  },
  {
   "cell_type": "markdown",
   "metadata": {},
   "source": [
    "## Initial setting "
   ]
  },
  {
   "cell_type": "code",
   "execution_count": 1,
   "metadata": {},
   "outputs": [],
   "source": [
    "# libraries\n",
    "import pandas as pd\n",
    "import numpy as np\n",
    "import matplotlib.pyplot as plt\n",
    "import seaborn as sns\n",
    "import matplotlib.ticker as mtick\n",
    "from datetime import datetime as dt, timedelta\n",
    "import statsmodels.api as sm\n",
    "import calendar\n",
    "from scipy.stats import mannwhitneyu, ttest_ind, ttest_rel\n",
    "from sklearn.model_selection import train_test_split\n",
    "from sklearn.ensemble import RandomForestClassifier\n",
    "from sklearn.metrics import accuracy_score, roc_auc_score\n",
    "from sklearn.metrics import confusion_matrix, classification_report\n",
    "from sklearn.model_selection import GridSearchCV, cross_val_score\n",
    "import math\n",
    "\n",
    "# plotting options\n",
    "%matplotlib inline"
   ]
  },
  {
   "cell_type": "markdown",
   "metadata": {},
   "source": [
    "## Helper functions\n",
    "\n",
    "Below, there are several functions created specifically for this analysis."
   ]
  },
  {
   "cell_type": "code",
   "execution_count": 2,
   "metadata": {},
   "outputs": [],
   "source": [
    "def compute_main_kpis(dat, grouping_variables):\n",
    "    \n",
    "    ''' \n",
    "    Computes common KPIs (revenue, roomnights, adr) for any given level of aggregation from a DataFrame\n",
    "    ASSUME:  the DataFrame includes the colum lenght_of_stay, revenue and roomnights\n",
    "    \n",
    "    INPUTS\n",
    "        - dat: DataFrame with booking data\n",
    "        - grouping_variables: list of variables whose grouping is the basis of the computation\n",
    "        \n",
    "    OUTPUT:\n",
    "        - Data frame with columns 'revenue', 'roomnights' and 'ADR' grouped by grouping_variables\n",
    "    ''' \n",
    "    \n",
    "    # computes revenue\n",
    "    dat = dat.groupby(grouping_variables).agg({\"length_of_stay\": \"sum\",  \"revenue\": \"sum\"})\n",
    "    \n",
    "    # computes roomnights\n",
    "    dat = dat.rename(columns = {'length_of_stay': 'roomnights'})\n",
    "    \n",
    "    # computes ADR\n",
    "    dat[\"adr\"] = dat[\"revenue\"] / dat[\"roomnights\"]\n",
    "    \n",
    "    return dat\n",
    "\n",
    "\n",
    "def resample_time_kpis(dat, order):\n",
    "    \n",
    "    '''\n",
    "    Computes coomon kPIs  from any given booking DataFrame with a DateTime index, resampling the DataFrame by \n",
    "    the order specified in 'order'.\n",
    "    \n",
    "    The difference between this function and compute_main_kpis is that when we group by Date we have an DateTime index from which we \n",
    "    can perform time series operations like compute the seasonal index.\n",
    "    \n",
    "    INPUTS\n",
    "        - dat: DataFrame with a datetime index\n",
    "        - order: resample order\n",
    "        \n",
    "    OUTPUT\n",
    "        DateTime indexed DataFrame with columns 'roomnights', 'revenue' and 'adr'\n",
    "    \n",
    "    ''' \n",
    "    \n",
    "    # computes roomnights and revenue\n",
    "    dat = dat.resample(order).agg({'roomnights': 'sum', 'revenue': 'sum'})\n",
    "    \n",
    "    # computes adr\n",
    "    dat['adr'] = dat['revenue'] / dat['roomnights']\n",
    "    \n",
    "    return dat\n",
    "\n",
    "def relativize_kpi(dat, kpi):\n",
    "    \n",
    "    '''\n",
    "    Divides numeric series into its maximum value\n",
    "    \n",
    "    INPUTS\n",
    "        - dat: DataFrame\n",
    "        - kpi: column we want to relativize\n",
    "        \n",
    "    ''' \n",
    "    \n",
    "    return dat[kpi] / max(dat[kpi])\n",
    "\n",
    "\n",
    "def compute_mavg(df, variable, k = 7): \n",
    "    \n",
    "    '''Computes moving average from a numerical column from a given DataFrame\n",
    "    \n",
    "    INPUTS\n",
    "        - df: DataFrame\n",
    "        - variable: str. Name of the column in the DataFrame\n",
    "        - k: int. Rolling average order\n",
    "        \n",
    "    OUTPUTS\n",
    "        Serires with the computed rolling average\n",
    "    '''\n",
    "    \n",
    "    \n",
    "    return df[variable].rolling(window = k).mean()\n",
    "\n",
    "def compute_seasonality_strength(decomp_series):\n",
    "    \n",
    "    '''\n",
    "    Computes Seasonality strengh from a decomposed time series according to the method available in the\n",
    "    following link: https://otexts.com/fpp2/seasonal-strength.html\n",
    "    \n",
    "    INPUT\n",
    "        -decomp_series: an statsmodels.tsa.seasonal object with seasonal data\n",
    "        \n",
    "    OUTPUT\n",
    "        - numeric score\n",
    "    '''\n",
    "    \n",
    "    return 1 - np.var(decomp_series.resid) / (np.var(decomp_series.resid) + np.var(decomp_series.seasonal))\n",
    "\n",
    "\n",
    "def filter_confirmed(dat):\n",
    "    \n",
    "    '''Filters confirmed reservations from a DataFrame dat\n",
    "    ASSUME: dat has a binary 'is_canceled' columns with values 0 for non canceled and 1 for canceled bookings\n",
    "    \n",
    "    IMPUT\n",
    "        - dat: DataFrame to be filtered\n",
    "        \n",
    "    OUTPUT\n",
    "        - A filtered version of the imput DataFrame with canceled bookings removed\n",
    "    '''\n",
    "    return dat[dat['is_canceled'] == 0]\n",
    "\n",
    "\n",
    "\n",
    "def arrival_to_stay(ser, group_vars = None):\n",
    "    \n",
    "    '''\n",
    "    Takes a series with an arrival date and a length of state and creates a data frame expanding the arrival date to stay dates.\n",
    "    i.e: if the lenght of stay is 3, the data frame will have three rows. Creates additional rows replicating other values from the series\n",
    "    \n",
    "    The function is meant to be used taken an individual row from the bookigns data sets in this analysis\n",
    "    \n",
    "    IMPUTS\n",
    "        - ser: Pandas series. It's mean to be a row from a booking DataFrame loaded or created in this analysis\n",
    "        - group_vars: additional columns to include in the data frame besides stay_date\n",
    "        \n",
    "    OUTPUTS\n",
    "        - Pandas DataFrame\n",
    "    '''\n",
    "        \n",
    "    # lenght of stay extraction\n",
    "    los = ser['length_of_stay']\n",
    "    \n",
    "    # gets intiial stay date\n",
    "    arrival_date = ser['arrival_date']\n",
    "    \n",
    "    # creates a range of consecutive dates taking arrival_date as first date \n",
    "    # and arrival_date + los as the last date. As we count nights not days, last day is substracted\n",
    "    # exect when length of stay is 0\n",
    "    days = pd.date_range(arrival_date, arrival_date + timedelta(days = int(los - 1 * (los > 0))))\n",
    "    \n",
    "    # helper function to create arrays with repeated values\n",
    "    def expand_point(point):\n",
    "        return np.repeat(ser[point], los + (los == 0) * 1)\n",
    "    \n",
    "\n",
    "    \n",
    "    # creating a data frame with stay_dates and repeated vallues from important kpis or dimensions\n",
    "    dat = pd.DataFrame(data = {'stay_date': days,\n",
    "                               'roomnights': np.repeat((los > 0) * 1, los + (los == 0) * 1),\n",
    "                               'revenue': expand_point(\"adr\")\n",
    "                                  }\n",
    "                      )\n",
    "    \n",
    "    \n",
    "    # include additional columns in the DataFrame\n",
    "    df_add_cols = pd.DataFrame()\n",
    "    \n",
    "    if group_vars is not None:\n",
    "        for name in group_vars:\n",
    "            df_add_cols[name] = expand_point(name)\n",
    "    \n",
    "    dat = pd.concat([dat, df_add_cols], axis = 1) \n",
    " \n",
    "    return dat\n",
    "    \n",
    "    \n",
    "def get_daily_data(booking_data, group_vars = None):\n",
    "    \n",
    "    \n",
    "    '''\n",
    "    Aggregates a bookings dataset to a daily dataset where the dates are stay dates, not arrival dates.\n",
    "    Employs \"arrival_to_stay\" function to expand each booking into a DataFrame with the number of rows equal to the \n",
    "    number of nights. Three daily kpis are obtained as a result of this aggregation: roomnights, revenue and adr\n",
    "    \n",
    "    IMPUT\n",
    "        - booking_data: DataFrame with bookings\n",
    "    \n",
    "    OUTPUT\n",
    "        - DataFrame with daily aggregated data\n",
    "        - group_vars: optional additional variables used for grouping when computing the daily data\n",
    "    \n",
    "    '''\n",
    "    \n",
    "    # creates a list of DataFrames, each one being a booking row from the input data, which has been expanded\n",
    "    # with the function arrival_to_stay\n",
    "    expanded_data_list = [arrival_to_stay(booking_data.loc[row, :], group_vars) for row in range(booking_data.shape[0])]\n",
    "    \n",
    "    # concatenates the previous list into one DataFrame\n",
    "    stay_data = pd.concat(expanded_data_list, axis = 0)\n",
    "    \n",
    "    group_list =['stay_date']\n",
    "    \n",
    "    if group_vars is not None:\n",
    "        group_list.extend(group_vars)\n",
    "\n",
    "    \n",
    "    # groups data by date, obtaining roomnights and revenue\n",
    "    daily_data = stay_data.groupby(group_list).agg({'roomnights':'sum',\n",
    "                                                     'revenue': 'sum'}).reset_index()\n",
    "    \n",
    "    # computes adr from roomnights and reveue\n",
    "    daily_data['adr'] = daily_data['revenue'] / daily_data['roomnights']\n",
    "    \n",
    "    # creates month and week columns\n",
    "    daily_data['stay_month'] = daily_data['stay_date'].dt.month\n",
    "    daily_data['stay_week'] = daily_data['stay_date'].dt.week\n",
    "    \n",
    "    # creates DateTime Index with stay_date\n",
    "    daily_data = daily_data.set_index('stay_date')\n",
    "    \n",
    "    return daily_data\n",
    "\n",
    "\n",
    "def plot_cancel_prop(df, var, grouping_var = \"hotel\", aspect = 1, rot = 0):\n",
    "    \n",
    "    '''Automatizes category chart creation to summarize proportion of cancelations grouped by a variable introduced \n",
    "    by the user. It is also posible to create an additional grouping with subplots.\n",
    "    \n",
    "    It also returns the proportion for each one of the grouping variable categories\n",
    "    \n",
    "    ASSUME: the data to create the plot is a bookings DataFrame which includes the variables 'is_canceled' and 'hotel'\n",
    "    \n",
    "    IMPUTS\n",
    "        - df: DataFrame from which the data to create the plot is taken\n",
    "        - var: variable to group the results\n",
    "        - grouping_var: varible to create subplots\n",
    "        - aspect: plot width\n",
    "        - rot: rotation of x axis\n",
    "    '''\n",
    "    \n",
    "    # computes variable categories proportion\n",
    "    prop_categories = df[var].value_counts() / sum(df[var].value_counts())\n",
    "    \n",
    "    # creates plot               \n",
    "    g = sns.catplot(x = var, y = 'is_canceled',\n",
    "                                        data = df, kind = \"bar\", col = grouping_var,\n",
    "                                        col_wrap = 2, aspect = aspect)\n",
    "    \n",
    "    # rotates x axis labels\n",
    "    g.set_xticklabels(rotation= rot)\n",
    "    \n",
    "    return prop_categories, g\n",
    "\n",
    "\n",
    "    \n",
    "def sort_categories_distrib(df, var):\n",
    "    \n",
    "    '''Assigns relative frequency and cumulative relative frequency for each category of an object column in a data frame\n",
    "    and sorts it from higher to lower frequency\n",
    "    \n",
    "    INPUTS\n",
    "    \n",
    "        - df: DataFrame with the column to sort\n",
    "        - var: column to sort\n",
    "    \n",
    "    OUTPUT\n",
    "    \n",
    "    DataFrame with sorted relative frequencies\n",
    "    '''\n",
    "    \n",
    "    # series of sorted values with frequencies\n",
    "    sorted_categories = df[var].value_counts().sort_values(ascending = False)\n",
    "    \n",
    "    # computes relative frequency\n",
    "    sorted_categories = pd.DataFrame(data = sorted_categories / sum(sorted_categories)).rename(columns = {var:\"f\"})\n",
    "   \n",
    "    # computes cumulative relative frequency\n",
    "    sorted_categories['F'] = sorted_categories.f.cumsum()\n",
    "    \n",
    "    return sorted_categories\n",
    "\n",
    "\n",
    "def group_main_categories(df, var, n_categories):\n",
    "    \n",
    "    ''' Groups less frequent categories in an object column from a DataFrame assigning them the value \"other\"\n",
    "    making use of the sort_categories_distrib function. \n",
    "        \n",
    "    \n",
    "    IMPUTS\n",
    "        - df: DataFrame with column to group\n",
    "        - var: column to group\n",
    "        - n_categories: Threshold. Number of most frequent categories that won't be grouped.\n",
    "    '''\n",
    "    \n",
    "    # gets most frequent categories\n",
    "    main_categories = sort_categories_distrib(df, var).head(n_categories).index\n",
    "    \n",
    "    # groups categories if they are not among the most frequent ones\n",
    "    return [categorie if categorie in main_categories else \"other\" for categorie in df[var]]\n",
    "    \n",
    "    \n",
    "def get_seasonal_dataframe(dec_series, columns = None):\n",
    "    \n",
    "    '''Takes the seasonal component from a decomposed time series, computes an standarized version of it\n",
    "    and creates a DataFrame with these computations and additional constant columns added by the user\n",
    "    \n",
    "    IMPUTS\n",
    "        - seasonal.DecomposeResult: the decomposed time series\n",
    "        - colums: dictionary with the names of the new constant columns and its constant value\n",
    "    \n",
    "    '''\n",
    "    \n",
    "    # get seasonal component\n",
    "    seas_df = pd.DataFrame(dec_series.seasonal)\n",
    "    \n",
    "    # standarize seasonal component\n",
    "    seas_df['seas_standarized'] = seas_df['seasonal'] / (seas_df['seasonal']).std()\n",
    "    \n",
    "    # adding constant columns when provided\n",
    "    if columns is not None:\n",
    "        \n",
    "        for key in columns.keys():\n",
    "            \n",
    "            seas_df[key] = columns[key]\n",
    "    \n",
    "    # reset index\n",
    "    seas_df.reset_index(inplace = True)\n",
    "    \n",
    "    return seas_df\n",
    "\n",
    "\n",
    "\n",
    "def get_large_group_dates(df, start_date,  group_size):\n",
    "    \n",
    "    ''' Returns a list with the dates of group bookings of a certain size from a DataFrame of daily hotel data\n",
    "    whitin a year period.\n",
    "    ASSUME: The DataFrame contains the columns, \"stay_date\", \"roomnights\" and \"roomnights_groups\"\n",
    "    \n",
    "    INPUTS\n",
    "        -df: DataFrame of daily hotel data\n",
    "        - start_date: Date. where to start filtering. \n",
    "        - group_size: float between 0 and 1 representing the group size relative to the day of max. occupation.\n",
    "        \n",
    "    OUTPUT\n",
    "        A list of the stay dates of the groups\n",
    "    '''\n",
    "    \n",
    "    # compute the end of the period analyzed: one year\n",
    "    end_date = start_date + relativedelta(years = 1)\n",
    "    \n",
    "    # get max roomnights in the dataset\n",
    "    max_roomnights = max(df.roomnights)\n",
    "    \n",
    "    # filters groups larger thatn group_size and dates determined by start_date and end_date\n",
    "    large_group_dates = list(df.loc[(df.roomnights_groups / max_roomnights > group_size) & \n",
    "                                  (df.stay_date >= start_date) &\n",
    "                                  (df.stay_date <= end_date), \n",
    "                                  \"stay_date\"])\n",
    "\n",
    "    \n",
    "def get_min_distance_large_groups(df, large_group_dates): \n",
    "    \n",
    "    '''Compputes de minimum distance in days to a group stay, for every row in a hotel daily data\n",
    "    ASSUME: df has a column with dates named 'stay_date'\n",
    "    \n",
    "    INPUTS\n",
    "    \n",
    "        - df: DataFrame with the dailty data\n",
    "        - large_group_dates: list with dates. These are the group stay dates\n",
    "        \n",
    "    OUTPUT \n",
    "        list of integers with the minimum distance to a group in which each instance corresponds to a row in df.\n",
    "        \n",
    "    '''\n",
    "    \n",
    "    # initiate a list of distane to groups\n",
    "    distance_to_group = list()\n",
    "\n",
    "    # get the minimum distance to groups for every row (date) in the dataset\n",
    "    for row in range(df.shape[0]):\n",
    "        \n",
    "        # date of the corresponding row\n",
    "        current_date = df.iloc[row]['stay_date']\n",
    "        \n",
    "        # distances are the difference in days between the date in the current row and every group stay date\n",
    "        durations = [abs((current_date - group_date).days) for group_date in large_group_dates]\n",
    "        \n",
    "        # for the row being analyzed, picks the minimum distance among all the group stays.\n",
    "        distance_to_group.append(min(durations))\n",
    "    \n",
    "    return distance_to_group\n",
    "\n",
    "\n",
    "def get_min_distance_large_groups(df, large_group_dates): \n",
    "    \n",
    "    '''Compputes de minimum distance in days to a group stay, for every row in a hotel daily data\n",
    "    ASSUME: df has a column with dates named 'stay_date'\n",
    "    \n",
    "    INPUTS\n",
    "    \n",
    "        - df: DataFrame with the dailty data\n",
    "        - large_group_dates: list with dates. These are the group stay dates\n",
    "        \n",
    "    OUTPUT \n",
    "        list of integers with the minimum distance to a group in which each instance corresponds to a row in df.\n",
    "        \n",
    "    '''\n",
    "    \n",
    "    # initiate a list of distane to groups\n",
    "    distance_to_group = list()\n",
    "\n",
    "    # get the minimum distance to groups for every row (date) in the dataset\n",
    "    for row in range(df.shape[0]):\n",
    "        \n",
    "        # date of the corresponding row\n",
    "        current_date = df.iloc[row]['stay_date']\n",
    "        \n",
    "        # distances are the difference in days between the date in the current row and every group stay date\n",
    "        durations = [abs((current_date - group_date).days) for group_date in large_group_dates]\n",
    "        \n",
    "        # for the row being analyzed, picks the minimum distance among all the group stays.\n",
    "        distance_to_group.append(min(durations))\n",
    "    \n",
    "    return distance_to_group\n",
    "\n",
    "\n",
    "def perform_adjacent_dates_testing(df, adjacent_days, start_date,  group_size, mean_adr_cy, mean_adr_py):\n",
    "    \n",
    "    df_adj = df.copy()\n",
    "    \n",
    "    # get previous year data to get large_group dates from py\n",
    "    star_date_py = start_date - relativedelta(years = 1)\n",
    "    \n",
    "    # stay dates for large groups: current and previous year\n",
    "    large_group_dates_cy = get_large_group_dates(df_adj, start_date, group_size)\n",
    "    large_group_dates_py = get_large_group_dates(df_adj, start_date_py, group_size)\n",
    "    \n",
    "    # computation of minimum distance in days from large groups for every date in df\n",
    "    distance_large_groups_cy = get_min_distance_large_groups(df_adj, large_group_dates_cy)\n",
    "    distance_large_groups_py = get_min_distance_large_groups(df_adj, large_group_dates_py)\n",
    "    \n",
    "    \n",
    "    df_adj['distance_large_groups_cy'] = distance_large_groups_cy\n",
    "    df_adj['distance_large_groups_py'] = distance_large_groups_py\n",
    "    \n",
    "    # df_adj['stay_date'] = df_adj['stay_date'].apply(lambda x: x.date())\n",
    "    \n",
    "    #creation of time references to join data afterwards\n",
    "    df_adj['stay_year'] = df_adj['stay_date'].dt.year\n",
    "    df_adj['stay_weekday'] = df_adj['stay_date'].apply(lambda x: x.weekday())\n",
    "    \n",
    "    # create filtered DataFrames with adjadcent dates\n",
    "    adjacent_list =   [idx for idx in range(1, adjacent_days + 1)]\n",
    "    \n",
    "    adjacent_days_cy = df_adj.loc[df_adj.distance_large_groups_cy.isin(adjacent_list), \n",
    "                              [\"stay_year\", \"stay_week\", \"stay_weekday\", \"adr\"]].rename(columns = {'adr': 'adr_cy'})\n",
    "    \n",
    "    adjacent_days_py = adjacent_days_cy.copy()\n",
    "    adjacent_days_py['stay_year'] = adjacent_days_cy['stay_year'] - 1\n",
    "    \n",
    "    # filter distance from group days\n",
    "    adjacent_days_py_merged = adjacent_days_py.merge(df_adj, how = \"inner\", on = [\"stay_year\", \"stay_week\", \"stay_weekday\"])\n",
    "    adjacent_days_py_filtered = adjacent_days_py_merged[adjacent_days_py_merged['distance_large_groups_py'] > adjacent_days]\n",
    "    \n",
    "    # prepare previous year data to merge with current year data \n",
    "    adjacent_days_py_filtered['stay_year'] = adjacent_days_py_filtered['stay_year'] + 1\n",
    "    adjacent_days_py_filtered = adjacent_days_py_filtered[['stay_year', 'stay_week', 'stay_weekday', 'adr']]\n",
    "    adjacent_days_py_filtered.rename(columns = {'adr': 'adr_py'}, inplace = True)\n",
    "    \n",
    "    # merge py and cy data\n",
    "    adjacent_days_combined = adjacent_days_cy[['stay_year', 'stay_week', 'stay_weekday', 'adr_cy']]\\\n",
    "    .merge(adjacent_days_py_filtered, how = \"inner\", on = ['stay_year', 'stay_week', 'stay_weekday'])\n",
    "    \n",
    "    # compute relative adr\n",
    "    adjacent_days_combined['rel_adr_cy'] = adjacent_days_combined['adr_cy'] / mean_adr_cy * 100\n",
    "    adjacent_days_combined['rel_adr_py'] = adjacent_days_combined['adr_py'] / mean_adr_py * 100\n",
    "    \n",
    "    # perform pair ttest\n",
    "    test = ttest_rel(adjacent_days_combined['rel_adr_cy'], adjacent_days_combined['rel_adr_py'])\n",
    "    \n",
    "    return adjacent_days_combined, test\n"
   ]
  },
  {
   "cell_type": "markdown",
   "metadata": {},
   "source": [
    "## Load Data"
   ]
  },
  {
   "cell_type": "code",
   "execution_count": 3,
   "metadata": {},
   "outputs": [],
   "source": [
    "# getting data\n",
    "bookings = pd.read_csv('hotel_bookings.csv', parse_dates = True)"
   ]
  },
  {
   "cell_type": "markdown",
   "metadata": {},
   "source": [
    "## Pre-exploration"
   ]
  },
  {
   "cell_type": "code",
   "execution_count": 4,
   "metadata": {
    "scrolled": false
   },
   "outputs": [
    {
     "name": "stdout",
     "output_type": "stream",
     "text": [
      "<class 'pandas.core.frame.DataFrame'>\n",
      "RangeIndex: 119390 entries, 0 to 119389\n",
      "Data columns (total 32 columns):\n",
      "hotel                             119390 non-null object\n",
      "is_canceled                       119390 non-null int64\n",
      "lead_time                         119390 non-null int64\n",
      "arrival_date_year                 119390 non-null int64\n",
      "arrival_date_month                119390 non-null object\n",
      "arrival_date_week_number          119390 non-null int64\n",
      "arrival_date_day_of_month         119390 non-null int64\n",
      "stays_in_weekend_nights           119390 non-null int64\n",
      "stays_in_week_nights              119390 non-null int64\n",
      "adults                            119390 non-null int64\n",
      "children                          119386 non-null float64\n",
      "babies                            119390 non-null int64\n",
      "meal                              119390 non-null object\n",
      "country                           118902 non-null object\n",
      "market_segment                    119390 non-null object\n",
      "distribution_channel              119390 non-null object\n",
      "is_repeated_guest                 119390 non-null int64\n",
      "previous_cancellations            119390 non-null int64\n",
      "previous_bookings_not_canceled    119390 non-null int64\n",
      "reserved_room_type                119390 non-null object\n",
      "assigned_room_type                119390 non-null object\n",
      "booking_changes                   119390 non-null int64\n",
      "deposit_type                      119390 non-null object\n",
      "agent                             103050 non-null float64\n",
      "company                           6797 non-null float64\n",
      "days_in_waiting_list              119390 non-null int64\n",
      "customer_type                     119390 non-null object\n",
      "adr                               119390 non-null float64\n",
      "required_car_parking_spaces       119390 non-null int64\n",
      "total_of_special_requests         119390 non-null int64\n",
      "reservation_status                119390 non-null object\n",
      "reservation_status_date           119390 non-null object\n",
      "dtypes: float64(4), int64(16), object(12)\n",
      "memory usage: 29.1+ MB\n"
     ]
    }
   ],
   "source": [
    "bookings.info()"
   ]
  },
  {
   "cell_type": "markdown",
   "metadata": {},
   "source": [
    "There are some columns with missing values. \"agent\" seems to be almost unsusable. It only has 6797 non-null cases. There are no missing values in variables of spetial interest: variables related with arrival_date, customer_type (the variable which includes groups, for the second question in the analysis) and is_canceled: the variable to determine wether a booking has been canceled."
   ]
  },
  {
   "cell_type": "markdown",
   "metadata": {},
   "source": [
    "**Inspecting the data**"
   ]
  },
  {
   "cell_type": "code",
   "execution_count": 5,
   "metadata": {
    "scrolled": false
   },
   "outputs": [
    {
     "data": {
      "text/html": [
       "<div>\n",
       "<style scoped>\n",
       "    .dataframe tbody tr th:only-of-type {\n",
       "        vertical-align: middle;\n",
       "    }\n",
       "\n",
       "    .dataframe tbody tr th {\n",
       "        vertical-align: top;\n",
       "    }\n",
       "\n",
       "    .dataframe thead th {\n",
       "        text-align: right;\n",
       "    }\n",
       "</style>\n",
       "<table border=\"1\" class=\"dataframe\">\n",
       "  <thead>\n",
       "    <tr style=\"text-align: right;\">\n",
       "      <th></th>\n",
       "      <th>hotel</th>\n",
       "      <th>is_canceled</th>\n",
       "      <th>lead_time</th>\n",
       "      <th>arrival_date_year</th>\n",
       "      <th>arrival_date_month</th>\n",
       "      <th>arrival_date_week_number</th>\n",
       "      <th>arrival_date_day_of_month</th>\n",
       "      <th>stays_in_weekend_nights</th>\n",
       "      <th>stays_in_week_nights</th>\n",
       "      <th>adults</th>\n",
       "      <th>...</th>\n",
       "      <th>deposit_type</th>\n",
       "      <th>agent</th>\n",
       "      <th>company</th>\n",
       "      <th>days_in_waiting_list</th>\n",
       "      <th>customer_type</th>\n",
       "      <th>adr</th>\n",
       "      <th>required_car_parking_spaces</th>\n",
       "      <th>total_of_special_requests</th>\n",
       "      <th>reservation_status</th>\n",
       "      <th>reservation_status_date</th>\n",
       "    </tr>\n",
       "  </thead>\n",
       "  <tbody>\n",
       "    <tr>\n",
       "      <td>0</td>\n",
       "      <td>Resort Hotel</td>\n",
       "      <td>0</td>\n",
       "      <td>342</td>\n",
       "      <td>2015</td>\n",
       "      <td>July</td>\n",
       "      <td>27</td>\n",
       "      <td>1</td>\n",
       "      <td>0</td>\n",
       "      <td>0</td>\n",
       "      <td>2</td>\n",
       "      <td>...</td>\n",
       "      <td>No Deposit</td>\n",
       "      <td>NaN</td>\n",
       "      <td>NaN</td>\n",
       "      <td>0</td>\n",
       "      <td>Transient</td>\n",
       "      <td>0.0</td>\n",
       "      <td>0</td>\n",
       "      <td>0</td>\n",
       "      <td>Check-Out</td>\n",
       "      <td>2015-07-01</td>\n",
       "    </tr>\n",
       "    <tr>\n",
       "      <td>1</td>\n",
       "      <td>Resort Hotel</td>\n",
       "      <td>0</td>\n",
       "      <td>737</td>\n",
       "      <td>2015</td>\n",
       "      <td>July</td>\n",
       "      <td>27</td>\n",
       "      <td>1</td>\n",
       "      <td>0</td>\n",
       "      <td>0</td>\n",
       "      <td>2</td>\n",
       "      <td>...</td>\n",
       "      <td>No Deposit</td>\n",
       "      <td>NaN</td>\n",
       "      <td>NaN</td>\n",
       "      <td>0</td>\n",
       "      <td>Transient</td>\n",
       "      <td>0.0</td>\n",
       "      <td>0</td>\n",
       "      <td>0</td>\n",
       "      <td>Check-Out</td>\n",
       "      <td>2015-07-01</td>\n",
       "    </tr>\n",
       "    <tr>\n",
       "      <td>2</td>\n",
       "      <td>Resort Hotel</td>\n",
       "      <td>0</td>\n",
       "      <td>7</td>\n",
       "      <td>2015</td>\n",
       "      <td>July</td>\n",
       "      <td>27</td>\n",
       "      <td>1</td>\n",
       "      <td>0</td>\n",
       "      <td>1</td>\n",
       "      <td>1</td>\n",
       "      <td>...</td>\n",
       "      <td>No Deposit</td>\n",
       "      <td>NaN</td>\n",
       "      <td>NaN</td>\n",
       "      <td>0</td>\n",
       "      <td>Transient</td>\n",
       "      <td>75.0</td>\n",
       "      <td>0</td>\n",
       "      <td>0</td>\n",
       "      <td>Check-Out</td>\n",
       "      <td>2015-07-02</td>\n",
       "    </tr>\n",
       "    <tr>\n",
       "      <td>3</td>\n",
       "      <td>Resort Hotel</td>\n",
       "      <td>0</td>\n",
       "      <td>13</td>\n",
       "      <td>2015</td>\n",
       "      <td>July</td>\n",
       "      <td>27</td>\n",
       "      <td>1</td>\n",
       "      <td>0</td>\n",
       "      <td>1</td>\n",
       "      <td>1</td>\n",
       "      <td>...</td>\n",
       "      <td>No Deposit</td>\n",
       "      <td>304.0</td>\n",
       "      <td>NaN</td>\n",
       "      <td>0</td>\n",
       "      <td>Transient</td>\n",
       "      <td>75.0</td>\n",
       "      <td>0</td>\n",
       "      <td>0</td>\n",
       "      <td>Check-Out</td>\n",
       "      <td>2015-07-02</td>\n",
       "    </tr>\n",
       "    <tr>\n",
       "      <td>4</td>\n",
       "      <td>Resort Hotel</td>\n",
       "      <td>0</td>\n",
       "      <td>14</td>\n",
       "      <td>2015</td>\n",
       "      <td>July</td>\n",
       "      <td>27</td>\n",
       "      <td>1</td>\n",
       "      <td>0</td>\n",
       "      <td>2</td>\n",
       "      <td>2</td>\n",
       "      <td>...</td>\n",
       "      <td>No Deposit</td>\n",
       "      <td>240.0</td>\n",
       "      <td>NaN</td>\n",
       "      <td>0</td>\n",
       "      <td>Transient</td>\n",
       "      <td>98.0</td>\n",
       "      <td>0</td>\n",
       "      <td>1</td>\n",
       "      <td>Check-Out</td>\n",
       "      <td>2015-07-03</td>\n",
       "    </tr>\n",
       "  </tbody>\n",
       "</table>\n",
       "<p>5 rows × 32 columns</p>\n",
       "</div>"
      ],
      "text/plain": [
       "          hotel  is_canceled  lead_time  arrival_date_year arrival_date_month  \\\n",
       "0  Resort Hotel            0        342               2015               July   \n",
       "1  Resort Hotel            0        737               2015               July   \n",
       "2  Resort Hotel            0          7               2015               July   \n",
       "3  Resort Hotel            0         13               2015               July   \n",
       "4  Resort Hotel            0         14               2015               July   \n",
       "\n",
       "   arrival_date_week_number  arrival_date_day_of_month  \\\n",
       "0                        27                          1   \n",
       "1                        27                          1   \n",
       "2                        27                          1   \n",
       "3                        27                          1   \n",
       "4                        27                          1   \n",
       "\n",
       "   stays_in_weekend_nights  stays_in_week_nights  adults  ...  deposit_type  \\\n",
       "0                        0                     0       2  ...    No Deposit   \n",
       "1                        0                     0       2  ...    No Deposit   \n",
       "2                        0                     1       1  ...    No Deposit   \n",
       "3                        0                     1       1  ...    No Deposit   \n",
       "4                        0                     2       2  ...    No Deposit   \n",
       "\n",
       "   agent company days_in_waiting_list customer_type   adr  \\\n",
       "0    NaN     NaN                    0     Transient   0.0   \n",
       "1    NaN     NaN                    0     Transient   0.0   \n",
       "2    NaN     NaN                    0     Transient  75.0   \n",
       "3  304.0     NaN                    0     Transient  75.0   \n",
       "4  240.0     NaN                    0     Transient  98.0   \n",
       "\n",
       "   required_car_parking_spaces  total_of_special_requests  reservation_status  \\\n",
       "0                            0                          0           Check-Out   \n",
       "1                            0                          0           Check-Out   \n",
       "2                            0                          0           Check-Out   \n",
       "3                            0                          0           Check-Out   \n",
       "4                            0                          1           Check-Out   \n",
       "\n",
       "  reservation_status_date  \n",
       "0              2015-07-01  \n",
       "1              2015-07-01  \n",
       "2              2015-07-02  \n",
       "3              2015-07-02  \n",
       "4              2015-07-03  \n",
       "\n",
       "[5 rows x 32 columns]"
      ]
     },
     "execution_count": 5,
     "metadata": {},
     "output_type": "execute_result"
    }
   ],
   "source": [
    "bookings.head()"
   ]
  },
  {
   "cell_type": "markdown",
   "metadata": {},
   "source": [
    "## Wrangling /cleaning"
   ]
  },
  {
   "cell_type": "markdown",
   "metadata": {},
   "source": [
    "### Constants "
   ]
  },
  {
   "cell_type": "markdown",
   "metadata": {},
   "source": [
    "We'll now set some constanst that will be used through the analysis, mainly in visualizations, for ordering axis or facets"
   ]
  },
  {
   "cell_type": "code",
   "execution_count": 6,
   "metadata": {},
   "outputs": [],
   "source": [
    "ordered_months = [\"January\", \"February\", \"March\", \"April\", \"May\", \"June\", \"July\", \"August\", \"September\", \n",
    "                 \"October\", \"November\", \"December\"]\n",
    "\n",
    "ordered_rooms = np.sort(bookings.assigned_room_type.unique())\n",
    "\n",
    "# month mapping (from numbers to names)\n",
    "month_mapping = {v: k for k,v in enumerate(calendar.month_name)}"
   ]
  },
  {
   "cell_type": "markdown",
   "metadata": {},
   "source": [
    "### Basic feature creation\n",
    "\n",
    "Below new features are created, mostly related with dates, but also variables related with revenue and length of stay"
   ]
  },
  {
   "cell_type": "code",
   "execution_count": 7,
   "metadata": {},
   "outputs": [],
   "source": [
    "# arrival_date\n",
    "bookings[\"arrival_date\"] = bookings[\"arrival_date_year\"].astype(str) + bookings[\"arrival_date_month\"] + bookings[\"arrival_date_day_of_month\"].astype(str)\n",
    "bookings[\"arrival_date\"] = bookings[\"arrival_date\"].apply(lambda x: dt.strptime(x, \"%Y%B%d\"))\n",
    "\n",
    "# length_of_stay as the sum of stays in weekdays and stays in weekends\n",
    "bookings['length_of_stay'] = bookings['stays_in_weekend_nights'] + bookings['stays_in_week_nights']\n",
    "\n",
    "# intervals for lenght_of_stay\n",
    "bookings['los_int'] = pd.cut(bookings.length_of_stay, bins = range(1,30, 2))\n",
    "\n",
    "# departure date\n",
    "bookings['departure_date'] = bookings.apply(lambda x: x.arrival_date + timedelta(days = x.length_of_stay), axis = 1)\n",
    "\n",
    "# booking date\n",
    "bookings['booking_date'] = bookings.apply(lambda x: x.arrival_date - timedelta(days = x.lead_time), axis = 1)\n",
    "bookings['booking_month'] = bookings['booking_date'].apply(lambda x: x.strftime('%b'))\n",
    "\n",
    "# revenue = adr * length of stay\n",
    "bookings['revenue'] = [los * adr if los > 0 else adr for los, adr in zip(bookings['length_of_stay'], bookings['adr'])]\n",
    "\n",
    "# lead_time_weeks\n",
    "bookings['lead_time_weeks'] = bookings['lead_time'].apply(lambda x: x // 7)\n",
    "\n",
    "# weekday check in and check out\n",
    "bookings['weekday_checkin'] = bookings['arrival_date'].dt.weekday\n",
    "bookings['weekday_checkout'] = bookings['departure_date'].dt.weekday\n",
    "\n",
    "# creation of variable group\n",
    "bookings['group'] = bookings.market_segment == \"Groups\"\n",
    "\n"
   ]
  },
  {
   "cell_type": "markdown",
   "metadata": {},
   "source": [
    "### Data split: city hotels and resort hotels "
   ]
  },
  {
   "cell_type": "markdown",
   "metadata": {},
   "source": [
    "For the first and second cuestion,  sometimes it will make sense to have additional 'city' and 'resort' datasets, since I think it's possible for this hotels to have a different behavior regarding those cuestions."
   ]
  },
  {
   "cell_type": "code",
   "execution_count": 8,
   "metadata": {},
   "outputs": [],
   "source": [
    "city = bookings[bookings[\"hotel\"] == \"City Hotel\"]\n",
    "resort = bookings[bookings[\"hotel\"] == \"Resort Hotel\"]"
   ]
  },
  {
   "cell_type": "markdown",
   "metadata": {},
   "source": [
    "### Filtering out cancelled bookings "
   ]
  },
  {
   "cell_type": "markdown",
   "metadata": {},
   "source": [
    "For the first two questions, we'll work with bookings that actually materialized in stays in the hotel, that is confirmed bookings"
   ]
  },
  {
   "cell_type": "code",
   "execution_count": 9,
   "metadata": {},
   "outputs": [],
   "source": [
    "bookings_confirmed = filter_confirmed(bookings)\n",
    "city_confirmed = filter_confirmed(city).reset_index()\n",
    "resort_confirmed = filter_confirmed(resort).reset_index()"
   ]
  },
  {
   "cell_type": "markdown",
   "metadata": {},
   "source": [
    "## **1. How strong is the seasonality in the hotels?**"
   ]
  },
  {
   "cell_type": "markdown",
   "metadata": {},
   "source": [
    "### Wrangling: reestructure data"
   ]
  },
  {
   "cell_type": "markdown",
   "metadata": {},
   "source": [
    "We'll proceed now to restructure the data and compute roomnights, revenue and adr per **stay day**, that is how many roomnight and how much revenue there is in an specific date.\n",
    "\n",
    "We'll also obtain a long tidy format of this dataset, for visualization purposes with seaborn"
   ]
  },
  {
   "cell_type": "code",
   "execution_count": null,
   "metadata": {},
   "outputs": [],
   "source": [
    "# getting daily data\n",
    "bookings_daily = get_daily_data(bookings_confirmed.reset_index(), [\"hotel\"])\n",
    "resort_daily = bookings_daily[bookings_daily.hotel == \"Resort Hotel\"]\n",
    "city_daily = bookings_daily[bookings_daily.hotel == \"City Hotel\"]"
   ]
  },
  {
   "cell_type": "code",
   "execution_count": null,
   "metadata": {},
   "outputs": [],
   "source": [
    "# tidy long version of daily data for bookings\n",
    "\n",
    "\n",
    "bookings_daily_long = pd.melt(bookings_daily.reset_index(), \n",
    "                  id_vars = ['stay_date', 'hotel'], \n",
    "                  value_vars = ['roomnights', 'revenue', 'adr'],\n",
    "                  var_name = 'kpi')\n",
    "\n",
    "bookings_daily_long['rolling_value'] = bookings_daily_long.groupby(['hotel', 'kpi'])['value'].apply(lambda x: x.rolling(window = 7).mean())\n",
    "bookings_daily_long['kpi'] = bookings_daily_long['kpi'].apply(lambda x: str.upper(x))\n",
    "bookings_daily_long.reset_index(inplace = True)"
   ]
  },
  {
   "cell_type": "code",
   "execution_count": null,
   "metadata": {
    "scrolled": true
   },
   "outputs": [],
   "source": [
    "bookings_daily.head()"
   ]
  },
  {
   "cell_type": "code",
   "execution_count": null,
   "metadata": {},
   "outputs": [],
   "source": [
    "bookings_daily_long.head()"
   ]
  },
  {
   "cell_type": "markdown",
   "metadata": {},
   "source": [
    "### Modeling"
   ]
  },
  {
   "cell_type": "markdown",
   "metadata": {},
   "source": [
    "#### Yearly Seasonality "
   ]
  },
  {
   "cell_type": "markdown",
   "metadata": {},
   "source": [
    "As daily data would probably be noisy, we'll compute the **weekly rolling average** for roomnights, revenue and adr"
   ]
  },
  {
   "cell_type": "markdown",
   "metadata": {},
   "source": [
    "Below a three plots are displayed: daily adr, daily roomnights and daily revenue"
   ]
  },
  {
   "cell_type": "code",
   "execution_count": null,
   "metadata": {},
   "outputs": [],
   "source": [
    "# plt.rcParams.keys()"
   ]
  },
  {
   "cell_type": "code",
   "execution_count": null,
   "metadata": {
    "scrolled": true
   },
   "outputs": [],
   "source": [
    "\n",
    "sns.set( style = \"whitegrid\", font_scale = 1.8,\n",
    "        font = \"Georgia\", rc={\"lines.linewidth\": 3,\n",
    "                              \"font.size\": 18, \n",
    "                              \"axes.labelsize\": 18, \n",
    "                              'legend.fontsize': 16,\n",
    "                              'text.color': '.4',\n",
    "                             'xtick.color': '.4',\n",
    "                             'ytick.color': '.4',\n",
    "                             'axes.labelcolor': '.4'})\n",
    "\n",
    "g = sns.FacetGrid(bookings_daily_long, col=\"kpi\", col_wrap = 1, col_order = [\"ADR\", \"ROOMNIGHTS\", \"REVENUE\"],\n",
    "                  hue = \"hotel\", sharex = False, sharey = False, aspect = 3, height = 5, legend_out = False)\n",
    "\n",
    "g.map_dataframe(sns.lineplot, x = \"stay_date\", y = \"value\", alpha = 0.2)\n",
    "g.map_dataframe(sns.lineplot, x = \"stay_date\", y = \"rolling_value\").set_axis_labels(\"Stay date\",\"\").set_titles(\"{col_name}\")\n",
    "\n",
    "g.fig.suptitle(\"Main KPIs for resort and city hotel. jul 2015 - aug 2017\", y = 1.03)\n",
    "g.add_legend(title = \"\", frameon=False)\n",
    "sns.despine(bottom = True, left = True)\n",
    "\n",
    "# for ax in g.axes.flatten():\n",
    "#    for _, spine in ax.spines.items():\n",
    "#            spine.set_color(\"black\")  \n",
    "            \n",
    "g.savefig(\"kpi_series7.png\" , quality = 50, dpi = 80)\n",
    "# Image.open('kpi_series7.png').save('kpi_series7.jpg','JPEG')"
   ]
  },
  {
   "cell_type": "markdown",
   "metadata": {},
   "source": [
    "While there seems to be strong seasonality patters in ADR for resort hotels, in city hotels that pattern, it is apparently not as stronger as it is in resort hotels.\n",
    "\n",
    "Revenue follows a similar pattern\n",
    "\n",
    "Regrarding roomnights, there is also seasonality (and the same patter change in July at the beginning of the series for the city hotel, though the decrease in roomnights for winter season is more abrupt."
   ]
  },
  {
   "cell_type": "markdown",
   "metadata": {},
   "source": [
    "#### Monthly seasonality"
   ]
  },
  {
   "cell_type": "markdown",
   "metadata": {},
   "source": [
    "If we group the data by month the pottentials seasoanal behaviours can be spotted more clearly. In the case of the roomnights, if we take relative values instead of the raw number (that is, if we divide the roomnights by the maximum value, there is a simlilar (though not as pronounced) peak for roomnights in the central summer months, which couldn't be appreciated by looking to the daily data."
   ]
  },
  {
   "cell_type": "markdown",
   "metadata": {},
   "source": [
    "##### Monthly chart"
   ]
  },
  {
   "cell_type": "code",
   "execution_count": null,
   "metadata": {},
   "outputs": [],
   "source": [
    "# get number month\n",
    "bookings_kpi_month = compute_main_kpis(bookings_confirmed,  [\"arrival_date_month\", \"hotel\"]).reset_index()\n",
    "\n",
    "bookings_month_long = pd.melt(bookings_kpi_month, \n",
    "                              id_vars = ['arrival_date_month', 'hotel'], \n",
    "                              value_vars = ['roomnights', 'revenue', 'adr'],\n",
    "                              var_name = 'kpi')\n",
    "\n",
    "bookings_month_long['kpi'] = bookings_month_long['kpi'].apply(lambda x: str.upper(x))\n",
    "\n",
    "bookings_month_long['month_number'] = bookings_month_long['arrival_date_month'].apply(lambda x: month_mapping[x])\n",
    "\n",
    "bookings_month_long['relative_value'] = bookings_month_long.groupby(['hotel', 'kpi'])['value']\\\n",
    ".apply(lambda x: (x / np.mean(x) - 1) * 100)"
   ]
  },
  {
   "cell_type": "code",
   "execution_count": null,
   "metadata": {
    "scrolled": true
   },
   "outputs": [],
   "source": [
    "\n",
    "\n",
    "g = sns.catplot(data = bookings_month_long,\n",
    "            x = \"arrival_date_month\", \n",
    "            y = \"relative_value\",\n",
    "            hue = \"hotel\",\n",
    "            order = ordered_months, \n",
    "            row = \"kpi\",\n",
    "            kind = \"bar\", \n",
    "            aspect = 3, \n",
    "            height = 5, \n",
    "            sharey = False, \n",
    "            row_order = [\"ADR\", \"ROOMNIGHTS\", \"REVENUE\"],\n",
    "            legend = False,\n",
    "            legend_out = False,\n",
    "            alpha = 0.8)\n",
    "\n",
    "g.fig.suptitle(\"Main KPIs relative to the average monthly value\", y = 1.03)\n",
    "\n",
    "g.set_axis_labels(\"Stay month\",\"\").set_titles(\"{row_name}\")\n",
    "\n",
    "sns.despine(bottom = True, left = True)\n",
    "g.axes[0][0].legend(loc = 2, frameon = False)\n",
    "\n",
    "for ax in g.axes.ravel():\n",
    "    ax.set_xticklabels(ax.get_xticklabels(), rotation=45)\n",
    "    ax.yaxis.set_major_formatter(mtick.PercentFormatter())\n",
    "    \n",
    "    \n",
    "g.savefig(\"kpi_monthly_bar.png\" , quality = 50, dpi = 80)"
   ]
  },
  {
   "cell_type": "markdown",
   "metadata": {},
   "source": [
    "#### Time series yearly seasonality "
   ]
  },
  {
   "cell_type": "markdown",
   "metadata": {},
   "source": [
    "We'll adopt a more formal approach decomposing a monthly time series into its components, then w we'll visualize the seasonality component and compute its strength"
   ]
  },
  {
   "cell_type": "markdown",
   "metadata": {},
   "source": [
    "##### Seasonality visualization"
   ]
  },
  {
   "cell_type": "markdown",
   "metadata": {},
   "source": [
    "First, we obtain the monthly time series for all kpis of interest"
   ]
  },
  {
   "cell_type": "code",
   "execution_count": null,
   "metadata": {
    "scrolled": true
   },
   "outputs": [],
   "source": [
    "# getting monthly time series for main kpis\n",
    "resort_kpi_time_month = resample_time_kpis(resort_daily, 'MS')\n",
    "city_kpi_time_month = resample_time_kpis(city_daily, 'MS')"
   ]
  },
  {
   "cell_type": "markdown",
   "metadata": {},
   "source": [
    "Then, we obtain the time series decomposition for each hotel and kpi"
   ]
  },
  {
   "cell_type": "code",
   "execution_count": null,
   "metadata": {},
   "outputs": [],
   "source": [
    "dec_resort_adr = sm.tsa.seasonal_decompose(resort_kpi_time_month[['adr']])\n",
    "dec_city_adr = sm.tsa.seasonal_decompose(city_kpi_time_month[['adr']])\n",
    "\n",
    "dec_resort_rn = sm.tsa.seasonal_decompose(resort_kpi_time_month[['roomnights']])\n",
    "dec_city_rn = sm.tsa.seasonal_decompose(city_kpi_time_month[['roomnights']])\n",
    "\n",
    "dec_resort_rev = sm.tsa.seasonal_decompose(resort_kpi_time_month[['revenue']])\n",
    "dec_city_rev = sm.tsa.seasonal_decompose(city_kpi_time_month[['revenue']])\n"
   ]
  },
  {
   "cell_type": "markdown",
   "metadata": {},
   "source": [
    "Finally, we plot the data combining the decomposed series in a DataFrame and adding new information"
   ]
  },
  {
   "cell_type": "code",
   "execution_count": null,
   "metadata": {},
   "outputs": [],
   "source": [
    "seas_df = pd.concat([\n",
    "    get_seasonal_dataframe(dec_resort_adr, {'hotel': 'Resort hotel', 'kpi': 'adr'}),\n",
    "    get_seasonal_dataframe(dec_city_adr, {'hotel': 'City hotel', 'kpi': 'adr'}),\n",
    "    get_seasonal_dataframe(dec_resort_rn, {'hotel': 'Resort hotel', 'kpi': 'roomnights'}),\n",
    "    get_seasonal_dataframe(dec_city_rn, {'hotel': 'City hotel', 'kpi': 'roomnights'}),\n",
    "    get_seasonal_dataframe(dec_resort_rev, {'hotel': 'Resort hotel', 'kpi': 'revenue'}),\n",
    "    get_seasonal_dataframe(dec_city_rev, {'hotel': 'City hotel', 'kpi': 'revenue'})\n",
    "],\n",
    "           axis = 0)"
   ]
  },
  {
   "cell_type": "code",
   "execution_count": null,
   "metadata": {
    "scrolled": false
   },
   "outputs": [],
   "source": [
    "# sns.set_context(\"notebook\", font_scale = 1.2, rc={\"lines.linewidth\": 2.5})\n",
    "# sns.set_style(\"whitegrid\")\n",
    "\n",
    "g = sns.relplot(x = \"stay_date\", \n",
    "                y = \"seas_standarized\", \n",
    "                data = seas_df, \n",
    "                hue = \"hotel\", \n",
    "                col = \"kpi\",\n",
    "                col_wrap = 1,\n",
    "                kind = \"line\", \n",
    "                aspect = 2.5).set_titles(\"{col_name}\")\n",
    "\n",
    "g.fig.suptitle(\"Standarize seasonality of ADR, Roomnights and Revenue\", y = 1.03)\n",
    "sns.despine(bottom = True, left = True)\n",
    "\n",
    "# titles = [\"ADR\", \"Roomnights\", \"Revenue\"]\n",
    "for ax in range(len(g.axes)):\n",
    "    g.axes[ax].axhline(0, color = \"black\", linestyle = \"--\", linewidth = 0.7)\n"
   ]
  },
  {
   "cell_type": "markdown",
   "metadata": {},
   "source": [
    "##### Seasonality strength"
   ]
  },
  {
   "cell_type": "markdown",
   "metadata": {},
   "source": [
    ". We'll compute the seasonality strenght as defined in[Forecasting: principles and practice](https://otexts.com/fpp2/seasonal-strength.htm) by Rob J Hyndman and George Athanasopoulos\n",
    "\n",
    "$$F_S = max \\left( 0, 1 - {{Var(R_t)} \\over {Var(S_t + R_t)}}\\right)$$\n",
    "\n",
    "\n",
    "\n",
    "$F_s$ takes values from 0 to 1. The closer to 1 the strongest the seasonality component. $S_s$ is the seasonal component and $R_s$ is the residual component.\n",
    "\n",
    "We see that there is a strong seasonality component in every kpi and hotel."
   ]
  },
  {
   "cell_type": "code",
   "execution_count": null,
   "metadata": {
    "scrolled": true
   },
   "outputs": [],
   "source": [
    "# print adr seasonality strength for both hotels\n",
    "print(\"ADR resort seasonality: \" + str(round(compute_seasonality_strength(dec_resort_adr), 3)))\n",
    "print(\"ADR city seasonality: \" + str(round(compute_seasonality_strength(dec_city_adr), 3)))"
   ]
  },
  {
   "cell_type": "code",
   "execution_count": null,
   "metadata": {
    "scrolled": true
   },
   "outputs": [],
   "source": [
    "# print roomnights seasonality strength for both hotels\n",
    "print(\"Roomnights resort seasonality: \" + str(round(compute_seasonality_strength(dec_resort_rn), 3)))\n",
    "print(\"Roomnights city seasonality: \" + str(round(compute_seasonality_strength(dec_city_rn), 3)))"
   ]
  },
  {
   "cell_type": "code",
   "execution_count": null,
   "metadata": {},
   "outputs": [],
   "source": [
    "# print revenue seasonality strength for both hotels\n",
    "print(\"Revenue resort seasonality: \" + str(round(compute_seasonality_strength(dec_resort_rev), 3)))\n",
    "print(\"Revenue city seasonality: \" + str(round(compute_seasonality_strength(dec_city_rev), 3)))"
   ]
  },
  {
   "cell_type": "markdown",
   "metadata": {},
   "source": [
    "As we can see, weekly seasonality plays a huge role in defining the adr and the roomnights"
   ]
  },
  {
   "cell_type": "markdown",
   "metadata": {},
   "source": [
    "##### Weekly seasonality"
   ]
  },
  {
   "cell_type": "markdown",
   "metadata": {},
   "source": [
    "One can think that there is a second order in seasonality at the level of the weeks. For example, maybe more roomnights are booked for weekends"
   ]
  },
  {
   "cell_type": "markdown",
   "metadata": {},
   "source": [
    "**Weekdays vs weekends**"
   ]
  },
  {
   "cell_type": "code",
   "execution_count": null,
   "metadata": {},
   "outputs": [],
   "source": [
    "# bookings_daily['stay_date'] = pd.to_datetime(bookings_daily['stay_date'])\n",
    "bookings_daily = bookings_daily.reset_index()\n",
    "bookings_daily['is_weekend'] = bookings_daily['stay_date'].apply(lambda x: x.weekday() in [5, 6])"
   ]
  },
  {
   "cell_type": "code",
   "execution_count": null,
   "metadata": {},
   "outputs": [],
   "source": [
    "bookings_daily"
   ]
  },
  {
   "cell_type": "code",
   "execution_count": null,
   "metadata": {},
   "outputs": [],
   "source": [
    "bookings_daily_long_weekend = pd.melt(bookings_daily, \n",
    "                              id_vars = ['stay_date', 'hotel', 'is_weekend'], \n",
    "                              value_vars = ['adr', 'roomnights', 'revenue'], \n",
    "                              var_name = 'kpi'\n",
    "                             )\n",
    "\n",
    "bookings_daily_long_weekend['is_weekend'] = bookings_daily_long_weekend['is_weekend'].replace({True: \"Weekend\", False: \"Weekday\"})\n",
    "bookings_daily_long_weekend['kpi'] = bookings_daily_long_weekend['kpi'].str.upper()"
   ]
  },
  {
   "cell_type": "code",
   "execution_count": null,
   "metadata": {},
   "outputs": [],
   "source": [
    "g = sns.catplot(x = \"hotel\", \n",
    "            y = \"value\", \n",
    "            data = bookings_daily_long_weekend, \n",
    "            hue = \"is_weekend\", \n",
    "            col = \"kpi\", \n",
    "            kind = \"violin\",\n",
    "            inner = None,\n",
    "            sharey = False).set_titles(\"{col_name}\")\n",
    "\n",
    "g.fig.suptitle(\"Main KPIs distribution for weekdays and weekends\", y = 1.03)\n"
   ]
  },
  {
   "cell_type": "markdown",
   "metadata": {},
   "source": [
    "There seem to be no releveant differences in adr, roomnights or revenue"
   ]
  },
  {
   "cell_type": "markdown",
   "metadata": {},
   "source": [
    "## 2. Does the behaviour of clients who come in groups differ from the behaviour of other clients in terms of stay days an lead time?"
   ]
  },
  {
   "cell_type": "markdown",
   "metadata": {},
   "source": [
    "### Wrangling"
   ]
  },
  {
   "cell_type": "markdown",
   "metadata": {},
   "source": [
    "Lets first create the binary variable \"group\" and then a stay day data frame to examine difference in roomnights for groups and non-groups. We'll also built a data set of daily data for groups, that it will be useful for determine large groups in the \"selling adjadcent days stage\"."
   ]
  },
  {
   "cell_type": "code",
   "execution_count": null,
   "metadata": {},
   "outputs": [],
   "source": [
    "# compute % of revenue in both hotels\n",
    "revenue_group = bookings_confirmed.groupby(['group', 'hotel'])\\\n",
    ".agg({'revenue': 'sum'}) / bookings_confirmed.groupby('hotel').agg({'revenue':'sum'})\n",
    "\n",
    "# build a daily dataset for groups\n",
    "bookings_groups = bookings_confirmed[bookings_confirmed.market_segment == \"Groups\"].reset_index()\n",
    "bookings_daily_only_groups = get_daily_data(bookings_groups, ['hotel']).reset_index().rename(columns = {'roomnights': 'roomnights_groups'})\n",
    "\n",
    "bookings_daily_groups = get_daily_data(bookings_confirmed.reset_index(), ['hotel', 'group']).reset_index()"
   ]
  },
  {
   "cell_type": "markdown",
   "metadata": {},
   "source": [
    "### EDA"
   ]
  },
  {
   "cell_type": "markdown",
   "metadata": {},
   "source": [
    "Total roomnights for groups\n"
   ]
  },
  {
   "cell_type": "code",
   "execution_count": null,
   "metadata": {
    "scrolled": true
   },
   "outputs": [],
   "source": [
    "bookings_daily_only_groups.groupby(['hotel'])['roomnights_groups'].sum()"
   ]
  },
  {
   "cell_type": "code",
   "execution_count": null,
   "metadata": {},
   "outputs": [],
   "source": [
    "revenue_group"
   ]
  },
  {
   "cell_type": "markdown",
   "metadata": {},
   "source": [
    "Groups represent 9 % the total revenue in resort hotels, and aprox. 8 % in city hotels. Let's look how is the distribution of the daily groop size by looking the daily data."
   ]
  },
  {
   "cell_type": "code",
   "execution_count": null,
   "metadata": {},
   "outputs": [],
   "source": [
    "max_rn_group_resort = max(resort_daily['roomnights'])\n",
    "max_rn_group_city = max(city_daily['roomnights'])"
   ]
  },
  {
   "cell_type": "code",
   "execution_count": null,
   "metadata": {},
   "outputs": [],
   "source": [
    "sns.set( style = \"whitegrid\", font_scale = 1.3,\n",
    "        font = \"Georgia\", rc={\"lines.linewidth\": 2,\n",
    "                              \"font.size\": 16, \n",
    "                              \"axes.labelsize\": 18, \n",
    "                              'legend.fontsize': 16,\n",
    "                              'text.color': '.4',\n",
    "                             'xtick.color': '.4',\n",
    "                             'ytick.color': '.4',\n",
    "                             'axes.labelcolor': '.4'})\n",
    "\n",
    "fig, ax = plt.subplots(figsize = (9, 5))\n",
    "\n",
    "\n",
    "sns.distplot(bookings_daily_only_groups.loc[bookings_daily_only_groups.hotel == \"City Hotel\", 'roomnights_groups'] / max_rn_group_resort,\n",
    "            label = \"City hotel\", hist = False, ax = ax)\n",
    "sns.distplot(bookings_daily_only_groups.loc[bookings_daily_only_groups.hotel == \"Resort Hotel\", 'roomnights_groups'] / max_rn_group_city, \n",
    "            label = \"Resort hotel\", hist = False, ax = ax)\n",
    "\n",
    "ax.legend(frameon = False)\n",
    "\n",
    "ax.set(xlabel=\"Room nights relative to max. occupancy\")\n",
    "\n",
    "fig.suptitle(\"Group daily room nights distribuion\", y = 0.95)\n",
    "\n",
    "fig.savefig(\"group_rn_distribution.png\")"
   ]
  },
  {
   "cell_type": "markdown",
   "metadata": {},
   "source": [
    "#### Average length of stay"
   ]
  },
  {
   "cell_type": "code",
   "execution_count": null,
   "metadata": {
    "scrolled": true
   },
   "outputs": [],
   "source": [
    "bookings_confirmed.groupby(['hotel', 'group']).agg({'length_of_stay':['mean', 'median', 'std']})"
   ]
  },
  {
   "cell_type": "markdown",
   "metadata": {},
   "source": [
    "Median length of stay is lower for groups in Resort hotels, lets check out the distribution for the grouped version of the length of stay variable: los_int"
   ]
  },
  {
   "cell_type": "code",
   "execution_count": null,
   "metadata": {
    "scrolled": true
   },
   "outputs": [],
   "source": [
    "# counts occurcences grouped by group hotel and los_int\n",
    "los_int_group_hotel = bookings_confirmed.groupby(['los_int', 'group', 'hotel']).agg({'is_canceled': 'count'})\\\n",
    ".rename(columns = {'is_canceled': 'n'})\n",
    "\n",
    "# computes relative frequencies\n",
    "los_int_group_hotel['f'] = los_int_group_hotel.groupby(['group', 'hotel'])['n'].apply(lambda x: x / sum(x) * 100)\n",
    "los_int_group_hotel.reset_index(inplace = True)\n",
    "los_int_group_hotel.sort_values(['hotel', 'group'], inplace = True)\n",
    "los_int_group_hotel['group'].replace({True: \"Group\", False:\"Transient\"}, inplace = True)"
   ]
  },
  {
   "cell_type": "code",
   "execution_count": null,
   "metadata": {
    "scrolled": true
   },
   "outputs": [],
   "source": [
    "sns.set(style = \"whitegrid\", font_scale = 1.3,\n",
    "        font = \"Georgia\", rc={\"lines.linewidth\": 2,\n",
    "                              \"font.size\": 16, \n",
    "                              \"axes.labelsize\": 18, \n",
    "                              'legend.fontsize': 16,\n",
    "                              'text.color': '.4',\n",
    "                             'xtick.color': '.4',\n",
    "                             'ytick.color': '.4',\n",
    "                             'axes.labelcolor': '.4'}, \n",
    "       palette = (\"#4B3E90\", \"#389F4A\"))\n",
    "\n",
    "g = sns.catplot(x = 'los_int', \n",
    "                y ='f', \n",
    "                data = los_int_group_hotel, \n",
    "                kind = \"bar\", \n",
    "                hue = 'group',\n",
    "                col = 'hotel', \n",
    "                legend = False, \n",
    "                aspect = 1.4).set_titles(\"{col_name}\")\n",
    "\n",
    "\n",
    "g.fig.suptitle(\"Length of stay distribution for transient and group reservations\", y = 1.03)\n",
    "g.set_xticklabels(rotation=45)\n",
    "g.axes[0][0].yaxis.set_major_formatter(mtick.PercentFormatter())\n",
    "g.axes[0][0].legend(loc = (0.7, 0.7), frameon = False)\n",
    "\n",
    "g.axes[0,0].set_xlabel('Length of stay (days)')\n",
    "g.axes[0,1].set_xlabel('Length of stay (days)')\n",
    "\n",
    "g.axes[0,0].set_ylabel('')\n",
    "\n",
    "g.savefig(\"length_of_stay_barplot.png\")"
   ]
  },
  {
   "cell_type": "markdown",
   "metadata": {},
   "source": [
    "The descriptive statistics shows a difference only in one day in the median length of stay for resot hotels. The bar chart reveals a higher frequency of short stays of 1 - 3 days for groups and a lower frequency in longer stays (3 - 5 days), in resort hotels. "
   ]
  },
  {
   "cell_type": "markdown",
   "metadata": {},
   "source": [
    "#### Lead time"
   ]
  },
  {
   "cell_type": "code",
   "execution_count": null,
   "metadata": {
    "scrolled": true
   },
   "outputs": [],
   "source": [
    "bookings_confirmed.groupby(['hotel', 'group']).agg({'lead_time': 'mean'})"
   ]
  },
  {
   "cell_type": "code",
   "execution_count": null,
   "metadata": {},
   "outputs": [],
   "source": [
    "group_daily_roomnights = bookings_confirmed.groupby(['hotel', 'group', 'lead_time_weeks']).agg({'is_canceled': 'count'})\n",
    "group_daily_roomnights = group_daily_roomnights / bookings_confirmed.groupby(['hotel', 'group']).agg({'is_canceled': 'count'}) * 100\n",
    "group_daily_roomnights = group_daily_roomnights.rename(columns = {'is_canceled': 'prop_roomnights'}).reset_index()\n",
    "group_daily_roomnights['group'].replace({True: \"Group\", False: \"Transient\"}, inplace = True)\n"
   ]
  },
  {
   "cell_type": "code",
   "execution_count": null,
   "metadata": {},
   "outputs": [],
   "source": [
    "group_daily_roomnights[group_daily_roomnights.lead_time_weeks <= 2].groupby(['hotel', 'group']).agg({'prop_roomnights': 'sum'})"
   ]
  },
  {
   "cell_type": "code",
   "execution_count": null,
   "metadata": {},
   "outputs": [],
   "source": [
    "g = sns.relplot(x = \"lead_time_weeks\", \n",
    "           y = \"prop_roomnights\", \n",
    "           data = group_daily_roomnights[group_daily_roomnights.lead_time_weeks <= 52],\n",
    "           hue = \"group\",\n",
    "           col = \"hotel\", \n",
    "           kind = \"line\", \n",
    "           legend = False).set_titles(\"{col_name}\")\n",
    "\n",
    "\n",
    "g.fig.suptitle(\"Lead time for transient bookings and groups\", y = 1.03)\n",
    "\n",
    "g.axes[0][0].yaxis.set_major_formatter(mtick.PercentFormatter())\n",
    "g.axes[0][0].legend([\"Transient\", \"Group\"], frameon = False)\n",
    "\n",
    "g.axes[0,0].set_xlabel('Lead time (weeks)')\n",
    "g.axes[0,1].set_xlabel('Lead time (weeks)')\n",
    "\n",
    "g.axes[0,0].set_ylabel('Percentage of roomnights')\n",
    "\n",
    "g.savefig(\"lead_time_groups.png\")"
   ]
  },
  {
   "cell_type": "markdown",
   "metadata": {},
   "source": [
    "Groups seem bo book with less antelation that transient, specially in the resort hotel. Let's test that\n"
   ]
  },
  {
   "cell_type": "markdown",
   "metadata": {},
   "source": [
    "#### ADR"
   ]
  },
  {
   "cell_type": "code",
   "execution_count": null,
   "metadata": {},
   "outputs": [],
   "source": [
    "bookings_confirmed.groupby(['hotel', 'group']).agg({'adr': 'mean'})"
   ]
  },
  {
   "cell_type": "code",
   "execution_count": null,
   "metadata": {
    "scrolled": false
   },
   "outputs": [],
   "source": [
    "g = sns.catplot(x = \"group\", \n",
    "                y = \"adr\", \n",
    "                data = bookings_confirmed, \n",
    "                kind = \"box\", \n",
    "                col = \"hotel\", \n",
    "                aspect = 1.3)\n",
    "\n",
    "g.fig.suptitle(\"ADR distribution for transient and group reservations\", y = 1.03)\n",
    "\n",
    "\n",
    "g.axes[0,0].set_xlabel('Is group')\n",
    "g.axes[0,1].set_xlabel('Is group')"
   ]
  },
  {
   "cell_type": "code",
   "execution_count": null,
   "metadata": {},
   "outputs": [],
   "source": [
    "bookings_group_month = bookings_daily_groups.groupby(['hotel', 'group', 'month']).agg({'roomnights': 'sum', 'revenue': 'sum'}).reset_index()\n",
    "bookings_group_month['adr'] = bookings_group_month['revenue'] / bookings_group_month['roomnights']\n",
    "bookings_group_month['relative_roomnights'] = bookings_group_month.groupby(['hotel', 'group']).apply(lambda x: x[['roomnights']] / max(x['roomnights']) * 100)"
   ]
  },
  {
   "cell_type": "code",
   "execution_count": null,
   "metadata": {
    "scrolled": false
   },
   "outputs": [],
   "source": [
    "g = sns.FacetGrid(bookings_group_month, row=\"hotel\",\n",
    "                  hue = \"group\", sharey = True, legend_out = False, \n",
    "                  height = 3, aspect = 3)\n",
    "\n",
    "g.map_dataframe(sns.lineplot, \n",
    "                x = \"month\", \n",
    "                y = \"relative_roomnights\", \n",
    "                markers = True).set_titles(\"{row_name}\")\n",
    "\n",
    "sns.despine(bottom = True, left = True)\n",
    "\n",
    "g.fig.suptitle(\"Roomnights relative to max. occupation\", y = 1.03)\n",
    "g.axes[0][0].legend([\"Transient\", \"Group\"], frameon = False, loc = (0, 0.8))\n",
    "g.axes[0,0].set_xlabel('Month')\n",
    "g.axes[0,0].set_ylabel('Percentage of roomnights')\n",
    "\n",
    "g.axes[1][0].set_xticks(range(len(ordered_months))) \n",
    "g.set_xticklabels(ordered_months, rotation = 45)\n",
    "\n",
    "g.axes[0][0].yaxis.set_major_formatter(mtick.PercentFormatter())\n",
    "g.axes[1][0].yaxis.set_major_formatter(mtick.PercentFormatter())\n",
    "\n",
    "g.savefig(\"relative_roomnights_groups.png\")"
   ]
  },
  {
   "cell_type": "code",
   "execution_count": null,
   "metadata": {
    "scrolled": true
   },
   "outputs": [],
   "source": [
    "sns.catplot(x = \"arrival_date_month\", \n",
    "            y = \"adr\", \n",
    "            data = bookings_confirmed, \n",
    "            col = \"hotel\", \n",
    "            hue = \"group\", \n",
    "            kind = \"box\", \n",
    "            aspect = 1, height = 8, \n",
    "            order = ordered_months)\n",
    "\n",
    "sns.set_xticklabels(rotation = 45)\n"
   ]
  },
  {
   "cell_type": "markdown",
   "metadata": {},
   "source": [
    "We'll perform a linar regression controling for month of arrival"
   ]
  },
  {
   "cell_type": "code",
   "execution_count": null,
   "metadata": {},
   "outputs": [],
   "source": [
    "bookings_confirmed.info()"
   ]
  },
  {
   "cell_type": "code",
   "execution_count": null,
   "metadata": {},
   "outputs": [],
   "source": [
    "import statsmodels.api as sm\n",
    "\n",
    "X = bookings_confirmed[['group', 'hotel', 'arrival_date_month', 'lead_time_weeks', 'meal', 'reserved_room_type', 'adults', 'length_of_stay']]\n",
    "X['group'] = X['group'] * 1\n",
    "X = pd.get_dummies(X)\n",
    "y = bookings_confirmed['adr']\n",
    "\n",
    "X = sm.add_constant(X)\n",
    "est = sm.OLS(y, X)\n",
    "est2 = est.fit()\n",
    "print(est2.summary())"
   ]
  },
  {
   "cell_type": "code",
   "execution_count": null,
   "metadata": {},
   "outputs": [],
   "source": [
    "sns.kdeplot(equivalent_adjacent_days['rel_adr_2017'])\n"
   ]
  },
  {
   "cell_type": "markdown",
   "metadata": {},
   "source": [
    "### Modeling"
   ]
  },
  {
   "cell_type": "markdown",
   "metadata": {},
   "source": [
    "#### Testing differences in aveage length "
   ]
  },
  {
   "cell_type": "markdown",
   "metadata": {},
   "source": [
    "We'll now test if there is any difference in l.o.s ussing the Mann-Whitney non-parametric U test, since the distribution is extremely assymetric."
   ]
  },
  {
   "cell_type": "code",
   "execution_count": null,
   "metadata": {
    "scrolled": true
   },
   "outputs": [],
   "source": [
    "sns.kdeplot(resort_confirmed['length_of_stay'], label = \"Resort\")\n",
    "sns.kdeplot(city_confirmed['length_of_stay'], label = \"City\")\n",
    "plt.show()"
   ]
  },
  {
   "cell_type": "markdown",
   "metadata": {},
   "source": [
    "###### Resort hotel"
   ]
  },
  {
   "cell_type": "code",
   "execution_count": null,
   "metadata": {
    "scrolled": true
   },
   "outputs": [],
   "source": [
    "los_resort_transient = resort_confirmed[~resort_confirmed.group][\"length_of_stay\"] \n",
    "los_resort_group = resort_confirmed[resort_confirmed.group][\"length_of_stay\"] "
   ]
  },
  {
   "cell_type": "code",
   "execution_count": null,
   "metadata": {
    "scrolled": false
   },
   "outputs": [],
   "source": [
    "mannwhitneyu(los_resort_transient, los_resort_group)"
   ]
  },
  {
   "cell_type": "markdown",
   "metadata": {},
   "source": [
    "###### City hotel"
   ]
  },
  {
   "cell_type": "code",
   "execution_count": null,
   "metadata": {
    "scrolled": true
   },
   "outputs": [],
   "source": [
    "los_city_transient = resort_confirmed[~city_confirmed.group][\"length_of_stay\"] \n",
    "los_city_group = resort_confirmed[city_confirmed.group][\"length_of_stay\"] "
   ]
  },
  {
   "cell_type": "code",
   "execution_count": null,
   "metadata": {
    "scrolled": true
   },
   "outputs": [],
   "source": [
    "mannwhitneyu(los_city_transient, los_city_group)"
   ]
  },
  {
   "cell_type": "markdown",
   "metadata": {},
   "source": [
    "Though results show statistically significant differnces in both cases, the effect size is almost non existent for the city hotel. And is not very large for the resort hotel (at most, one day in average), so has only probably limited relevance from the bussiness standpoint.\n",
    "\n",
    "The business difference can be important if there are differences in for of five days. For instance, transient bookings with a length of stay of 7 days vs groups with a lentgh of stay of 2 or 3 days."
   ]
  },
  {
   "cell_type": "markdown",
   "metadata": {},
   "source": [
    "#### Testing differences in lead time"
   ]
  },
  {
   "cell_type": "markdown",
   "metadata": {},
   "source": [
    "We have again a very assymetric distribution. Well proceed with the Mann-Whitney U test"
   ]
  },
  {
   "cell_type": "code",
   "execution_count": null,
   "metadata": {},
   "outputs": [],
   "source": [
    "sns.kdeplot(resort_confirmed['lead_time'], label = \"Resort\")\n",
    "sns.kdeplot(city_confirmed['lead_time'], label = \"City\")"
   ]
  },
  {
   "cell_type": "markdown",
   "metadata": {},
   "source": [
    "###### Resort"
   ]
  },
  {
   "cell_type": "code",
   "execution_count": null,
   "metadata": {},
   "outputs": [],
   "source": [
    "lead_resort_transient = resort_confirmed[~resort_confirmed.group][\"lead_time\"] \n",
    "lead_resort_group = resort_confirmed[resort_confirmed.group][\"lead_time\"] "
   ]
  },
  {
   "cell_type": "code",
   "execution_count": null,
   "metadata": {},
   "outputs": [],
   "source": [
    "mannwhitneyu(lead_resort_transient, lead_resort_group)"
   ]
  },
  {
   "cell_type": "markdown",
   "metadata": {},
   "source": [
    "###### City"
   ]
  },
  {
   "cell_type": "code",
   "execution_count": null,
   "metadata": {},
   "outputs": [],
   "source": [
    "lead_city_transient = city_confirmed[~city_confirmed.group][\"lead_time\"] \n",
    "lead_city_group = city_confirmed[city_confirmed.group][\"lead_time\"] "
   ]
  },
  {
   "cell_type": "code",
   "execution_count": null,
   "metadata": {},
   "outputs": [],
   "source": [
    "mannwhitneyu(lead_city_transient, lead_city_group)"
   ]
  },
  {
   "cell_type": "markdown",
   "metadata": {},
   "source": [
    "In both cases there is a significant effect, and the size of the effect is considerable."
   ]
  },
  {
   "cell_type": "markdown",
   "metadata": {},
   "source": [
    "There seems to bedifferences in adr. Specially for the city hotel"
   ]
  },
  {
   "cell_type": "markdown",
   "metadata": {},
   "source": [
    "#### Testing differences in adr"
   ]
  },
  {
   "cell_type": "markdown",
   "metadata": {},
   "source": [
    "Since in this case, the dsitribution is not extremely symmetrical, we'll proceed with the t-test for the comparisons"
   ]
  },
  {
   "cell_type": "code",
   "execution_count": null,
   "metadata": {},
   "outputs": [],
   "source": [
    "fig, ax = plt.subplots()\n",
    "\n",
    "sns.kdeplot(resort_confirmed['adr'], ax = ax, label = \"Resort\")\n",
    "sns.kdeplot(city_confirmed['adr'], ax = ax, label = \"City\")\n",
    "\n",
    "fig.set_figwidth(10)"
   ]
  },
  {
   "cell_type": "markdown",
   "metadata": {},
   "source": [
    "##### Resort"
   ]
  },
  {
   "cell_type": "code",
   "execution_count": null,
   "metadata": {},
   "outputs": [],
   "source": [
    "# test for resort hotels\n",
    "ttest_ind(resort_confirmed.loc[resort_confirmed.group == False, \"adr\"], \n",
    "          resort_confirmed.loc[resort_confirmed.group == True, \"adr\"])"
   ]
  },
  {
   "cell_type": "markdown",
   "metadata": {},
   "source": [
    "##### City"
   ]
  },
  {
   "cell_type": "code",
   "execution_count": null,
   "metadata": {},
   "outputs": [],
   "source": [
    "# test for resort hotels\n",
    "ttest_ind(city_confirmed.loc[city_confirmed.group == False, \"adr\"], \n",
    "          city_confirmed.loc[city_confirmed.group == True, \"adr\"])"
   ]
  },
  {
   "cell_type": "markdown",
   "metadata": {},
   "source": [
    "Significant results with a considerable effect size for both city and resort hotel"
   ]
  },
  {
   "cell_type": "markdown",
   "metadata": {},
   "source": [
    "Given this results, though right now grouped bookings doesn't seem to be an important segment. After analyzing adr and lead time, one thing that could be happening is that hoteliers are having difficulties in filling up the hotel (unfortunatelly hotel capacity is not among the variables in the dataset).  \n",
    "\n",
    "If that is not the case, it would be advisable to reconsider rate policies regarding groups and build an strategy for gorup pricing."
   ]
  },
  {
   "cell_type": "markdown",
   "metadata": {},
   "source": [
    "#### Are rooms in groups adjadcent stay days harder to sell?"
   ]
  },
  {
   "cell_type": "markdown",
   "metadata": {},
   "source": [
    "In order to measure how difficult is to sell a room in the nearby dates of a group stay, in this section we'll compare ADRs in adjacent stay dates near a group stay trhought the course of a year, with the same dates the year before, with the condition that there can't be large group stays in the dates nearby. If dates nearby groups are actually harder to sell, ADRs in that dates should be lower than ADRs in the same period the year before.\n",
    "\n",
    "To take into account possible weelky seasonality effects, we wont compare exact dates year over year. Instead we'll take week number and week day as a fererence. For instance, we coulc compare year 2017, week 34, day 3 with year 2016, week 34 day 3.\n",
    "\n",
    "Since we don't have two whole consecutive natural years in the data, we split the periods taking July as a threshold.\n",
    "\n",
    "We won't compare raw ADRs since ADRs from year to year can be different. Instead we'll compare ADRs relative to de yearly average."
   ]
  },
  {
   "cell_type": "markdown",
   "metadata": {},
   "source": [
    "##### Preparing data for modeling"
   ]
  },
  {
   "cell_type": "code",
   "execution_count": null,
   "metadata": {},
   "outputs": [],
   "source": [
    "# reset index of the two daily DataFrames as we'll need to use 'stay_date' later on\n",
    "resort_daily.reset_index(inplace = True)\n",
    "city_daily.reset_index(inplace = True)\n",
    "\n",
    "# merge main DataFrame with books DataFrame because we need to have room nights side to side\n",
    "bookings_daily_join = bookings_daily.merge(bookings_daily_only_groups.drop([\"adr\", \"revenue\", \"stay_month\", \"stay_week\"], axis = 1), \n",
    "                                         on = [\"stay_date\", \"hotel\"], how = \"left\")\n",
    "\n",
    "# accounting for dates with no groups\n",
    "bookings_daily_join['roomnights_groups'] = bookings_daily_join['roomnights_groups'].fillna(0)\n",
    "\n",
    "# spliting booking merged data into resort and city hotel as we'll analize these two hotels separately\n",
    "resort_daily_join = bookings_daily_join[bookings_daily_join.hotel == \"Resort Hotel\"]\n",
    "city_daily_join = bookings_daily_join[bookings_daily_join.hotel == \"City Hotel\"]"
   ]
  },
  {
   "cell_type": "markdown",
   "metadata": {},
   "source": [
    "The merged data contains room nights from groups. We'll need this as a reference to measure the distance in days between each date in the dataset and a date where there are group stays."
   ]
  },
  {
   "cell_type": "code",
   "execution_count": null,
   "metadata": {
    "scrolled": true
   },
   "outputs": [],
   "source": [
    "resort_daily_join.head()"
   ]
  },
  {
   "cell_type": "code",
   "execution_count": null,
   "metadata": {},
   "outputs": [],
   "source": [
    "# create date threshold variables to divide the two periods to be compared (cy = current year, py = previous year)\n",
    "start_date_cy = date(2016, 7, 1)\n",
    "end_date_cy = start_date_cy + relativedelta(years = 1)\n",
    "\n",
    "start_date_py = start_date_cy - relativedelta(years = 1)\n",
    "end_date_py = start_date_py + relativedelta(years = 1)\n",
    "\n",
    "# compute mean ADR through the two periods to be compared. We'll use this later, to relativize ADRs\n",
    "mean_adr_city_cy = city_daily.loc[(city_daily.stay_date>= start_date_cy) & \n",
    "                                      (city_daily.stay_date < end_date_cy), 'adr'].mean()\n",
    "mean_adr_city_py = city_daily.loc[(city_daily.stay_date >= start_date_py) & \n",
    "                                      (city_daily.stay_date < end_date_py), 'adr'].mean()\n",
    "\n",
    "mean_adr_city_cy = city_daily.loc[(city_daily.stay_date>= start_date_cy) & \n",
    "                                      (city_daily.stay_date < end_date_cy), 'adr'].mean()\n",
    "mean_adr_city_py = city_daily.loc[(city_daily.stay_date >= start_date_py) & \n",
    "                                      (city_daily.stay_date < end_date_py), 'adr'].mean()"
   ]
  },
  {
   "cell_type": "markdown",
   "metadata": {},
   "source": [
    "##### Performing test of differences in relative ADRs"
   ]
  },
  {
   "cell_type": "markdown",
   "metadata": {},
   "source": [
    "The next cell executes a function that searches for dates nearby large groups (the ones of size at least 30 % of the max. occupation) among the dates in the most recent of the two periods analyzed. It considers a group to be in the proximities if there is a distance of at most 6 days. Then searches for the same dates in the other period (a year before) and filters out dates with large group stays in the proximities. Then compares the relative ADRs of the remaining dates."
   ]
  },
  {
   "cell_type": "code",
   "execution_count": 763,
   "metadata": {
    "scrolled": false
   },
   "outputs": [
    {
     "name": "stderr",
     "output_type": "stream",
     "text": [
      "C:\\Users\\Usuario\\Anaconda3\\lib\\site-packages\\ipykernel_launcher.py:346: FutureWarning: Comparing Series of datetimes with 'datetime.date'.  Currently, the\n",
      "'datetime.date' is coerced to a datetime. In the future pandas will\n",
      "not coerce, and a TypeError will be raised. To retain the current\n",
      "behavior, convert the 'datetime.date' to a datetime with\n",
      "'pd.Timestamp'.\n",
      "C:\\Users\\Usuario\\Anaconda3\\lib\\site-packages\\ipykernel_launcher.py:347: FutureWarning: Comparing Series of datetimes with 'datetime.date'.  Currently, the\n",
      "'datetime.date' is coerced to a datetime. In the future pandas will\n",
      "not coerce, and a TypeError will be raised. To retain the current\n",
      "behavior, convert the 'datetime.date' to a datetime with\n",
      "'pd.Timestamp'.\n"
     ]
    },
    {
     "ename": "TypeError",
     "evalue": "'NoneType' object is not iterable",
     "output_type": "error",
     "traceback": [
      "\u001b[1;31m---------------------------------------------------------------------------\u001b[0m",
      "\u001b[1;31mTypeError\u001b[0m                                 Traceback (most recent call last)",
      "\u001b[1;32m<ipython-input-763-827a948d3713>\u001b[0m in \u001b[0;36m<module>\u001b[1;34m\u001b[0m\n\u001b[0;32m      1\u001b[0m \u001b[1;31m# performing paired t-test for difference in relative ADRs in the two perio\u001b[0m\u001b[1;33m\u001b[0m\u001b[1;33m\u001b[0m\u001b[1;33m\u001b[0m\u001b[0m\n\u001b[1;32m----> 2\u001b[1;33m \u001b[0mrel_adr_resort\u001b[0m\u001b[1;33m,\u001b[0m \u001b[0mtest_resort\u001b[0m \u001b[1;33m=\u001b[0m \u001b[0mperform_adjacent_dates_testing\u001b[0m\u001b[1;33m(\u001b[0m\u001b[0mresort_daily_join\u001b[0m\u001b[1;33m,\u001b[0m \u001b[1;36m6\u001b[0m\u001b[1;33m,\u001b[0m \u001b[0mstart_date_cy\u001b[0m\u001b[1;33m,\u001b[0m \u001b[1;36m0.3\u001b[0m\u001b[1;33m,\u001b[0m \u001b[0mmean_adr_resort_cy\u001b[0m\u001b[1;33m,\u001b[0m \u001b[0mmean_adr_resort_py\u001b[0m\u001b[1;33m)\u001b[0m\u001b[1;33m\u001b[0m\u001b[1;33m\u001b[0m\u001b[0m\n\u001b[0m\u001b[0;32m      3\u001b[0m \u001b[0mrel_adr_city\u001b[0m\u001b[1;33m,\u001b[0m \u001b[0mtest_city\u001b[0m \u001b[1;33m=\u001b[0m \u001b[0mperform_adjacent_dates_testing\u001b[0m\u001b[1;33m(\u001b[0m\u001b[0mcity_daily_join\u001b[0m\u001b[1;33m,\u001b[0m \u001b[1;36m6\u001b[0m\u001b[1;33m,\u001b[0m \u001b[0mstart_date_cy\u001b[0m\u001b[1;33m,\u001b[0m \u001b[1;36m0.3\u001b[0m\u001b[1;33m,\u001b[0m \u001b[0mmean_adr_city_cy\u001b[0m\u001b[1;33m,\u001b[0m \u001b[0mmean_adr_city_py\u001b[0m\u001b[1;33m)\u001b[0m\u001b[1;33m\u001b[0m\u001b[1;33m\u001b[0m\u001b[0m\n",
      "\u001b[1;32m<ipython-input-758-0c34b0e1f302>\u001b[0m in \u001b[0;36mperform_adjacent_dates_testing\u001b[1;34m(df, adjacent_days, start_date, group_size, mean_adr_cy, mean_adr_py)\u001b[0m\n\u001b[0;32m    427\u001b[0m \u001b[1;33m\u001b[0m\u001b[0m\n\u001b[0;32m    428\u001b[0m     \u001b[1;31m# computation of minimum distance in days from large groups for every date in df\u001b[0m\u001b[1;33m\u001b[0m\u001b[1;33m\u001b[0m\u001b[1;33m\u001b[0m\u001b[0m\n\u001b[1;32m--> 429\u001b[1;33m     \u001b[0mdistance_large_groups_cy\u001b[0m \u001b[1;33m=\u001b[0m \u001b[0mget_min_distance_large_groups\u001b[0m\u001b[1;33m(\u001b[0m\u001b[0mdf_adj\u001b[0m\u001b[1;33m,\u001b[0m \u001b[0mlarge_group_dates_cy\u001b[0m\u001b[1;33m)\u001b[0m\u001b[1;33m\u001b[0m\u001b[1;33m\u001b[0m\u001b[0m\n\u001b[0m\u001b[0;32m    430\u001b[0m     \u001b[0mdistance_large_groups_py\u001b[0m \u001b[1;33m=\u001b[0m \u001b[0mget_min_distance_large_groups\u001b[0m\u001b[1;33m(\u001b[0m\u001b[0mdf_adj\u001b[0m\u001b[1;33m,\u001b[0m \u001b[0mlarge_group_dates_py\u001b[0m\u001b[1;33m)\u001b[0m\u001b[1;33m\u001b[0m\u001b[1;33m\u001b[0m\u001b[0m\n\u001b[0;32m    431\u001b[0m \u001b[1;33m\u001b[0m\u001b[0m\n",
      "\u001b[1;32m<ipython-input-758-0c34b0e1f302>\u001b[0m in \u001b[0;36mget_min_distance_large_groups\u001b[1;34m(df, large_group_dates)\u001b[0m\n\u001b[0;32m    407\u001b[0m \u001b[1;33m\u001b[0m\u001b[0m\n\u001b[0;32m    408\u001b[0m         \u001b[1;31m# distances are the difference in days between the date in the current row and every group stay date\u001b[0m\u001b[1;33m\u001b[0m\u001b[1;33m\u001b[0m\u001b[1;33m\u001b[0m\u001b[0m\n\u001b[1;32m--> 409\u001b[1;33m         \u001b[0mdurations\u001b[0m \u001b[1;33m=\u001b[0m \u001b[1;33m[\u001b[0m\u001b[0mabs\u001b[0m\u001b[1;33m(\u001b[0m\u001b[1;33m(\u001b[0m\u001b[0mcurrent_date\u001b[0m \u001b[1;33m-\u001b[0m \u001b[0mgroup_date\u001b[0m\u001b[1;33m)\u001b[0m\u001b[1;33m.\u001b[0m\u001b[0mdays\u001b[0m\u001b[1;33m)\u001b[0m \u001b[1;32mfor\u001b[0m \u001b[0mgroup_date\u001b[0m \u001b[1;32min\u001b[0m \u001b[0mlarge_group_dates\u001b[0m\u001b[1;33m]\u001b[0m\u001b[1;33m\u001b[0m\u001b[1;33m\u001b[0m\u001b[0m\n\u001b[0m\u001b[0;32m    410\u001b[0m \u001b[1;33m\u001b[0m\u001b[0m\n\u001b[0;32m    411\u001b[0m         \u001b[1;31m# for the row being analyzed, picks the minimum distance among all the group stays.\u001b[0m\u001b[1;33m\u001b[0m\u001b[1;33m\u001b[0m\u001b[1;33m\u001b[0m\u001b[0m\n",
      "\u001b[1;31mTypeError\u001b[0m: 'NoneType' object is not iterable"
     ]
    }
   ],
   "source": [
    "# performing paired t-test for difference in relative ADRs in the two perio\n",
    "rel_adr_resort, test_resort = perform_adjacent_dates_testing(resort_daily_join, 6, start_date_cy, 0.3, mean_adr_resort_cy, mean_adr_resort_py)\n",
    "rel_adr_city, test_city = perform_adjacent_dates_testing(city_daily_join, 6, start_date_cy, 0.3, mean_adr_city_cy, mean_adr_city_py)"
   ]
  },
  {
   "cell_type": "code",
   "execution_count": 732,
   "metadata": {
    "scrolled": true
   },
   "outputs": [
    {
     "name": "stdout",
     "output_type": "stream",
     "text": [
      "Resort hotel\n",
      "Rel. ADRs groups nearby: 0.83\n",
      "Rel. ADRs NO groups nearby: 0.85\n",
      "\n",
      "City hotel\n",
      "Rel. ADRs groups nearby: 0.83\n",
      "Rel. ADRs NO groups nearby: 0.95\n",
      "\n",
      "Test result for resort hotel: Ttest_relResult(statistic=-0.9594850522275, pvalue=0.3426787057315378)\n",
      "Test result for city hotel: Ttest_relResult(statistic=-8.382479209581978, pvalue=4.4592555453028247e-10)\n",
      "Effect size for city hotel. Cohen's d: 1.4\n"
     ]
    }
   ],
   "source": [
    "\n",
    "print(\"Resort hotel\")\n",
    "print(\"Rel. ADRs groups nearby: \" + str(round(rel_adr_resort['rel_adr_cy'].mean(), 2)))\n",
    "print(\"Rel. ADRs NO groups nearby: \" + str(round(rel_adr_resort['rel_adr_py'].mean(), 2)))\n",
    "print(\"\")\n",
    "print(\"City hotel\")\n",
    "print(\"Rel. ADRs groups nearby: \" + str(round(mean_rel_adr_city_cy, 2)))\n",
    "print(\"Rel. ADRs NO groups nearby: \" + str(round(mean_rel_adr_city_py, 2)))\n",
    "print(\"\")\n",
    "print(\"Test result for resort hotel: \" +  str(test_resort))\n",
    "print(\"Test result for city hotel: \" + str(test_city))\n",
    "\n",
    "# Compute effect size for city hotel\n",
    "\n",
    "# mean of the groups\n",
    "mean_rel_adr_city_cy = rel_adr_city['rel_adr_cy'].mean()\n",
    "mean_rel_adr_city_py = rel_adr_city['rel_adr_py'].mean()\n",
    "\n",
    "# pooled sd\n",
    "sd_rel_adr_city_cy = rel_adr_city['rel_adr_cy'].std()\n",
    "sd_rel_adr_city_py = rel_adr_city['rel_adr_py'].std()\n",
    "\n",
    "sample = rel_adr_city.shape[0]\n",
    "pooled_sd = math.sqrt((sd_rel_adr_city_cy ** 2 + sd_rel_adr_city_py ** 2) / 2)\n",
    "correction_factor = (sample - 3) / (sample - 2.25) * math.sqrt((sample - 2) / sample)\n",
    "\n",
    "d = (mean_rel_adr_city_py - mean_rel_adr_city_cy) / pooled_sd * correction_factor\n",
    "\n",
    "print(\"Effect size for city hotel. Cohen's d: \" + str(round(d, 2)))"
   ]
  },
  {
   "cell_type": "markdown",
   "metadata": {},
   "source": [
    "No significative differences in resorts were found, but there were significative differences in  city hotels with a large effect. Maybe the effect is best noticed if we visualize the distributions\n"
   ]
  },
  {
   "cell_type": "code",
   "execution_count": 755,
   "metadata": {},
   "outputs": [],
   "source": [
    "import inspect"
   ]
  },
  {
   "cell_type": "code",
   "execution_count": 752,
   "metadata": {},
   "outputs": [
    {
     "data": {
      "image/png": "[encoded data removed]",
      "text/plain": [
       "<Figure size 1008x288 with 2 Axes>"
      ]
     },
     "metadata": {},
     "output_type": "display_data"
    }
   ],
   "source": [
    "fig, ax = plt.subplots(1, 2)\n",
    "\n",
    "sns.set(style = \"whitegrid\", font_scale = 1,\n",
    "        font = \"Georgia\", rc={\"lines.linewidth\": 2,\n",
    "                              \"font.size\": 15, \n",
    "                              \"axes.labelsize\": 14, \n",
    "                              'legend.fontsize': 13,\n",
    "                              'text.color': '.4',\n",
    "                             'xtick.color': '.4',\n",
    "                             'ytick.color': '.4',\n",
    "                             'axes.labelcolor': '.4'}, \n",
    "       palette = (\"#4B3E90\", \"#389F4A\"))\n",
    "\n",
    "sns.kdeplot(rel_adr_city['rel_adr_cy'], ax = ax[0], legend = False)\n",
    "sns.kdeplot(rel_adr_city['rel_adr_py'], ax = ax[0], legend = False)\n",
    "\n",
    "sns.kdeplot(rel_adr_resort['rel_adr_cy'], ax = ax[1], legend = False)\n",
    "sns.kdeplot(rel_adr_resort['rel_adr_py'], ax = ax[1], legend = False)\n",
    "\n",
    "fig.set_figwidth(14)\n",
    "\n",
    "fig.suptitle(\"Relative ADR distribution with and wihout groups in the nearby\", y = 1.03)\n",
    "ax[0].legend([\"Groups nearby\", \"No groups nearby\"], frameon = False, loc = (0.55, 0.7))\n",
    "ax[0].set_xlabel('ADR relative to yearly average in each group')\n",
    "ax[1].set_xlabel('ADR relative to yearly average in each group')\n",
    "\n",
    "ax[0].set_ylabel('')\n",
    "\n",
    "ax[0].xaxis.set_major_formatter(mtick.PercentFormatter())\n",
    "ax[1].xaxis.set_major_formatter(mtick.PercentFormatter())\n",
    "\n",
    "fig.savefig(\"group_test_adr_distribution.png\")"
   ]
  },
  {
   "cell_type": "markdown",
   "metadata": {},
   "source": [
    "## 3. Can we predict if a client will cancel the reservation, just with the information available at the moment this reservation has been made?"
   ]
  },
  {
   "cell_type": "markdown",
   "metadata": {},
   "source": [
    "In this section, we'll try to predict if a booking reservation is going to be cancelled in the future, using variables available only when the reservation is made. That means that we can't make use of the variable 'booking_changes' for instance.\n",
    "\n",
    "Our target variable is 'is_canceled' and we'll train an algorith splitting the bookings DataFrame.\n",
    "\n",
    "First, we'll perform an **exploratory analysis**. Most of it will consisnt in facing is_cancelled against the other variables. A big share of these variables are categorical. It is important not only stablish the relationship of these categories with the target variable, but also checking if there are enough observations from potential categories of interest. For that reason we've create the function **plot_cancel_prop** to automatize this process. The function besides of displaying a plot showing the relationship between the target variable and the respective covariate, shows a table counting the percentage of observations for each category.\n",
    "\n",
    "**New features we'll be created in the EDA process itself** whenever it's considered convenient according to the findings during the process.\n",
    "\n",
    "We'll split most of the visualization into Resort hotel and City hotel, as the different business nature of the two, can lead to a potential different behaviour in the number of cancelations"
   ]
  },
  {
   "cell_type": "code",
   "execution_count": 52,
   "metadata": {},
   "outputs": [
    {
     "data": {
      "text/plain": [
       "Index(['hotel', 'is_canceled', 'lead_time', 'arrival_date_year',\n",
       "       'arrival_date_month', 'arrival_date_week_number',\n",
       "       'arrival_date_day_of_month', 'stays_in_weekend_nights',\n",
       "       'stays_in_week_nights', 'adults', 'children', 'babies', 'meal',\n",
       "       'country', 'market_segment', 'distribution_channel',\n",
       "       'is_repeated_guest', 'previous_cancellations',\n",
       "       'previous_bookings_not_canceled', 'reserved_room_type',\n",
       "       'assigned_room_type', 'booking_changes', 'deposit_type', 'agent',\n",
       "       'company', 'days_in_waiting_list', 'customer_type', 'adr',\n",
       "       'required_car_parking_spaces', 'total_of_special_requests',\n",
       "       'reservation_status', 'reservation_status_date', 'arrival_date',\n",
       "       'length_of_stay', 'los_int', 'departure_date', 'booking_date',\n",
       "       'booking_month', 'revenue', 'lead_time_weeks', 'weekday_checkin',\n",
       "       'weekday_checkout', 'group'],\n",
       "      dtype='object')"
      ]
     },
     "execution_count": 52,
     "metadata": {},
     "output_type": "execute_result"
    }
   ],
   "source": [
    "bookings.columns"
   ]
  },
  {
   "cell_type": "markdown",
   "metadata": {},
   "source": [
    "### EDA"
   ]
  },
  {
   "cell_type": "markdown",
   "metadata": {},
   "source": [
    "Proportion of bookings cancelled. Overall and for hotel type"
   ]
  },
  {
   "cell_type": "code",
   "execution_count": 53,
   "metadata": {},
   "outputs": [
    {
     "data": {
      "text/plain": [
       "0.37041628277075134"
      ]
     },
     "execution_count": 53,
     "metadata": {},
     "output_type": "execute_result"
    }
   ],
   "source": [
    "bookings.is_canceled.mean()"
   ]
  },
  {
   "cell_type": "code",
   "execution_count": 54,
   "metadata": {},
   "outputs": [
    {
     "data": {
      "text/plain": [
       "hotel\n",
       "City Hotel      0.417270\n",
       "Resort Hotel    0.277634\n",
       "Name: is_canceled, dtype: float64"
      ]
     },
     "execution_count": 54,
     "metadata": {},
     "output_type": "execute_result"
    }
   ],
   "source": [
    "bookings.groupby(\"hotel\")['is_canceled'].mean()"
   ]
  },
  {
   "cell_type": "markdown",
   "metadata": {},
   "source": [
    "Now we'll confront each potential covariate of the model with the target variable"
   ]
  },
  {
   "cell_type": "markdown",
   "metadata": {},
   "source": [
    "#### Is repeated guest "
   ]
  },
  {
   "cell_type": "code",
   "execution_count": 55,
   "metadata": {},
   "outputs": [
    {
     "data": {
      "text/plain": [
       "(0    0.968088\n",
       " 1    0.031912\n",
       " Name: is_repeated_guest, dtype: float64,\n",
       " <seaborn.axisgrid.FacetGrid at 0x1bfb81ca608>)"
      ]
     },
     "execution_count": 55,
     "metadata": {},
     "output_type": "execute_result"
    },
    {
     "data": {
      "image/png": "[encoded data removed]",
      "text/plain": [
       "<Figure size 720x360 with 2 Axes>"
      ]
     },
     "metadata": {},
     "output_type": "display_data"
    }
   ],
   "source": [
    "plot_cancel_prop(bookings, \"is_repeated_guest\")"
   ]
  },
  {
   "cell_type": "markdown",
   "metadata": {},
   "source": [
    "People who cancel are overrepresented in new guests.\n",
    "\n",
    "It isn't a variable of much value since almost every guest is a new guest"
   ]
  },
  {
   "cell_type": "markdown",
   "metadata": {},
   "source": [
    "#### Previous cancelations"
   ]
  },
  {
   "cell_type": "code",
   "execution_count": 56,
   "metadata": {
    "scrolled": true
   },
   "outputs": [
    {
     "data": {
      "text/plain": [
       "0     112906\n",
       "1       6051\n",
       "2        116\n",
       "3         65\n",
       "24        48\n",
       "11        35\n",
       "4         31\n",
       "26        26\n",
       "25        25\n",
       "6         22\n",
       "19        19\n",
       "5         19\n",
       "14        14\n",
       "13        12\n",
       "21         1\n",
       "Name: previous_cancellations, dtype: int64"
      ]
     },
     "execution_count": 56,
     "metadata": {},
     "output_type": "execute_result"
    }
   ],
   "source": [
    "bookings.previous_cancellations.value_counts()"
   ]
  },
  {
   "cell_type": "code",
   "execution_count": 57,
   "metadata": {},
   "outputs": [
    {
     "data": {
      "text/plain": [
       "0.054309406147918585"
      ]
     },
     "execution_count": 57,
     "metadata": {},
     "output_type": "execute_result"
    }
   ],
   "source": [
    "np.mean(bookings.previous_cancellations > 0)"
   ]
  },
  {
   "cell_type": "code",
   "execution_count": 58,
   "metadata": {
    "scrolled": false
   },
   "outputs": [
    {
     "data": {
      "text/plain": [
       "<seaborn.axisgrid.FacetGrid at 0x1bfb2d15d08>"
      ]
     },
     "execution_count": 58,
     "metadata": {},
     "output_type": "execute_result"
    },
    {
     "data": {
      "image/png": "[encoded data removed]",
      "text/plain": [
       "<Figure size 720x360 with 2 Axes>"
      ]
     },
     "metadata": {},
     "output_type": "display_data"
    }
   ],
   "source": [
    "sns.catplot(x = \"is_canceled\", y = \"previous_cancellations\", data = bookings, kind = \"box\", col = \"hotel\")"
   ]
  },
  {
   "cell_type": "markdown",
   "metadata": {},
   "source": [
    "It seems it can be a relationship but the variable is too assymetrical. We'll create the variable 'has_previous_cancelations' and analyse the relationship for this variable."
   ]
  },
  {
   "cell_type": "code",
   "execution_count": 59,
   "metadata": {},
   "outputs": [],
   "source": [
    "bookings['has_previous_cancellations'] = bookings.previous_cancellations > 0"
   ]
  },
  {
   "cell_type": "code",
   "execution_count": 60,
   "metadata": {
    "scrolled": false
   },
   "outputs": [
    {
     "data": {
      "text/plain": [
       "(False    0.945691\n",
       " True     0.054309\n",
       " Name: has_previous_cancellations, dtype: float64,\n",
       " <seaborn.axisgrid.FacetGrid at 0x1bfc132c8c8>)"
      ]
     },
     "execution_count": 60,
     "metadata": {},
     "output_type": "execute_result"
    },
    {
     "data": {
      "image/png": "[encoded data removed]",
      "text/plain": [
       "<Figure size 720x360 with 2 Axes>"
      ]
     },
     "metadata": {},
     "output_type": "display_data"
    }
   ],
   "source": [
    "plot_cancel_prop(bookings, \"has_previous_cancellations\")"
   ]
  },
  {
   "cell_type": "markdown",
   "metadata": {},
   "source": [
    "It looks like people who have cancel previously tend to cancel a lot more. But these people amount for only a 5 % of the total number of bookings"
   ]
  },
  {
   "cell_type": "markdown",
   "metadata": {},
   "source": [
    "#### Reserved room type "
   ]
  },
  {
   "cell_type": "code",
   "execution_count": 61,
   "metadata": {
    "scrolled": false
   },
   "outputs": [
    {
     "data": {
      "text/plain": [
       "(A    0.720278\n",
       " D    0.160826\n",
       " E    0.054737\n",
       " F    0.024265\n",
       " G    0.017539\n",
       " B    0.009364\n",
       " C    0.007806\n",
       " H    0.005034\n",
       " P    0.000101\n",
       " L    0.000050\n",
       " Name: reserved_room_type, dtype: float64,\n",
       " <seaborn.axisgrid.FacetGrid at 0x1bfc9a1fd08>)"
      ]
     },
     "execution_count": 61,
     "metadata": {},
     "output_type": "execute_result"
    },
    {
     "data": {
      "image/png": "[encoded data removed]",
      "text/plain": [
       "<Figure size 720x360 with 2 Axes>"
      ]
     },
     "metadata": {},
     "output_type": "display_data"
    }
   ],
   "source": [
    "plot_cancel_prop(bookings, \"reserved_room_type\")"
   ]
  },
  {
   "cell_type": "code",
   "execution_count": 62,
   "metadata": {},
   "outputs": [
    {
     "data": {
      "text/html": [
       "<div>\n",
       "<style scoped>\n",
       "    .dataframe tbody tr th:only-of-type {\n",
       "        vertical-align: middle;\n",
       "    }\n",
       "\n",
       "    .dataframe tbody tr th {\n",
       "        vertical-align: top;\n",
       "    }\n",
       "\n",
       "    .dataframe thead th {\n",
       "        text-align: right;\n",
       "    }\n",
       "</style>\n",
       "<table border=\"1\" class=\"dataframe\">\n",
       "  <thead>\n",
       "    <tr style=\"text-align: right;\">\n",
       "      <th></th>\n",
       "      <th>hotel</th>\n",
       "      <th>is_canceled</th>\n",
       "      <th>lead_time</th>\n",
       "      <th>arrival_date_year</th>\n",
       "      <th>arrival_date_month</th>\n",
       "      <th>arrival_date_week_number</th>\n",
       "      <th>arrival_date_day_of_month</th>\n",
       "      <th>stays_in_weekend_nights</th>\n",
       "      <th>stays_in_week_nights</th>\n",
       "      <th>adults</th>\n",
       "      <th>...</th>\n",
       "      <th>los_int</th>\n",
       "      <th>departure_date</th>\n",
       "      <th>booking_date</th>\n",
       "      <th>booking_month</th>\n",
       "      <th>revenue</th>\n",
       "      <th>lead_time_weeks</th>\n",
       "      <th>weekday_checkin</th>\n",
       "      <th>weekday_checkout</th>\n",
       "      <th>group</th>\n",
       "      <th>has_previous_cancellations</th>\n",
       "    </tr>\n",
       "  </thead>\n",
       "  <tbody>\n",
       "    <tr>\n",
       "      <th>4127</th>\n",
       "      <td>Resort Hotel</td>\n",
       "      <td>1</td>\n",
       "      <td>0</td>\n",
       "      <td>2016</td>\n",
       "      <td>February</td>\n",
       "      <td>8</td>\n",
       "      <td>15</td>\n",
       "      <td>0</td>\n",
       "      <td>0</td>\n",
       "      <td>0</td>\n",
       "      <td>...</td>\n",
       "      <td>NaN</td>\n",
       "      <td>2016-02-15</td>\n",
       "      <td>2016-02-15</td>\n",
       "      <td>Feb</td>\n",
       "      <td>0.0</td>\n",
       "      <td>0</td>\n",
       "      <td>0</td>\n",
       "      <td>0</td>\n",
       "      <td>False</td>\n",
       "      <td>False</td>\n",
       "    </tr>\n",
       "    <tr>\n",
       "      <th>9376</th>\n",
       "      <td>Resort Hotel</td>\n",
       "      <td>1</td>\n",
       "      <td>0</td>\n",
       "      <td>2016</td>\n",
       "      <td>November</td>\n",
       "      <td>48</td>\n",
       "      <td>21</td>\n",
       "      <td>0</td>\n",
       "      <td>0</td>\n",
       "      <td>0</td>\n",
       "      <td>...</td>\n",
       "      <td>NaN</td>\n",
       "      <td>2016-11-21</td>\n",
       "      <td>2016-11-21</td>\n",
       "      <td>Nov</td>\n",
       "      <td>0.0</td>\n",
       "      <td>0</td>\n",
       "      <td>0</td>\n",
       "      <td>0</td>\n",
       "      <td>True</td>\n",
       "      <td>False</td>\n",
       "    </tr>\n",
       "    <tr>\n",
       "      <th>60651</th>\n",
       "      <td>City Hotel</td>\n",
       "      <td>1</td>\n",
       "      <td>0</td>\n",
       "      <td>2016</td>\n",
       "      <td>November</td>\n",
       "      <td>47</td>\n",
       "      <td>17</td>\n",
       "      <td>4</td>\n",
       "      <td>11</td>\n",
       "      <td>0</td>\n",
       "      <td>...</td>\n",
       "      <td>(13.0, 15.0]</td>\n",
       "      <td>2016-12-02</td>\n",
       "      <td>2016-11-17</td>\n",
       "      <td>Nov</td>\n",
       "      <td>0.0</td>\n",
       "      <td>0</td>\n",
       "      <td>3</td>\n",
       "      <td>4</td>\n",
       "      <td>False</td>\n",
       "      <td>False</td>\n",
       "    </tr>\n",
       "    <tr>\n",
       "      <th>61244</th>\n",
       "      <td>City Hotel</td>\n",
       "      <td>1</td>\n",
       "      <td>0</td>\n",
       "      <td>2016</td>\n",
       "      <td>December</td>\n",
       "      <td>50</td>\n",
       "      <td>6</td>\n",
       "      <td>0</td>\n",
       "      <td>0</td>\n",
       "      <td>0</td>\n",
       "      <td>...</td>\n",
       "      <td>NaN</td>\n",
       "      <td>2016-12-06</td>\n",
       "      <td>2016-12-06</td>\n",
       "      <td>Dec</td>\n",
       "      <td>0.0</td>\n",
       "      <td>0</td>\n",
       "      <td>1</td>\n",
       "      <td>1</td>\n",
       "      <td>False</td>\n",
       "      <td>False</td>\n",
       "    </tr>\n",
       "    <tr>\n",
       "      <th>61245</th>\n",
       "      <td>City Hotel</td>\n",
       "      <td>1</td>\n",
       "      <td>0</td>\n",
       "      <td>2016</td>\n",
       "      <td>December</td>\n",
       "      <td>50</td>\n",
       "      <td>6</td>\n",
       "      <td>0</td>\n",
       "      <td>0</td>\n",
       "      <td>0</td>\n",
       "      <td>...</td>\n",
       "      <td>NaN</td>\n",
       "      <td>2016-12-06</td>\n",
       "      <td>2016-12-06</td>\n",
       "      <td>Dec</td>\n",
       "      <td>0.0</td>\n",
       "      <td>0</td>\n",
       "      <td>1</td>\n",
       "      <td>1</td>\n",
       "      <td>False</td>\n",
       "      <td>False</td>\n",
       "    </tr>\n",
       "    <tr>\n",
       "      <th>61249</th>\n",
       "      <td>City Hotel</td>\n",
       "      <td>1</td>\n",
       "      <td>0</td>\n",
       "      <td>2016</td>\n",
       "      <td>December</td>\n",
       "      <td>50</td>\n",
       "      <td>6</td>\n",
       "      <td>0</td>\n",
       "      <td>0</td>\n",
       "      <td>0</td>\n",
       "      <td>...</td>\n",
       "      <td>NaN</td>\n",
       "      <td>2016-12-06</td>\n",
       "      <td>2016-12-06</td>\n",
       "      <td>Dec</td>\n",
       "      <td>0.0</td>\n",
       "      <td>0</td>\n",
       "      <td>1</td>\n",
       "      <td>1</td>\n",
       "      <td>False</td>\n",
       "      <td>False</td>\n",
       "    </tr>\n",
       "    <tr>\n",
       "      <th>65907</th>\n",
       "      <td>City Hotel</td>\n",
       "      <td>1</td>\n",
       "      <td>0</td>\n",
       "      <td>2017</td>\n",
       "      <td>April</td>\n",
       "      <td>15</td>\n",
       "      <td>10</td>\n",
       "      <td>0</td>\n",
       "      <td>0</td>\n",
       "      <td>0</td>\n",
       "      <td>...</td>\n",
       "      <td>NaN</td>\n",
       "      <td>2017-04-10</td>\n",
       "      <td>2017-04-10</td>\n",
       "      <td>Apr</td>\n",
       "      <td>0.0</td>\n",
       "      <td>0</td>\n",
       "      <td>0</td>\n",
       "      <td>0</td>\n",
       "      <td>False</td>\n",
       "      <td>False</td>\n",
       "    </tr>\n",
       "    <tr>\n",
       "      <th>65908</th>\n",
       "      <td>City Hotel</td>\n",
       "      <td>1</td>\n",
       "      <td>0</td>\n",
       "      <td>2017</td>\n",
       "      <td>April</td>\n",
       "      <td>15</td>\n",
       "      <td>10</td>\n",
       "      <td>0</td>\n",
       "      <td>0</td>\n",
       "      <td>0</td>\n",
       "      <td>...</td>\n",
       "      <td>NaN</td>\n",
       "      <td>2017-04-10</td>\n",
       "      <td>2017-04-10</td>\n",
       "      <td>Apr</td>\n",
       "      <td>0.0</td>\n",
       "      <td>0</td>\n",
       "      <td>0</td>\n",
       "      <td>0</td>\n",
       "      <td>False</td>\n",
       "      <td>False</td>\n",
       "    </tr>\n",
       "    <tr>\n",
       "      <th>65909</th>\n",
       "      <td>City Hotel</td>\n",
       "      <td>1</td>\n",
       "      <td>0</td>\n",
       "      <td>2017</td>\n",
       "      <td>April</td>\n",
       "      <td>15</td>\n",
       "      <td>10</td>\n",
       "      <td>0</td>\n",
       "      <td>0</td>\n",
       "      <td>0</td>\n",
       "      <td>...</td>\n",
       "      <td>NaN</td>\n",
       "      <td>2017-04-10</td>\n",
       "      <td>2017-04-10</td>\n",
       "      <td>Apr</td>\n",
       "      <td>0.0</td>\n",
       "      <td>0</td>\n",
       "      <td>0</td>\n",
       "      <td>0</td>\n",
       "      <td>False</td>\n",
       "      <td>False</td>\n",
       "    </tr>\n",
       "    <tr>\n",
       "      <th>65910</th>\n",
       "      <td>City Hotel</td>\n",
       "      <td>1</td>\n",
       "      <td>0</td>\n",
       "      <td>2017</td>\n",
       "      <td>April</td>\n",
       "      <td>15</td>\n",
       "      <td>10</td>\n",
       "      <td>0</td>\n",
       "      <td>0</td>\n",
       "      <td>0</td>\n",
       "      <td>...</td>\n",
       "      <td>NaN</td>\n",
       "      <td>2017-04-10</td>\n",
       "      <td>2017-04-10</td>\n",
       "      <td>Apr</td>\n",
       "      <td>0.0</td>\n",
       "      <td>0</td>\n",
       "      <td>0</td>\n",
       "      <td>0</td>\n",
       "      <td>False</td>\n",
       "      <td>False</td>\n",
       "    </tr>\n",
       "    <tr>\n",
       "      <th>72967</th>\n",
       "      <td>City Hotel</td>\n",
       "      <td>1</td>\n",
       "      <td>0</td>\n",
       "      <td>2017</td>\n",
       "      <td>August</td>\n",
       "      <td>32</td>\n",
       "      <td>11</td>\n",
       "      <td>0</td>\n",
       "      <td>0</td>\n",
       "      <td>0</td>\n",
       "      <td>...</td>\n",
       "      <td>NaN</td>\n",
       "      <td>2017-08-11</td>\n",
       "      <td>2017-08-11</td>\n",
       "      <td>Aug</td>\n",
       "      <td>0.0</td>\n",
       "      <td>0</td>\n",
       "      <td>4</td>\n",
       "      <td>4</td>\n",
       "      <td>False</td>\n",
       "      <td>False</td>\n",
       "    </tr>\n",
       "    <tr>\n",
       "      <th>72968</th>\n",
       "      <td>City Hotel</td>\n",
       "      <td>1</td>\n",
       "      <td>0</td>\n",
       "      <td>2017</td>\n",
       "      <td>August</td>\n",
       "      <td>32</td>\n",
       "      <td>11</td>\n",
       "      <td>0</td>\n",
       "      <td>0</td>\n",
       "      <td>0</td>\n",
       "      <td>...</td>\n",
       "      <td>NaN</td>\n",
       "      <td>2017-08-11</td>\n",
       "      <td>2017-08-11</td>\n",
       "      <td>Aug</td>\n",
       "      <td>0.0</td>\n",
       "      <td>0</td>\n",
       "      <td>4</td>\n",
       "      <td>4</td>\n",
       "      <td>False</td>\n",
       "      <td>False</td>\n",
       "    </tr>\n",
       "  </tbody>\n",
       "</table>\n",
       "<p>12 rows × 44 columns</p>\n",
       "</div>"
      ],
      "text/plain": [
       "              hotel  is_canceled  lead_time  arrival_date_year  \\\n",
       "4127   Resort Hotel            1          0               2016   \n",
       "9376   Resort Hotel            1          0               2016   \n",
       "60651    City Hotel            1          0               2016   \n",
       "61244    City Hotel            1          0               2016   \n",
       "61245    City Hotel            1          0               2016   \n",
       "61249    City Hotel            1          0               2016   \n",
       "65907    City Hotel            1          0               2017   \n",
       "65908    City Hotel            1          0               2017   \n",
       "65909    City Hotel            1          0               2017   \n",
       "65910    City Hotel            1          0               2017   \n",
       "72967    City Hotel            1          0               2017   \n",
       "72968    City Hotel            1          0               2017   \n",
       "\n",
       "      arrival_date_month  arrival_date_week_number  arrival_date_day_of_month  \\\n",
       "4127            February                         8                         15   \n",
       "9376            November                        48                         21   \n",
       "60651           November                        47                         17   \n",
       "61244           December                        50                          6   \n",
       "61245           December                        50                          6   \n",
       "61249           December                        50                          6   \n",
       "65907              April                        15                         10   \n",
       "65908              April                        15                         10   \n",
       "65909              April                        15                         10   \n",
       "65910              April                        15                         10   \n",
       "72967             August                        32                         11   \n",
       "72968             August                        32                         11   \n",
       "\n",
       "       stays_in_weekend_nights  stays_in_week_nights  adults  ...  \\\n",
       "4127                         0                     0       0  ...   \n",
       "9376                         0                     0       0  ...   \n",
       "60651                        4                    11       0  ...   \n",
       "61244                        0                     0       0  ...   \n",
       "61245                        0                     0       0  ...   \n",
       "61249                        0                     0       0  ...   \n",
       "65907                        0                     0       0  ...   \n",
       "65908                        0                     0       0  ...   \n",
       "65909                        0                     0       0  ...   \n",
       "65910                        0                     0       0  ...   \n",
       "72967                        0                     0       0  ...   \n",
       "72968                        0                     0       0  ...   \n",
       "\n",
       "            los_int  departure_date booking_date booking_month revenue  \\\n",
       "4127            NaN      2016-02-15   2016-02-15           Feb     0.0   \n",
       "9376            NaN      2016-11-21   2016-11-21           Nov     0.0   \n",
       "60651  (13.0, 15.0]      2016-12-02   2016-11-17           Nov     0.0   \n",
       "61244           NaN      2016-12-06   2016-12-06           Dec     0.0   \n",
       "61245           NaN      2016-12-06   2016-12-06           Dec     0.0   \n",
       "61249           NaN      2016-12-06   2016-12-06           Dec     0.0   \n",
       "65907           NaN      2017-04-10   2017-04-10           Apr     0.0   \n",
       "65908           NaN      2017-04-10   2017-04-10           Apr     0.0   \n",
       "65909           NaN      2017-04-10   2017-04-10           Apr     0.0   \n",
       "65910           NaN      2017-04-10   2017-04-10           Apr     0.0   \n",
       "72967           NaN      2017-08-11   2017-08-11           Aug     0.0   \n",
       "72968           NaN      2017-08-11   2017-08-11           Aug     0.0   \n",
       "\n",
       "      lead_time_weeks  weekday_checkin  weekday_checkout  group  \\\n",
       "4127                0                0                 0  False   \n",
       "9376                0                0                 0   True   \n",
       "60651               0                3                 4  False   \n",
       "61244               0                1                 1  False   \n",
       "61245               0                1                 1  False   \n",
       "61249               0                1                 1  False   \n",
       "65907               0                0                 0  False   \n",
       "65908               0                0                 0  False   \n",
       "65909               0                0                 0  False   \n",
       "65910               0                0                 0  False   \n",
       "72967               0                4                 4  False   \n",
       "72968               0                4                 4  False   \n",
       "\n",
       "      has_previous_cancellations  \n",
       "4127                       False  \n",
       "9376                       False  \n",
       "60651                      False  \n",
       "61244                      False  \n",
       "61245                      False  \n",
       "61249                      False  \n",
       "65907                      False  \n",
       "65908                      False  \n",
       "65909                      False  \n",
       "65910                      False  \n",
       "72967                      False  \n",
       "72968                      False  \n",
       "\n",
       "[12 rows x 44 columns]"
      ]
     },
     "execution_count": 62,
     "metadata": {},
     "output_type": "execute_result"
    }
   ],
   "source": [
    "bookings[bookings.reserved_room_type == \"P\"]"
   ]
  },
  {
   "cell_type": "markdown",
   "metadata": {},
   "source": [
    "We must remove these values. The P rooms are likely tests or something like that. Revenue for everyone of these is 0. Lead time is also 0"
   ]
  },
  {
   "cell_type": "code",
   "execution_count": 63,
   "metadata": {},
   "outputs": [],
   "source": [
    "bookings = bookings[bookings.reserved_room_type != \"P\"]"
   ]
  },
  {
   "cell_type": "markdown",
   "metadata": {},
   "source": [
    "From the rooms that are booked the most, the one with more cancelations in City Hotels is room A. There doesn't seem to be a lot of difference though."
   ]
  },
  {
   "cell_type": "markdown",
   "metadata": {},
   "source": [
    "#### Lead time"
   ]
  },
  {
   "cell_type": "markdown",
   "metadata": {},
   "source": [
    "Lets compute proportion of cancelations by lead_time_weeks and plot the weeks to go against the proportion of booking cancellations."
   ]
  },
  {
   "cell_type": "code",
   "execution_count": 64,
   "metadata": {},
   "outputs": [],
   "source": [
    "cancel_lead_time = bookings.groupby(['hotel', 'lead_time_weeks']).agg({'is_canceled': 'mean'}).reset_index()"
   ]
  },
  {
   "cell_type": "code",
   "execution_count": 65,
   "metadata": {
    "scrolled": true
   },
   "outputs": [
    {
     "data": {
      "text/html": [
       "<div>\n",
       "<style scoped>\n",
       "    .dataframe tbody tr th:only-of-type {\n",
       "        vertical-align: middle;\n",
       "    }\n",
       "\n",
       "    .dataframe tbody tr th {\n",
       "        vertical-align: top;\n",
       "    }\n",
       "\n",
       "    .dataframe thead th {\n",
       "        text-align: right;\n",
       "    }\n",
       "</style>\n",
       "<table border=\"1\" class=\"dataframe\">\n",
       "  <thead>\n",
       "    <tr style=\"text-align: right;\">\n",
       "      <th></th>\n",
       "      <th>hotel</th>\n",
       "      <th>lead_time_weeks</th>\n",
       "      <th>is_canceled</th>\n",
       "    </tr>\n",
       "  </thead>\n",
       "  <tbody>\n",
       "    <tr>\n",
       "      <th>0</th>\n",
       "      <td>City Hotel</td>\n",
       "      <td>0</td>\n",
       "      <td>0.118725</td>\n",
       "    </tr>\n",
       "    <tr>\n",
       "      <th>1</th>\n",
       "      <td>City Hotel</td>\n",
       "      <td>1</td>\n",
       "      <td>0.234020</td>\n",
       "    </tr>\n",
       "    <tr>\n",
       "      <th>2</th>\n",
       "      <td>City Hotel</td>\n",
       "      <td>2</td>\n",
       "      <td>0.296690</td>\n",
       "    </tr>\n",
       "    <tr>\n",
       "      <th>3</th>\n",
       "      <td>City Hotel</td>\n",
       "      <td>3</td>\n",
       "      <td>0.357527</td>\n",
       "    </tr>\n",
       "    <tr>\n",
       "      <th>4</th>\n",
       "      <td>City Hotel</td>\n",
       "      <td>4</td>\n",
       "      <td>0.391850</td>\n",
       "    </tr>\n",
       "  </tbody>\n",
       "</table>\n",
       "</div>"
      ],
      "text/plain": [
       "        hotel  lead_time_weeks  is_canceled\n",
       "0  City Hotel                0     0.118725\n",
       "1  City Hotel                1     0.234020\n",
       "2  City Hotel                2     0.296690\n",
       "3  City Hotel                3     0.357527\n",
       "4  City Hotel                4     0.391850"
      ]
     },
     "execution_count": 65,
     "metadata": {},
     "output_type": "execute_result"
    }
   ],
   "source": [
    "cancel_lead_time.head()"
   ]
  },
  {
   "cell_type": "code",
   "execution_count": 66,
   "metadata": {
    "scrolled": true
   },
   "outputs": [
    {
     "data": {
      "image/png": "[encoded data removed]",
      "text/plain": [
       "<Figure size 720x360 with 2 Axes>"
      ]
     },
     "metadata": {},
     "output_type": "display_data"
    }
   ],
   "source": [
    "sns.relplot(x = \"lead_time_weeks\", y = \"is_canceled\", \n",
    "            data = cancel_lead_time[cancel_lead_time.lead_time_weeks < 52] , col = \"hotel\", col_wrap = 2, kind = \"line\");"
   ]
  },
  {
   "cell_type": "markdown",
   "metadata": {},
   "source": [
    "Positive relationship between cancelations and lead time in city hotels, not as clear in resort hotels. Nevertherles, in both cases there are few cancelations in reservations with little antelation."
   ]
  },
  {
   "cell_type": "markdown",
   "metadata": {},
   "source": [
    "#### Deposit type"
   ]
  },
  {
   "cell_type": "code",
   "execution_count": 67,
   "metadata": {
    "scrolled": true
   },
   "outputs": [
    {
     "data": {
      "text/plain": [
       "(No Deposit    0.876451\n",
       " Non Refund    0.122192\n",
       " Refundable    0.001357\n",
       " Name: deposit_type, dtype: float64,\n",
       " <seaborn.axisgrid.FacetGrid at 0x1bfb9a58c08>)"
      ]
     },
     "execution_count": 67,
     "metadata": {},
     "output_type": "execute_result"
    },
    {
     "data": {
      "image/png": "[encoded data removed]",
      "text/plain": [
       "<Figure size 720x360 with 2 Axes>"
      ]
     },
     "metadata": {},
     "output_type": "display_data"
    }
   ],
   "source": [
    "plot_cancel_prop(bookings, \"deposit_type\")"
   ]
  },
  {
   "cell_type": "markdown",
   "metadata": {},
   "source": [
    "Non refundable rate reservations cancel a lot more. Maybe they are related with some offer like an early booking. Let's check average adr for these categories"
   ]
  },
  {
   "cell_type": "code",
   "execution_count": 68,
   "metadata": {
    "scrolled": false
   },
   "outputs": [
    {
     "data": {
      "text/plain": [
       "hotel         deposit_type\n",
       "City Hotel    No Deposit      107.674593\n",
       "              Non Refund       93.135309\n",
       "              Refundable      114.977500\n",
       "Resort Hotel  No Deposit       96.340759\n",
       "              Non Refund       66.224532\n",
       "              Refundable       70.749507\n",
       "Name: adr, dtype: float64"
      ]
     },
     "execution_count": 68,
     "metadata": {},
     "output_type": "execute_result"
    }
   ],
   "source": [
    "bookings.groupby(['hotel', 'deposit_type'])['adr'].mean()"
   ]
  },
  {
   "cell_type": "markdown",
   "metadata": {},
   "source": [
    "Yes, it looks like Non Refundable tarifs have lower adr"
   ]
  },
  {
   "cell_type": "markdown",
   "metadata": {},
   "source": [
    "#### Agent"
   ]
  },
  {
   "cell_type": "markdown",
   "metadata": {},
   "source": [
    "Let's look at the distribution first"
   ]
  },
  {
   "cell_type": "code",
   "execution_count": 69,
   "metadata": {
    "scrolled": true
   },
   "outputs": [
    {
     "data": {
      "text/plain": [
       "9.0      0.310150\n",
       "240.0    0.135099\n",
       "1.0      0.069782\n",
       "14.0     0.035323\n",
       "7.0      0.034343\n",
       "6.0      0.031926\n",
       "250.0    0.027851\n",
       "241.0    0.016701\n",
       "28.0     0.016167\n",
       "8.0      0.014692\n",
       "Name: agent, dtype: float64"
      ]
     },
     "execution_count": 69,
     "metadata": {},
     "output_type": "execute_result"
    }
   ],
   "source": [
    "agent_distrib = (bookings.agent.value_counts().sort_values(ascending = False) / sum(bookings.agent.value_counts()))\n",
    "agent_distrib.head(10)"
   ]
  },
  {
   "cell_type": "markdown",
   "metadata": {},
   "source": [
    "To many agents. Lets group them into the more important ones. The seventh' agent only has approx 3 % of the market. We'll group agents into the top 6."
   ]
  },
  {
   "cell_type": "code",
   "execution_count": 70,
   "metadata": {
    "scrolled": true
   },
   "outputs": [
    {
     "name": "stderr",
     "output_type": "stream",
     "text": [
      "C:\\Users\\marti\\anaconda3\\lib\\site-packages\\ipykernel_launcher.py:1: SettingWithCopyWarning: \n",
      "A value is trying to be set on a copy of a slice from a DataFrame.\n",
      "Try using .loc[row_indexer,col_indexer] = value instead\n",
      "\n",
      "See the caveats in the documentation: https://pandas.pydata.org/pandas-docs/stable/user_guide/indexing.html#returning-a-view-versus-a-copy\n",
      "  \"\"\"Entry point for launching an IPython kernel.\n"
     ]
    }
   ],
   "source": [
    "bookings['agent_grouped'] = group_main_categories(bookings, \"agent\", 6)"
   ]
  },
  {
   "cell_type": "code",
   "execution_count": 71,
   "metadata": {
    "scrolled": false
   },
   "outputs": [
    {
     "data": {
      "text/plain": [
       "(other    0.467716\n",
       " 9.0      0.267729\n",
       " 240.0    0.116621\n",
       " 1.0      0.060237\n",
       " 14.0     0.030491\n",
       " 7.0      0.029645\n",
       " 6.0      0.027560\n",
       " Name: agent_grouped, dtype: float64,\n",
       " <seaborn.axisgrid.FacetGrid at 0x1bf99bfed88>)"
      ]
     },
     "execution_count": 71,
     "metadata": {},
     "output_type": "execute_result"
    },
    {
     "data": {
      "image/png": "[encoded data removed]",
      "text/plain": [
       "<Figure size 720x360 with 2 Axes>"
      ]
     },
     "metadata": {},
     "output_type": "display_data"
    }
   ],
   "source": [
    "plot_cancel_prop(bookings, 'agent_grouped')"
   ]
  },
  {
   "cell_type": "markdown",
   "metadata": {},
   "source": [
    "Agent one gets a lot of cancelattions"
   ]
  },
  {
   "cell_type": "markdown",
   "metadata": {},
   "source": [
    "#### Company"
   ]
  },
  {
   "cell_type": "markdown",
   "metadata": {},
   "source": [
    "Again, a lot of categories, let's group them. 40 and 223 domain the market for these hotels"
   ]
  },
  {
   "cell_type": "code",
   "execution_count": 72,
   "metadata": {
    "scrolled": false
   },
   "outputs": [
    {
     "data": {
      "text/html": [
       "<div>\n",
       "<style scoped>\n",
       "    .dataframe tbody tr th:only-of-type {\n",
       "        vertical-align: middle;\n",
       "    }\n",
       "\n",
       "    .dataframe tbody tr th {\n",
       "        vertical-align: top;\n",
       "    }\n",
       "\n",
       "    .dataframe thead th {\n",
       "        text-align: right;\n",
       "    }\n",
       "</style>\n",
       "<table border=\"1\" class=\"dataframe\">\n",
       "  <thead>\n",
       "    <tr style=\"text-align: right;\">\n",
       "      <th></th>\n",
       "      <th>f</th>\n",
       "      <th>F</th>\n",
       "    </tr>\n",
       "  </thead>\n",
       "  <tbody>\n",
       "    <tr>\n",
       "      <th>40.0</th>\n",
       "      <td>0.136585</td>\n",
       "      <td>0.136585</td>\n",
       "    </tr>\n",
       "    <tr>\n",
       "      <th>223.0</th>\n",
       "      <td>0.115515</td>\n",
       "      <td>0.252100</td>\n",
       "    </tr>\n",
       "    <tr>\n",
       "      <th>67.0</th>\n",
       "      <td>0.039340</td>\n",
       "      <td>0.291440</td>\n",
       "    </tr>\n",
       "    <tr>\n",
       "      <th>45.0</th>\n",
       "      <td>0.036835</td>\n",
       "      <td>0.328275</td>\n",
       "    </tr>\n",
       "    <tr>\n",
       "      <th>153.0</th>\n",
       "      <td>0.031678</td>\n",
       "      <td>0.359953</td>\n",
       "    </tr>\n",
       "    <tr>\n",
       "      <th>174.0</th>\n",
       "      <td>0.021954</td>\n",
       "      <td>0.381907</td>\n",
       "    </tr>\n",
       "    <tr>\n",
       "      <th>219.0</th>\n",
       "      <td>0.020775</td>\n",
       "      <td>0.402682</td>\n",
       "    </tr>\n",
       "    <tr>\n",
       "      <th>281.0</th>\n",
       "      <td>0.020333</td>\n",
       "      <td>0.423015</td>\n",
       "    </tr>\n",
       "    <tr>\n",
       "      <th>154.0</th>\n",
       "      <td>0.019596</td>\n",
       "      <td>0.442611</td>\n",
       "    </tr>\n",
       "    <tr>\n",
       "      <th>405.0</th>\n",
       "      <td>0.017534</td>\n",
       "      <td>0.460144</td>\n",
       "    </tr>\n",
       "  </tbody>\n",
       "</table>\n",
       "</div>"
      ],
      "text/plain": [
       "              f         F\n",
       "40.0   0.136585  0.136585\n",
       "223.0  0.115515  0.252100\n",
       "67.0   0.039340  0.291440\n",
       "45.0   0.036835  0.328275\n",
       "153.0  0.031678  0.359953\n",
       "174.0  0.021954  0.381907\n",
       "219.0  0.020775  0.402682\n",
       "281.0  0.020333  0.423015\n",
       "154.0  0.019596  0.442611\n",
       "405.0  0.017534  0.460144"
      ]
     },
     "execution_count": 72,
     "metadata": {},
     "output_type": "execute_result"
    }
   ],
   "source": [
    "sort_categories_distrib(bookings, \"company\").head(10)"
   ]
  },
  {
   "cell_type": "code",
   "execution_count": 73,
   "metadata": {},
   "outputs": [
    {
     "name": "stderr",
     "output_type": "stream",
     "text": [
      "C:\\Users\\marti\\anaconda3\\lib\\site-packages\\ipykernel_launcher.py:1: SettingWithCopyWarning: \n",
      "A value is trying to be set on a copy of a slice from a DataFrame.\n",
      "Try using .loc[row_indexer,col_indexer] = value instead\n",
      "\n",
      "See the caveats in the documentation: https://pandas.pydata.org/pandas-docs/stable/user_guide/indexing.html#returning-a-view-versus-a-copy\n",
      "  \"\"\"Entry point for launching an IPython kernel.\n"
     ]
    }
   ],
   "source": [
    "bookings['company_grouped'] = group_main_categories(bookings, 'company', 6)"
   ]
  },
  {
   "cell_type": "code",
   "execution_count": 74,
   "metadata": {
    "scrolled": false
   },
   "outputs": [
    {
     "data": {
      "text/plain": [
       "(other    0.978287\n",
       " 40.0     0.007765\n",
       " 223.0    0.006567\n",
       " 67.0     0.002237\n",
       " 45.0     0.002094\n",
       " 153.0    0.001801\n",
       " 174.0    0.001248\n",
       " Name: company_grouped, dtype: float64,\n",
       " <seaborn.axisgrid.FacetGrid at 0x1bfad0e8308>)"
      ]
     },
     "execution_count": 74,
     "metadata": {},
     "output_type": "execute_result"
    },
    {
     "data": {
      "image/png": "[encoded data removed]",
      "text/plain": [
       "<Figure size 720x360 with 2 Axes>"
      ]
     },
     "metadata": {},
     "output_type": "display_data"
    }
   ],
   "source": [
    "plot_cancel_prop(bookings, \"company_grouped\")"
   ]
  },
  {
   "cell_type": "markdown",
   "metadata": {},
   "source": [
    "It turns out that 223 operates in resort hotels and 40 in city hotels. Both of them have a number of cancellations below the average for these hotels.\n",
    "\n",
    "City hotels has a lot of cancelations for the company 67."
   ]
  },
  {
   "cell_type": "markdown",
   "metadata": {},
   "source": [
    "#### Children "
   ]
  },
  {
   "cell_type": "markdown",
   "metadata": {},
   "source": [
    "Lot of guests travel without children"
   ]
  },
  {
   "cell_type": "code",
   "execution_count": 75,
   "metadata": {
    "scrolled": false
   },
   "outputs": [
    {
     "data": {
      "text/plain": [
       "0.0     110784\n",
       "1.0       4861\n",
       "2.0       3652\n",
       "3.0         76\n",
       "10.0         1\n",
       "Name: children, dtype: int64"
      ]
     },
     "execution_count": 75,
     "metadata": {},
     "output_type": "execute_result"
    }
   ],
   "source": [
    "bookings.children.value_counts()"
   ]
  },
  {
   "cell_type": "markdown",
   "metadata": {},
   "source": [
    "This happens both in city and resort hotels"
   ]
  },
  {
   "cell_type": "code",
   "execution_count": 76,
   "metadata": {
    "scrolled": true
   },
   "outputs": [
    {
     "data": {
      "text/plain": [
       "hotel         children\n",
       "City Hotel    0.0         74210\n",
       "              1.0          3023\n",
       "              2.0          2024\n",
       "              3.0            59\n",
       "Resort Hotel  0.0         36574\n",
       "              1.0          1838\n",
       "              2.0          1628\n",
       "              3.0            17\n",
       "              10.0            1\n",
       "Name: hotel, dtype: int64"
      ]
     },
     "execution_count": 76,
     "metadata": {},
     "output_type": "execute_result"
    }
   ],
   "source": [
    "bookings.groupby([\"hotel\", \"children\"])['hotel'].count()"
   ]
  },
  {
   "cell_type": "code",
   "execution_count": 77,
   "metadata": {},
   "outputs": [
    {
     "data": {
      "text/plain": [
       "(0.0     0.928041\n",
       " 1.0     0.040721\n",
       " 2.0     0.030593\n",
       " 3.0     0.000637\n",
       " 10.0    0.000008\n",
       " Name: children, dtype: float64,\n",
       " <seaborn.axisgrid.FacetGrid at 0x1bfb0786508>)"
      ]
     },
     "execution_count": 77,
     "metadata": {},
     "output_type": "execute_result"
    },
    {
     "data": {
      "image/png": "[encoded data removed]",
      "text/plain": [
       "<Figure size 720x360 with 2 Axes>"
      ]
     },
     "metadata": {},
     "output_type": "display_data"
    }
   ],
   "source": [
    "plot_cancel_prop(bookings, \"children\")"
   ]
  },
  {
   "cell_type": "markdown",
   "metadata": {},
   "source": [
    "It looks like having more than one children involves having a greater cancelation rate than the average. Again, people with children seem to be a minority here."
   ]
  },
  {
   "cell_type": "markdown",
   "metadata": {
    "scrolled": false
   },
   "source": [
    "#### Adults"
   ]
  },
  {
   "cell_type": "code",
   "execution_count": 78,
   "metadata": {
    "scrolled": false
   },
   "outputs": [
    {
     "data": {
      "text/plain": [
       "2     89680\n",
       "1     23027\n",
       "3      6202\n",
       "0       391\n",
       "4        62\n",
       "26        5\n",
       "27        2\n",
       "20        2\n",
       "5         2\n",
       "55        1\n",
       "50        1\n",
       "40        1\n",
       "10        1\n",
       "6         1\n",
       "Name: adults, dtype: int64"
      ]
     },
     "execution_count": 78,
     "metadata": {},
     "output_type": "execute_result"
    }
   ],
   "source": [
    "bookings.adults.value_counts()"
   ]
  },
  {
   "cell_type": "markdown",
   "metadata": {},
   "source": [
    "The more normal travel mode is 'couple'. There are a few reservations with no adults."
   ]
  },
  {
   "cell_type": "code",
   "execution_count": 79,
   "metadata": {
    "scrolled": true
   },
   "outputs": [
    {
     "data": {
      "text/plain": [
       "(2    0.751718\n",
       " 1    0.193018\n",
       " 3    0.051987\n",
       " 0    0.003277\n",
       " Name: adults, dtype: float64,\n",
       " <seaborn.axisgrid.FacetGrid at 0x1bfa5b82788>)"
      ]
     },
     "execution_count": 79,
     "metadata": {},
     "output_type": "execute_result"
    },
    {
     "data": {
      "image/png": "[encoded data removed]",
      "text/plain": [
       "<Figure size 720x360 with 2 Axes>"
      ]
     },
     "metadata": {},
     "output_type": "display_data"
    }
   ],
   "source": [
    "plot_cancel_prop(bookings[bookings.adults < 4], \"adults\")"
   ]
  },
  {
   "cell_type": "markdown",
   "metadata": {},
   "source": [
    "It looks like people who travel alone tend to cancel less. In resort hotels, rate of cancellation for couples is above the mean. We'll create a new feature to reflect that."
   ]
  },
  {
   "cell_type": "code",
   "execution_count": 80,
   "metadata": {},
   "outputs": [
    {
     "name": "stderr",
     "output_type": "stream",
     "text": [
      "C:\\Users\\marti\\anaconda3\\lib\\site-packages\\ipykernel_launcher.py:1: SettingWithCopyWarning: \n",
      "A value is trying to be set on a copy of a slice from a DataFrame.\n",
      "Try using .loc[row_indexer,col_indexer] = value instead\n",
      "\n",
      "See the caveats in the documentation: https://pandas.pydata.org/pandas-docs/stable/user_guide/indexing.html#returning-a-view-versus-a-copy\n",
      "  \"\"\"Entry point for launching an IPython kernel.\n"
     ]
    }
   ],
   "source": [
    "bookings['travels_alone'] = bookings['adults'] <= 1"
   ]
  },
  {
   "cell_type": "markdown",
   "metadata": {},
   "source": [
    "#### Meal"
   ]
  },
  {
   "cell_type": "code",
   "execution_count": 81,
   "metadata": {
    "scrolled": false
   },
   "outputs": [
    {
     "data": {
      "text/plain": [
       "(BB           0.773258\n",
       " HB           0.121153\n",
       " SC           0.089112\n",
       " Undefined    0.009792\n",
       " FB           0.006685\n",
       " Name: meal, dtype: float64,\n",
       " <seaborn.axisgrid.FacetGrid at 0x1bfb15e4f48>)"
      ]
     },
     "execution_count": 81,
     "metadata": {},
     "output_type": "execute_result"
    },
    {
     "data": {
      "image/png": "[encoded data removed]",
      "text/plain": [
       "<Figure size 720x360 with 2 Axes>"
      ]
     },
     "metadata": {},
     "output_type": "display_data"
    }
   ],
   "source": [
    "plot_cancel_prop(bookings, \"meal\")"
   ]
  },
  {
   "cell_type": "markdown",
   "metadata": {},
   "source": [
    "Cancellations for Full Board are well above the average, but then again, the number of customer who chose this type of meal is very minimal (0.7 %)."
   ]
  },
  {
   "cell_type": "markdown",
   "metadata": {},
   "source": [
    "#### country "
   ]
  },
  {
   "cell_type": "code",
   "execution_count": 82,
   "metadata": {
    "scrolled": true
   },
   "outputs": [
    {
     "data": {
      "text/plain": [
       "178"
      ]
     },
     "execution_count": 82,
     "metadata": {},
     "output_type": "execute_result"
    }
   ],
   "source": [
    "len(bookings.country.unique())"
   ]
  },
  {
   "cell_type": "markdown",
   "metadata": {},
   "source": [
    "Two many categories for countries. Let's see what are the country of origin with more reservations"
   ]
  },
  {
   "cell_type": "code",
   "execution_count": 83,
   "metadata": {
    "scrolled": false
   },
   "outputs": [
    {
     "data": {
      "text/html": [
       "<div>\n",
       "<style scoped>\n",
       "    .dataframe tbody tr th:only-of-type {\n",
       "        vertical-align: middle;\n",
       "    }\n",
       "\n",
       "    .dataframe tbody tr th {\n",
       "        vertical-align: top;\n",
       "    }\n",
       "\n",
       "    .dataframe thead th {\n",
       "        text-align: right;\n",
       "    }\n",
       "</style>\n",
       "<table border=\"1\" class=\"dataframe\">\n",
       "  <thead>\n",
       "    <tr style=\"text-align: right;\">\n",
       "      <th></th>\n",
       "      <th>f</th>\n",
       "      <th>F</th>\n",
       "    </tr>\n",
       "  </thead>\n",
       "  <tbody>\n",
       "    <tr>\n",
       "      <th>PRT</th>\n",
       "      <td>0.408646</td>\n",
       "      <td>0.408646</td>\n",
       "    </tr>\n",
       "    <tr>\n",
       "      <th>GBR</th>\n",
       "      <td>0.102010</td>\n",
       "      <td>0.510656</td>\n",
       "    </tr>\n",
       "    <tr>\n",
       "      <th>FRA</th>\n",
       "      <td>0.087595</td>\n",
       "      <td>0.598251</td>\n",
       "    </tr>\n",
       "    <tr>\n",
       "      <th>ESP</th>\n",
       "      <td>0.072061</td>\n",
       "      <td>0.670311</td>\n",
       "    </tr>\n",
       "    <tr>\n",
       "      <th>DEU</th>\n",
       "      <td>0.061287</td>\n",
       "      <td>0.731598</td>\n",
       "    </tr>\n",
       "    <tr>\n",
       "      <th>ITA</th>\n",
       "      <td>0.031674</td>\n",
       "      <td>0.763272</td>\n",
       "    </tr>\n",
       "    <tr>\n",
       "      <th>IRL</th>\n",
       "      <td>0.028385</td>\n",
       "      <td>0.791657</td>\n",
       "    </tr>\n",
       "    <tr>\n",
       "      <th>BEL</th>\n",
       "      <td>0.019697</td>\n",
       "      <td>0.811354</td>\n",
       "    </tr>\n",
       "    <tr>\n",
       "      <th>BRA</th>\n",
       "      <td>0.018705</td>\n",
       "      <td>0.830059</td>\n",
       "    </tr>\n",
       "    <tr>\n",
       "      <th>NLD</th>\n",
       "      <td>0.017696</td>\n",
       "      <td>0.847754</td>\n",
       "    </tr>\n",
       "  </tbody>\n",
       "</table>\n",
       "</div>"
      ],
      "text/plain": [
       "            f         F\n",
       "PRT  0.408646  0.408646\n",
       "GBR  0.102010  0.510656\n",
       "FRA  0.087595  0.598251\n",
       "ESP  0.072061  0.670311\n",
       "DEU  0.061287  0.731598\n",
       "ITA  0.031674  0.763272\n",
       "IRL  0.028385  0.791657\n",
       "BEL  0.019697  0.811354\n",
       "BRA  0.018705  0.830059\n",
       "NLD  0.017696  0.847754"
      ]
     },
     "execution_count": 83,
     "metadata": {},
     "output_type": "execute_result"
    }
   ],
   "source": [
    "sort_categories_distrib(bookings, \"country\").head(10)"
   ]
  },
  {
   "cell_type": "markdown",
   "metadata": {},
   "source": [
    "With the first 7 countries we reach a 70 % of the reservations"
   ]
  },
  {
   "cell_type": "code",
   "execution_count": 84,
   "metadata": {},
   "outputs": [
    {
     "name": "stderr",
     "output_type": "stream",
     "text": [
      "C:\\Users\\marti\\anaconda3\\lib\\site-packages\\ipykernel_launcher.py:1: SettingWithCopyWarning: \n",
      "A value is trying to be set on a copy of a slice from a DataFrame.\n",
      "Try using .loc[row_indexer,col_indexer] = value instead\n",
      "\n",
      "See the caveats in the documentation: https://pandas.pydata.org/pandas-docs/stable/user_guide/indexing.html#returning-a-view-versus-a-copy\n",
      "  \"\"\"Entry point for launching an IPython kernel.\n"
     ]
    }
   ],
   "source": [
    "bookings['country_grouped'] = group_main_categories(bookings, \"country\", 7)"
   ]
  },
  {
   "cell_type": "code",
   "execution_count": 85,
   "metadata": {
    "scrolled": true
   },
   "outputs": [
    {
     "data": {
      "text/plain": [
       "(PRT      0.407010\n",
       " other    0.211513\n",
       " GBR      0.101602\n",
       " FRA      0.087244\n",
       " ESP      0.071772\n",
       " DEU      0.061041\n",
       " ITA      0.031547\n",
       " IRL      0.028272\n",
       " Name: country_grouped, dtype: float64,\n",
       " <seaborn.axisgrid.FacetGrid at 0x1bfb1fedf88>)"
      ]
     },
     "execution_count": 85,
     "metadata": {},
     "output_type": "execute_result"
    },
    {
     "data": {
      "image/png": "[encoded data removed]",
      "text/plain": [
       "<Figure size 720x360 with 2 Axes>"
      ]
     },
     "metadata": {},
     "output_type": "display_data"
    }
   ],
   "source": [
    "plot_cancel_prop(bookings, 'country_grouped')"
   ]
  },
  {
   "cell_type": "markdown",
   "metadata": {},
   "source": [
    "Portuguese tend to cancel well above the average. Plus, they are an important market.\n",
    "\n",
    "We built variable market origin local to represent the fact that locals are the ones we have to put our eyes on"
   ]
  },
  {
   "cell_type": "code",
   "execution_count": 86,
   "metadata": {},
   "outputs": [
    {
     "name": "stderr",
     "output_type": "stream",
     "text": [
      "C:\\Users\\marti\\anaconda3\\lib\\site-packages\\ipykernel_launcher.py:1: SettingWithCopyWarning: \n",
      "A value is trying to be set on a copy of a slice from a DataFrame.\n",
      "Try using .loc[row_indexer,col_indexer] = value instead\n",
      "\n",
      "See the caveats in the documentation: https://pandas.pydata.org/pandas-docs/stable/user_guide/indexing.html#returning-a-view-versus-a-copy\n",
      "  \"\"\"Entry point for launching an IPython kernel.\n"
     ]
    }
   ],
   "source": [
    "bookings['market_origin_local'] = bookings['country'] == \"PRT\""
   ]
  },
  {
   "cell_type": "markdown",
   "metadata": {},
   "source": [
    "#### Market segment "
   ]
  },
  {
   "cell_type": "code",
   "execution_count": 87,
   "metadata": {
    "scrolled": false
   },
   "outputs": [
    {
     "data": {
      "text/plain": [
       "(Online TA        0.473077\n",
       " Offline TA/TO    0.202860\n",
       " Groups           0.165952\n",
       " Direct           0.105597\n",
       " Corporate        0.044347\n",
       " Complementary    0.006165\n",
       " Aviation         0.001985\n",
       " Undefined        0.000017\n",
       " Name: market_segment, dtype: float64,\n",
       " <seaborn.axisgrid.FacetGrid at 0x1bfa6b4ddc8>)"
      ]
     },
     "execution_count": 87,
     "metadata": {},
     "output_type": "execute_result"
    },
    {
     "data": {
      "image/png": "[encoded data removed]",
      "text/plain": [
       "<Figure size 1080x360 with 2 Axes>"
      ]
     },
     "metadata": {},
     "output_type": "display_data"
    }
   ],
   "source": [
    "plot_cancel_prop(bookings, \"market_segment\", aspect = 1.5)"
   ]
  },
  {
   "cell_type": "markdown",
   "metadata": {},
   "source": [
    "Groups and onlne TA tend to cancel above the average in resort hotels. In hotels, also groups, but unidentified segment too, tend to canel more"
   ]
  },
  {
   "cell_type": "markdown",
   "metadata": {},
   "source": [
    "#### distribution channel"
   ]
  },
  {
   "cell_type": "code",
   "execution_count": 88,
   "metadata": {
    "scrolled": false
   },
   "outputs": [
    {
     "data": {
      "text/plain": [
       "(TA/TO        0.819799\n",
       " Direct       0.122669\n",
       " Corporate    0.055873\n",
       " GDS          0.001617\n",
       " Undefined    0.000042\n",
       " Name: distribution_channel, dtype: float64,\n",
       " <seaborn.axisgrid.FacetGrid at 0x1bfa6b531c8>)"
      ]
     },
     "execution_count": 88,
     "metadata": {},
     "output_type": "execute_result"
    },
    {
     "data": {
      "image/png": "[encoded data removed]",
      "text/plain": [
       "<Figure size 720x360 with 2 Axes>"
      ]
     },
     "metadata": {},
     "output_type": "display_data"
    }
   ],
   "source": [
    "plot_cancel_prop(bookings, \"distribution_channel\")"
   ]
  },
  {
   "cell_type": "markdown",
   "metadata": {},
   "source": [
    "TA and undefined (for city hotels) tend to cancel Above the mean"
   ]
  },
  {
   "cell_type": "markdown",
   "metadata": {},
   "source": [
    "#### days in waiting list "
   ]
  },
  {
   "cell_type": "code",
   "execution_count": 89,
   "metadata": {
    "scrolled": false
   },
   "outputs": [
    {
     "data": {
      "text/plain": [
       "0      115680\n",
       "39        227\n",
       "58        164\n",
       "44        141\n",
       "31        127\n",
       "        ...  \n",
       "175         1\n",
       "117         1\n",
       "89          1\n",
       "92          1\n",
       "183         1\n",
       "Name: days_in_waiting_list, Length: 128, dtype: int64"
      ]
     },
     "execution_count": 89,
     "metadata": {},
     "output_type": "execute_result"
    }
   ],
   "source": [
    "bookings.days_in_waiting_list.value_counts()\n"
   ]
  },
  {
   "cell_type": "markdown",
   "metadata": {},
   "source": [
    "Too many values and outliers for days_in_waiting_list. Let's check which are the most common."
   ]
  },
  {
   "cell_type": "code",
   "execution_count": 90,
   "metadata": {
    "scrolled": false
   },
   "outputs": [
    {
     "data": {
      "text/html": [
       "<div>\n",
       "<style scoped>\n",
       "    .dataframe tbody tr th:only-of-type {\n",
       "        vertical-align: middle;\n",
       "    }\n",
       "\n",
       "    .dataframe tbody tr th {\n",
       "        vertical-align: top;\n",
       "    }\n",
       "\n",
       "    .dataframe thead th {\n",
       "        text-align: right;\n",
       "    }\n",
       "</style>\n",
       "<table border=\"1\" class=\"dataframe\">\n",
       "  <thead>\n",
       "    <tr style=\"text-align: right;\">\n",
       "      <th></th>\n",
       "      <th>f</th>\n",
       "      <th>F</th>\n",
       "    </tr>\n",
       "  </thead>\n",
       "  <tbody>\n",
       "    <tr>\n",
       "      <th>0</th>\n",
       "      <td>0.969023</td>\n",
       "      <td>0.969023</td>\n",
       "    </tr>\n",
       "    <tr>\n",
       "      <th>39</th>\n",
       "      <td>0.001902</td>\n",
       "      <td>0.970924</td>\n",
       "    </tr>\n",
       "    <tr>\n",
       "      <th>58</th>\n",
       "      <td>0.001374</td>\n",
       "      <td>0.972298</td>\n",
       "    </tr>\n",
       "    <tr>\n",
       "      <th>44</th>\n",
       "      <td>0.001181</td>\n",
       "      <td>0.973479</td>\n",
       "    </tr>\n",
       "    <tr>\n",
       "      <th>31</th>\n",
       "      <td>0.001064</td>\n",
       "      <td>0.974543</td>\n",
       "    </tr>\n",
       "    <tr>\n",
       "      <th>35</th>\n",
       "      <td>0.000804</td>\n",
       "      <td>0.975347</td>\n",
       "    </tr>\n",
       "    <tr>\n",
       "      <th>46</th>\n",
       "      <td>0.000787</td>\n",
       "      <td>0.976135</td>\n",
       "    </tr>\n",
       "    <tr>\n",
       "      <th>69</th>\n",
       "      <td>0.000746</td>\n",
       "      <td>0.976880</td>\n",
       "    </tr>\n",
       "    <tr>\n",
       "      <th>63</th>\n",
       "      <td>0.000695</td>\n",
       "      <td>0.977575</td>\n",
       "    </tr>\n",
       "    <tr>\n",
       "      <th>50</th>\n",
       "      <td>0.000670</td>\n",
       "      <td>0.978246</td>\n",
       "    </tr>\n",
       "  </tbody>\n",
       "</table>\n",
       "</div>"
      ],
      "text/plain": [
       "           f         F\n",
       "0   0.969023  0.969023\n",
       "39  0.001902  0.970924\n",
       "58  0.001374  0.972298\n",
       "44  0.001181  0.973479\n",
       "31  0.001064  0.974543\n",
       "35  0.000804  0.975347\n",
       "46  0.000787  0.976135\n",
       "69  0.000746  0.976880\n",
       "63  0.000695  0.977575\n",
       "50  0.000670  0.978246"
      ]
     },
     "execution_count": 90,
     "metadata": {},
     "output_type": "execute_result"
    }
   ],
   "source": [
    "sort_categories_distrib(bookings, \"days_in_waiting_list\").head(10)"
   ]
  },
  {
   "cell_type": "markdown",
   "metadata": {},
   "source": [
    "Most people don't wait: we'll create the variable 'in_waiting_list' to analyze the relationship of being waiting list with the target variable."
   ]
  },
  {
   "cell_type": "code",
   "execution_count": 91,
   "metadata": {},
   "outputs": [
    {
     "name": "stderr",
     "output_type": "stream",
     "text": [
      "C:\\Users\\marti\\anaconda3\\lib\\site-packages\\ipykernel_launcher.py:1: SettingWithCopyWarning: \n",
      "A value is trying to be set on a copy of a slice from a DataFrame.\n",
      "Try using .loc[row_indexer,col_indexer] = value instead\n",
      "\n",
      "See the caveats in the documentation: https://pandas.pydata.org/pandas-docs/stable/user_guide/indexing.html#returning-a-view-versus-a-copy\n",
      "  \"\"\"Entry point for launching an IPython kernel.\n"
     ]
    }
   ],
   "source": [
    "bookings['in_waiting_list'] = bookings['days_in_waiting_list'].apply(lambda x: x > 0)"
   ]
  },
  {
   "cell_type": "code",
   "execution_count": 92,
   "metadata": {
    "scrolled": true
   },
   "outputs": [
    {
     "data": {
      "text/plain": [
       "(False    0.969023\n",
       " True     0.030977\n",
       " Name: in_waiting_list, dtype: float64,\n",
       " <seaborn.axisgrid.FacetGrid at 0x1bfa5b03508>)"
      ]
     },
     "execution_count": 92,
     "metadata": {},
     "output_type": "execute_result"
    },
    {
     "data": {
      "image/png": "[encoded data removed]",
      "text/plain": [
       "<Figure size 720x360 with 2 Axes>"
      ]
     },
     "metadata": {},
     "output_type": "display_data"
    }
   ],
   "source": [
    "plot_cancel_prop(bookings, \"in_waiting_list\")"
   ]
  },
  {
   "cell_type": "markdown",
   "metadata": {},
   "source": [
    "Inverse relationship for resort hotels and city hotels: in city hotels people who are in waiting list tend to cancel way above the mean, whereas in resort hotels, the opposite is true."
   ]
  },
  {
   "cell_type": "markdown",
   "metadata": {},
   "source": [
    "#### Customer type"
   ]
  },
  {
   "cell_type": "code",
   "execution_count": 93,
   "metadata": {
    "scrolled": false
   },
   "outputs": [
    {
     "data": {
      "text/plain": [
       "(Transient          0.750574\n",
       " Transient-Party    0.210458\n",
       " Contract           0.034144\n",
       " Group              0.004825\n",
       " Name: customer_type, dtype: float64,\n",
       " <seaborn.axisgrid.FacetGrid at 0x1bfb1a64948>)"
      ]
     },
     "execution_count": 93,
     "metadata": {},
     "output_type": "execute_result"
    },
    {
     "data": {
      "image/png": "[encoded data removed]",
      "text/plain": [
       "<Figure size 720x360 with 2 Axes>"
      ]
     },
     "metadata": {},
     "output_type": "display_data"
    }
   ],
   "source": [
    "plot_cancel_prop(bookings, \"customer_type\")"
   ]
  },
  {
   "cell_type": "markdown",
   "metadata": {},
   "source": [
    "Transient cancel a little above the mean for resort hotels"
   ]
  },
  {
   "cell_type": "markdown",
   "metadata": {},
   "source": [
    "#### Required car parking spaces"
   ]
  },
  {
   "cell_type": "code",
   "execution_count": 94,
   "metadata": {
    "scrolled": false
   },
   "outputs": [
    {
     "data": {
      "text/plain": [
       "(0    0.937878\n",
       " 1    0.061846\n",
       " 2    0.000235\n",
       " 3    0.000025\n",
       " 8    0.000017\n",
       " Name: required_car_parking_spaces, dtype: float64,\n",
       " <seaborn.axisgrid.FacetGrid at 0x1bfa7d412c8>)"
      ]
     },
     "execution_count": 94,
     "metadata": {},
     "output_type": "execute_result"
    },
    {
     "data": {
      "image/png": "[encoded data removed]",
      "text/plain": [
       "<Figure size 720x360 with 2 Axes>"
      ]
     },
     "metadata": {},
     "output_type": "display_data"
    }
   ],
   "source": [
    "plot_cancel_prop(bookings, \"required_car_parking_spaces\")"
   ]
  },
  {
   "cell_type": "markdown",
   "metadata": {},
   "source": [
    "Variable with almos no variability. Useless in predictions"
   ]
  },
  {
   "cell_type": "markdown",
   "metadata": {},
   "source": [
    "#### Total of special requests"
   ]
  },
  {
   "cell_type": "code",
   "execution_count": 95,
   "metadata": {
    "scrolled": false
   },
   "outputs": [
    {
     "data": {
      "text/plain": [
       "(0    0.588936\n",
       " 1    0.278326\n",
       " 2    0.108638\n",
       " 3    0.020917\n",
       " 4    0.002848\n",
       " 5    0.000335\n",
       " Name: total_of_special_requests, dtype: float64,\n",
       " <seaborn.axisgrid.FacetGrid at 0x1bfa7d40c48>)"
      ]
     },
     "execution_count": 95,
     "metadata": {},
     "output_type": "execute_result"
    },
    {
     "data": {
      "image/png": "[encoded data removed]",
      "text/plain": [
       "<Figure size 720x360 with 2 Axes>"
      ]
     },
     "metadata": {},
     "output_type": "display_data"
    }
   ],
   "source": [
    "plot_cancel_prop(bookings, \"total_of_special_requests\")"
   ]
  },
  {
   "cell_type": "markdown",
   "metadata": {},
   "source": [
    "People who have spetial requests tend to cancel below the average, and it looks like the more spetial guests, the less liklehood for a cancellation."
   ]
  },
  {
   "cell_type": "markdown",
   "metadata": {},
   "source": [
    "#### ADR "
   ]
  },
  {
   "cell_type": "code",
   "execution_count": 96,
   "metadata": {
    "scrolled": false
   },
   "outputs": [
    {
     "name": "stderr",
     "output_type": "stream",
     "text": [
      "C:\\Users\\marti\\anaconda3\\lib\\site-packages\\seaborn\\axisgrid.py:28: UserWarning: Attempted to set non-positive bottom ylim on a log-scaled axis.\n",
      "Invalid limit will be ignored.\n",
      "  ax.set(**kwargs)\n"
     ]
    },
    {
     "data": {
      "text/plain": [
       "<seaborn.axisgrid.FacetGrid at 0x1bfbccd24c8>"
      ]
     },
     "execution_count": 96,
     "metadata": {},
     "output_type": "execute_result"
    },
    {
     "data": {
      "image/png": "[encoded data removed]",
      "text/plain": [
       "<Figure size 720x360 with 2 Axes>"
      ]
     },
     "metadata": {},
     "output_type": "display_data"
    }
   ],
   "source": [
    "# fig, ax = plt.subplots()\n",
    "g = sns.catplot(x = \"is_canceled\", y = \"adr\", data = bookings, kind = \"box\", hue = \"is_canceled\", col = \"hotel\")\n",
    "g.set(yscale=\"log\", ylim = (0, 1000))\n"
   ]
  },
  {
   "cell_type": "markdown",
   "metadata": {},
   "source": [
    "For people in resorts bookings canceled tend to have higher ADR. Maybe there is a difference in resort"
   ]
  },
  {
   "cell_type": "markdown",
   "metadata": {},
   "source": [
    "#### Summary of findings\n",
    "\n",
    "Cancelation percentage over bookings is 37 %. 27 % for the resort hotel and 41 % for the city hotel\n",
    "\n",
    "Variables with more predictive potential based on the exploratory analysis\n",
    "\n",
    "- **hotel**: In the resort hotel 27 % of reservation are canceled while the city hotel is 41 %.\n",
    "\n",
    "- **is_repeated_guest**: Very few cancelations for repeated guests though only 3 % of guests repeat.\n",
    "\n",
    "- **has_previous_cancellations**: reservations with previous cancelations tend to cancel more but they represent only a 5 % of total bookinggs.\n",
    "\n",
    "- **deposit_type**: High levels con cancellations for non-refundable bookings. Which amount for 12 % of bookings.\n",
    "\n",
    "- **lead_time_weeks**: there is a clear positive relationship between proportion of bookings canceled and lead time.\n",
    "\n",
    "- **agent_grouped**: there are some agents whose reservations are clearly above average.\n",
    "\n",
    "- **company_grouped**: Bookings for the two main companies are canceled below the average.\n",
    "\n",
    "- **children**: people with children tend to cancel more than the average (though they only represent a 3 % of the bookings).\n",
    "\n",
    "- **adults**: people who travel alone tend to cancel less (19 % of the bookings fall into this group).\n",
    "\n",
    "- **country_grouped**: Portuguese (local market) tend to cancel a lot more, and they are the most abundant (40 % of the reservations).\n",
    "\n",
    "- **market_segment**: online TA in resort and groups en city tend to cancel more.\n",
    "\n",
    "- **customer_type**: among the important categories, Groups and transient-party tend to cancel less than the average.\n",
    "\n",
    "- **total_spetial_requests**: people who have spetial requests tend to cancel below the average, specially in the city hotel.\n",
    "\n",
    "- **adr**: it looks like it could have an influence in resort hotels."
   ]
  },
  {
   "cell_type": "markdown",
   "metadata": {},
   "source": [
    "For interpretability reasons, since there could be multicolinearity between adr and other variables like deposit type, we'll not use it in our model."
   ]
  },
  {
   "cell_type": "markdown",
   "metadata": {},
   "source": [
    "### Modeling"
   ]
  },
  {
   "cell_type": "markdown",
   "metadata": {},
   "source": [
    "**Pick variables for modeling**"
   ]
  },
  {
   "cell_type": "code",
   "execution_count": 97,
   "metadata": {
    "scrolled": true
   },
   "outputs": [],
   "source": [
    "df_model = bookings[['is_canceled', 'hotel', 'market_origin_local', 'total_of_special_requests', \n",
    "                     'lead_time_weeks', 'deposit_type', 'travels_alone', 'agent_grouped', 'is_repeated_guest', \n",
    "                     'has_previous_cancellations', 'children', 'market_segment', \n",
    "                     'customer_type', 'company_grouped', 'arrival_date_month', 'arrival_date_month', 'booking_month']]"
   ]
  },
  {
   "cell_type": "markdown",
   "metadata": {},
   "source": [
    "**Filling na values**"
   ]
  },
  {
   "cell_type": "markdown",
   "metadata": {},
   "source": [
    "Agent is the only variable with missing values. We'll proceed to flag this values with the name 'missing'"
   ]
  },
  {
   "cell_type": "code",
   "execution_count": 98,
   "metadata": {
    "scrolled": true
   },
   "outputs": [
    {
     "name": "stderr",
     "output_type": "stream",
     "text": [
      "C:\\Users\\marti\\anaconda3\\lib\\site-packages\\ipykernel_launcher.py:2: SettingWithCopyWarning: \n",
      "A value is trying to be set on a copy of a slice from a DataFrame.\n",
      "Try using .loc[row_indexer,col_indexer] = value instead\n",
      "\n",
      "See the caveats in the documentation: https://pandas.pydata.org/pandas-docs/stable/user_guide/indexing.html#returning-a-view-versus-a-copy\n",
      "  \n"
     ]
    }
   ],
   "source": [
    "# df_model['agent'] = df_model['agent'].fillna('missing')\n",
    "df_model['children'] = df_model['children'].fillna('missing')"
   ]
  },
  {
   "cell_type": "markdown",
   "metadata": {},
   "source": [
    "**Model matrices and creation of dummy variables**"
   ]
  },
  {
   "cell_type": "code",
   "execution_count": 99,
   "metadata": {},
   "outputs": [],
   "source": [
    "# extracting the response variable and assigning it to the y array\n",
    "df_response = df_model.drop('is_canceled', axis = 1)\n",
    "y = df_model['is_canceled']\n",
    "\n",
    "# getting dummies and assign the data to the X array\n",
    "X = pd.get_dummies(df_response)"
   ]
  },
  {
   "cell_type": "markdown",
   "metadata": {},
   "source": [
    "#### Data split"
   ]
  },
  {
   "cell_type": "code",
   "execution_count": 100,
   "metadata": {
    "scrolled": true
   },
   "outputs": [],
   "source": [
    "X_train, X_test, y_train, y_test = train_test_split(X, y, test_size = .3, random_state = 123)"
   ]
  },
  {
   "cell_type": "markdown",
   "metadata": {},
   "source": [
    "#### Model selection"
   ]
  },
  {
   "cell_type": "markdown",
   "metadata": {},
   "source": [
    "We confronted logistic regression with a random forest classifier, giving the latter systemmatically better results than the former.\n",
    "\n",
    "We include here the model selection for the random forest classifier"
   ]
  },
  {
   "cell_type": "code",
   "execution_count": 101,
   "metadata": {},
   "outputs": [],
   "source": [
    "# creation of Random Forest classifier\n",
    "rf = RandomForestClassifier(random_state = 123, oob_score = True)\n",
    "\n",
    "# hyperparameters\n",
    "params_rf = {'n_estimators': [100, 250, 500], \n",
    "             'max_features': ['log2', 'auto', 'sqrt']}\n",
    "\n",
    "# Cross validation with grid search\n",
    "grid_rf = GridSearchCV(estimator = rf, param_grid = params_rf, verbose = 1, n_jobs = 2)"
   ]
  },
  {
   "cell_type": "code",
   "execution_count": 102,
   "metadata": {},
   "outputs": [
    {
     "name": "stdout",
     "output_type": "stream",
     "text": [
      "Fitting 5 folds for each of 9 candidates, totalling 45 fits\n"
     ]
    },
    {
     "name": "stderr",
     "output_type": "stream",
     "text": [
      "[Parallel(n_jobs=2)]: Using backend LokyBackend with 2 concurrent workers.\n",
      "[Parallel(n_jobs=2)]: Done  45 out of  45 | elapsed: 12.3min finished\n"
     ]
    },
    {
     "data": {
      "text/plain": [
       "GridSearchCV(estimator=RandomForestClassifier(oob_score=True, random_state=123),\n",
       "             n_jobs=2,\n",
       "             param_grid={'max_features': ['log2', 'auto', 'sqrt'],\n",
       "                         'n_estimators': [100, 250, 500]},\n",
       "             verbose=1)"
      ]
     },
     "execution_count": 102,
     "metadata": {},
     "output_type": "execute_result"
    }
   ],
   "source": [
    "# model fitting\n",
    "grid_rf.fit(X_train, y_train)"
   ]
  },
  {
   "cell_type": "code",
   "execution_count": 103,
   "metadata": {},
   "outputs": [
    {
     "data": {
      "text/plain": [
       "0.8496601407304581"
      ]
     },
     "execution_count": 103,
     "metadata": {},
     "output_type": "execute_result"
    }
   ],
   "source": [
    "# getting best model and OOB cv score\n",
    "best_model = grid_rf.best_estimator_\n",
    "best_model.oob_score_"
   ]
  },
  {
   "cell_type": "code",
   "execution_count": 104,
   "metadata": {},
   "outputs": [
    {
     "data": {
      "text/plain": [
       "RandomForestClassifier(n_estimators=250, oob_score=True, random_state=123)"
      ]
     },
     "execution_count": 104,
     "metadata": {},
     "output_type": "execute_result"
    }
   ],
   "source": [
    "best_model"
   ]
  },
  {
   "cell_type": "markdown",
   "metadata": {},
   "source": [
    "#### Best model fitting on entire training set"
   ]
  },
  {
   "cell_type": "code",
   "execution_count": 105,
   "metadata": {
    "scrolled": true
   },
   "outputs": [
    {
     "data": {
      "text/plain": [
       "RandomForestClassifier(n_estimators=250, oob_score=True, random_state=123)"
      ]
     },
     "execution_count": 105,
     "metadata": {},
     "output_type": "execute_result"
    }
   ],
   "source": [
    "best_model.fit(X_train, y_train)"
   ]
  },
  {
   "cell_type": "markdown",
   "metadata": {},
   "source": [
    "#### Model prediction"
   ]
  },
  {
   "cell_type": "code",
   "execution_count": 106,
   "metadata": {},
   "outputs": [],
   "source": [
    "y_pred_rf = best_model.predict(X_test)\n",
    "y_pred_proba = best_model.predict_proba(X_test)[:,1]"
   ]
  },
  {
   "cell_type": "markdown",
   "metadata": {},
   "source": [
    "#### Model evaluation"
   ]
  },
  {
   "cell_type": "code",
   "execution_count": 107,
   "metadata": {
    "scrolled": true
   },
   "outputs": [
    {
     "data": {
      "text/plain": [
       "0.9199612988478018"
      ]
     },
     "execution_count": 107,
     "metadata": {},
     "output_type": "execute_result"
    }
   ],
   "source": [
    "roc_auc_score(y_test, y_pred_proba)"
   ]
  },
  {
   "cell_type": "code",
   "execution_count": 108,
   "metadata": {
    "scrolled": true
   },
   "outputs": [
    {
     "name": "stdout",
     "output_type": "stream",
     "text": [
      "[[20235  2328]\n",
      " [ 3080 10171]]\n",
      "              precision    recall  f1-score   support\n",
      "\n",
      "           0       0.87      0.90      0.88     22563\n",
      "           1       0.81      0.77      0.79     13251\n",
      "\n",
      "    accuracy                           0.85     35814\n",
      "   macro avg       0.84      0.83      0.84     35814\n",
      "weighted avg       0.85      0.85      0.85     35814\n",
      "\n"
     ]
    }
   ],
   "source": [
    "print(confusion_matrix(y_test, y_pred_rf))\n",
    "print(classification_report(y_test, y_pred_rf))"
   ]
  },
  {
   "cell_type": "markdown",
   "metadata": {},
   "source": [
    "The model has an accuracy of 0.85, a recall of 0.77, and an f1 score of 0.79"
   ]
  },
  {
   "cell_type": "markdown",
   "metadata": {},
   "source": [
    "##### Feature importance "
   ]
  },
  {
   "cell_type": "code",
   "execution_count": 109,
   "metadata": {
    "scrolled": false
   },
   "outputs": [
    {
     "data": {
      "image/png": "[encoded data removed]",
      "text/plain": [
       "<Figure size 560x1440 with 1 Axes>"
      ]
     },
     "metadata": {},
     "output_type": "display_data"
    }
   ],
   "source": [
    "fig=plt.figure(figsize=(7, 18), dpi= 80, facecolor='w', edgecolor='k')\n",
    "importances = pd.Series(data=best_model.feature_importances_,\n",
    "                        index= X_train.columns)\n",
    "\n",
    "importances_sorted = importances.sort_values()\n",
    "importances_sorted.plot(kind = \"barh\", color = \"lightgreen\")\n",
    "plt.show()"
   ]
  },
  {
   "cell_type": "markdown",
   "metadata": {},
   "source": [
    "Lead time, market of ogirin, the deposit type and the number of spetial requests are the most important features when predicting for future cancelations."
   ]
  }
 ],
 "metadata": {
  "kernelspec": {
   "display_name": "Python 3",
   "language": "python",
   "name": "python3"
  },
  "language_info": {
   "codemirror_mode": {
    "name": "ipython",
    "version": 3
   },
   "file_extension": ".py",
   "mimetype": "text/x-python",
   "name": "python",
   "nbconvert_exporter": "python",
   "pygments_lexer": "ipython3",
   "version": "3.7.3"
  }
 },
 "nbformat": 4,
 "nbformat_minor": 4
}
